{
 "cells": [
  {
   "cell_type": "code",
   "execution_count": 1,
   "metadata": {},
   "outputs": [],
   "source": [
    "import pandas as pd\n",
    "import glob\n",
    "import xml.etree.ElementTree as ET"
   ]
  },
  {
   "cell_type": "code",
   "execution_count": 2,
   "metadata": {},
   "outputs": [],
   "source": [
    "x1 = pd.read_xml('./busstop_output.xml')"
   ]
  },
  {
   "cell_type": "code",
   "execution_count": 3,
   "metadata": {},
   "outputs": [],
   "source": [
    "tree = ET.parse('busstop_output.xml')\n",
    "root = tree.getroot()"
   ]
  },
  {
   "cell_type": "code",
   "execution_count": 5,
   "metadata": {},
   "outputs": [],
   "source": [
    "df = pd.DataFrame()\n",
    "cnt = 0\n",
    "for stop in root.iter('stops'):\n",
    "    for stpinf in stop.findall('stopinfo'):\n",
    "        # print(stpinf.attrib)\n",
    "        df.loc[cnt, 'id'] = stpinf.attrib['id']\n",
    "        df.loc[cnt, 'type'] = stpinf.attrib['type']\n",
    "        try:df.loc[cnt, 'busStop'] = stpinf.attrib['busStop']\n",
    "        except:pass\n",
    "        df.loc[cnt, 'lane'] = stpinf.attrib['lane']\n",
    "        df.loc[cnt, 'pos'] = stpinf.attrib['pos']\n",
    "        df.loc[cnt, 'parking'] = stpinf.attrib['parking']\n",
    "        df.loc[cnt, 'started'] = stpinf.attrib['started']\n",
    "        df.loc[cnt, 'ended'] = stpinf.attrib['ended']\n",
    "        df.loc[cnt, 'delay'] = stpinf.attrib['delay']\n",
    "        try:df.loc[cnt, 'arrivalDelay'] = stpinf.attrib['arrivalDelay']\n",
    "        except:pass\n",
    "        df.loc[cnt, 'initialPersons'] = stpinf.attrib['initialPersons']\n",
    "        df.loc[cnt, 'loadedPersons'] = stpinf.attrib['loadedPersons']\n",
    "        df.loc[cnt, 'unloadedPersons'] = stpinf.attrib['unloadedPersons']\n",
    "        df.loc[cnt, 'initialContainers'] = stpinf.attrib['initialContainers']\n",
    "        df.loc[cnt, 'loadedContainers'] = stpinf.attrib['loadedContainers']\n",
    "        df.loc[cnt, 'unloadedContainers'] = stpinf.attrib['unloadedContainers']\n",
    "        cnt+=1"
   ]
  },
  {
   "cell_type": "code",
   "execution_count": 7,
   "metadata": {},
   "outputs": [],
   "source": [
    "df.busStop = df.busStop.astype(str)\n",
    "df.busStop = df.busStop.apply(lambda x: x.split('-')[0])\n",
    "df = df.sort_values(by=['id', 'started'])\n",
    "df.started = df.started.apply(lambda x: int(float(x)))"
   ]
  },
  {
   "cell_type": "code",
   "execution_count": 8,
   "metadata": {},
   "outputs": [],
   "source": [
    "def time_conv(x):\n",
    "    h, m, s = x.split(':')\n",
    "    return int(h) * 3600 + int(m) * 60 + int(s)"
   ]
  },
  {
   "cell_type": "code",
   "execution_count": 105,
   "metadata": {},
   "outputs": [],
   "source": [
    "gtfs_data = pd.read_csv('./trips_vid_time_stops_GTFS_20220111.csv')\n",
    "gtfs_data = gtfs_data.dropna()\n",
    "gtfs_data.first_stop_id = gtfs_data.first_stop_id.astype(int).astype(str)\n",
    "gtfs_data.last_stop_id = gtfs_data.last_stop_id.astype(int).astype(str)\n",
    "gtfs_data.vid = gtfs_data.vid.astype(str)"
   ]
  },
  {
   "cell_type": "code",
   "execution_count": 106,
   "metadata": {},
   "outputs": [],
   "source": [
    "gtfs_data.gtfs_start_time = gtfs_data.gtfs_start_time.apply(lambda x: time_conv(x))\n",
    "gtfs_data.gtfs_end_time = gtfs_data.gtfs_end_time.apply(lambda x: time_conv(x))"
   ]
  },
  {
   "cell_type": "code",
   "execution_count": 135,
   "metadata": {},
   "outputs": [],
   "source": [
    "df = df.sort_values(['id', 'started'])\n",
    "gtfs_data = gtfs_data.sort_values(['vid', 'gtfs_start_time'])"
   ]
  },
  {
   "cell_type": "code",
   "execution_count": 144,
   "metadata": {},
   "outputs": [],
   "source": [
    "#based on start time\n",
    "df2 = df.sort_values(['id', 'started']).merge(gtfs_data.sort_values(['vid', 'gtfs_start_time']), left_on = ['id', 'busStop'], right_on = ['vid', 'first_stop_id'], how='right')\n",
    "df2['start_diff'] = abs(df2.gtfs_start_time - df2.started)\n",
    "df2 = df2.sort_values(['id', 'start_diff', 'started']).reset_index(drop=True)\n",
    "# df2 = df2.dropna()"
   ]
  },
  {
   "cell_type": "code",
   "execution_count": 198,
   "metadata": {},
   "outputs": [],
   "source": [
    "df2_merged = df2.groupby(['trip_id']).first().reset_index().dropna().sort_values('started')\n",
    "df2_merged.trip_id = df2_merged.trip_id.astype(int).astype(str) \n",
    "df2_merged.block_id = df2_merged.block_id.astype(int).astype(str) "
   ]
  },
  {
   "cell_type": "code",
   "execution_count": 208,
   "metadata": {},
   "outputs": [],
   "source": [
    "df_w_trips = df.merge(df2_merged[['trip_id', 'route_id', 'block_id', 'id', 'started']], on=['id', 'started'], how='left')\n",
    "# .dropna(subset=['trip_id'])"
   ]
  },
  {
   "cell_type": "code",
   "execution_count": 209,
   "metadata": {},
   "outputs": [],
   "source": [
    "import numpy as np\n",
    "trpid = ''\n",
    "routeid = ''\n",
    "blockid = ''\n",
    "for idx, val in df_w_trips.iterrows():\n",
    "    if val.trip_id is not np.nan:\n",
    "        trpid = val.trip_id\n",
    "        routeid = val.route_id\n",
    "        blockid = val.block_id\n",
    "    if val.trip_id is np.nan:\n",
    "        # print(val.trip_id)\n",
    "        df_w_trips.loc[idx, 'trip_id'] = trpid\n",
    "        df_w_trips.loc[idx, 'route_id'] = routeid\n",
    "        df_w_trips.loc[idx, 'block_id'] = blockid\n",
    "    "
   ]
  },
  {
   "cell_type": "code",
   "execution_count": 211,
   "metadata": {},
   "outputs": [],
   "source": [
    "df_w_trips.to_csv('trips_from_blocks.csv')"
   ]
  },
  {
   "cell_type": "code",
   "execution_count": 212,
   "metadata": {},
   "outputs": [],
   "source": [
    "# df.merge(gtfs_data, left_on=['id', 'busStop'], right_on=['vid', 'first_stop_id'], how='left').dropna()"
   ]
  },
  {
   "cell_type": "code",
   "execution_count": 116,
   "metadata": {},
   "outputs": [],
   "source": [
    "#exporting bus stop info with initial person load\n",
    "df2.groupby(['trip_id']).first().reset_index().dropna().sort_values('started').to_csv('busstop_info_new.csv', index=False)\n",
    "# .merge(df, on=['id', 'started'], how='left').sort_values('started')"
   ]
  },
  {
   "cell_type": "code",
   "execution_count": 54,
   "metadata": {},
   "outputs": [],
   "source": [
    "#choosing the shortest delay between gtfs start time and sim start time as the corresponding trip\n",
    "df2.groupby(['trip_id']).first().reset_index().to_csv('trips_from_xml_blocks.csv', index=False)"
   ]
  },
  {
   "cell_type": "code",
   "execution_count": 13,
   "metadata": {},
   "outputs": [],
   "source": [
    "#based on end time\n",
    "df3 = df[['id', 'type', 'busStop', 'started']].merge(gtfs_data.sort_values(['vid', 'gtfs_end_time']), left_on = ['id', 'busStop'], right_on = ['vid', 'first_stop_id'], how='right')\n",
    "df3['end_diff'] = abs(df3.gtfs_end_time - df3.started)\n",
    "df3 = df3.sort_values(['id', 'end_diff', 'started']).reset_index(drop=True)"
   ]
  }
 ],
 "metadata": {
  "kernelspec": {
   "display_name": "Python 3.7.9 64-bit",
   "language": "python",
   "name": "python3"
  },
  "language_info": {
   "codemirror_mode": {
    "name": "ipython",
    "version": 3
   },
   "file_extension": ".py",
   "mimetype": "text/x-python",
   "name": "python",
   "nbconvert_exporter": "python",
   "pygments_lexer": "ipython3",
   "version": "3.7.9"
  },
  "orig_nbformat": 4,
  "vscode": {
   "interpreter": {
    "hash": "c4d0005f5e14f7c00ac58c488a6489dbdddabe86817daaefe3a462e64eae13df"
   }
  }
 },
 "nbformat": 4,
 "nbformat_minor": 2
}
