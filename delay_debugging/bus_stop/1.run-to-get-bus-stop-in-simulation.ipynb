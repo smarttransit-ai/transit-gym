{
 "cells": [
  {
   "cell_type": "code",
   "execution_count": 9,
   "id": "5db8fc2a",
   "metadata": {},
   "outputs": [],
   "source": [
    "import traci\n",
    "import pandas as pd\n",
    "import pickle\n",
    "import random"
   ]
  },
  {
   "cell_type": "code",
   "execution_count": 11,
   "id": "798d7eae",
   "metadata": {},
   "outputs": [
    {
     "name": "stdout",
     "output_type": "stream",
     "text": [
      "START LOADING .NET.XML ==================================  \n",
      " Retrying in 1 seconds\n",
      "Loading configuration ... done.\n"
     ]
    }
   ],
   "source": [
    "SUMO_CMD = [\"/usr/bin/sumo\"]\n",
    "SUMO_CONFIG_FILE = [\"-c\", \"../transit_run/Chattanooga_SUMO_mehdi_final.sumocfg\"]\n",
    "SUMO_CMD.extend(SUMO_CONFIG_FILE)\n",
    "print(\"START LOADING .NET.XML ==================================  \")\n",
    "traci.start(SUMO_CMD, label=str(random.randint(10000, 50000)))\n",
    "for _ in range(60):\n",
    "    traci.simulationStep()"
   ]
  },
  {
   "cell_type": "code",
   "execution_count": 71,
   "id": "2869ccd5",
   "metadata": {},
   "outputs": [],
   "source": [
    "df = pd.DataFrame({})\n",
    "for bus_stop_id in traci.simulation.getBusStopIDList():\n",
    "    pos = traci.busstop.getStartPos(bus_stop_id)\n",
    "    lane_id = traci.busstop.getLaneID(bus_stop_id)\n",
    "    edge_id = traci.lane.getEdgeID(lane_id)\n",
    "    coor = traci.simulation.convert2D(edge_id, pos, laneIndex=0, toGeo=True)\n",
    "    df = df.append({'stop_id': bus_stop_id, 'lat': coor[0], 'lon': coor[1]}, ignore_index=True)"
   ]
  },
  {
   "cell_type": "code",
   "execution_count": 73,
   "id": "db5e0bf1",
   "metadata": {},
   "outputs": [
    {
     "name": "stdout",
     "output_type": "stream",
     "text": [
      "Step #14060.00 (0ms ?*RT. ?UPS, TraCI: 1713867ms, vehicles TOT 0 ACT 0 BUF 0)             \r\n"
     ]
    }
   ],
   "source": [
    "traci.close()"
   ]
  },
  {
   "cell_type": "code",
   "execution_count": 72,
   "id": "0d1c8970",
   "metadata": {},
   "outputs": [],
   "source": [
    "df.to_csv('./bus_stop_location_in_Sim.csv', index=None)"
   ]
  }
 ],
 "metadata": {
  "kernelspec": {
   "display_name": "Python3 (tf-gpu)",
   "language": "python",
   "name": "tf-gpu"
  },
  "language_info": {
   "codemirror_mode": {
    "name": "ipython",
    "version": 3
   },
   "file_extension": ".py",
   "mimetype": "text/x-python",
   "name": "python",
   "nbconvert_exporter": "python",
   "pygments_lexer": "ipython3",
   "version": "3.9.7"
  }
 },
 "nbformat": 4,
 "nbformat_minor": 5
}
