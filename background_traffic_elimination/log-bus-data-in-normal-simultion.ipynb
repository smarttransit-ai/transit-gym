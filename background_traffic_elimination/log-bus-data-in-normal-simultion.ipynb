{
 "cells": [
  {
   "cell_type": "code",
   "execution_count": 6,
   "id": "b23f5d07",
   "metadata": {},
   "outputs": [],
   "source": [
    "import traci\n",
    "import pandas as pd\n",
    "import random\n",
    "import time\n",
    "import pickle\n",
    "\n",
    "log = pickle.load(open('./output/bus_ids.pkl', 'rb'))\n",
    "\n",
    "sumo_cmd = [\"/opt/ohpc/pub/apps/sumo/bin/sumo\"]\n",
    "sumo_config = [\"-c\", \"./Sim/network-bus-background.sumocfg\"]\n",
    "sumo_cmd.extend(sumo_config)"
   ]
  },
  {
   "cell_type": "code",
   "execution_count": null,
   "id": "2438b321",
   "metadata": {
    "scrolled": true
   },
   "outputs": [
    {
     "name": "stdout",
     "output_type": "stream",
     "text": [
      " Retrying in 1 seconds\n",
      "Loading configuration ... done.\n",
      "***Starting server on port 46853 ***\n"
     ]
    },
    {
     "name": "stderr",
     "output_type": "stream",
     "text": [
      "Warning: Environment variable SUMO_HOME is not set, schema resolution will use slow website lookups.\n"
     ]
    },
    {
     "name": "stdout",
     "output_type": "stream",
     "text": [
      "Loading net-file from './Sim/Chattanooga_SUMO_Network.net.xml' ... done (9808ms).\n"
     ]
    },
    {
     "name": "stderr",
     "output_type": "stream",
     "text": [
      "Warning: At actuated tlLogic '14979', actuated phase 0 has no controlling detector.\n",
      "Warning: At actuated tlLogic '14979', linkIndex 1 has no controlling detector.\n",
      "Warning: At actuated tlLogic '14979', linkIndex 2 has no controlling detector.\n",
      "Warning: At actuated tlLogic '14979', linkIndex 3 has no controlling detector.\n",
      "Warning: At actuated tlLogic '14979', linkIndex 4 has no controlling detector.\n",
      "Warning: At actuated tlLogic '14979', linkIndex 5 has no controlling detector.\n",
      "Warning: At actuated tlLogic '15283', linkIndex 5 has no controlling detector.\n",
      "Warning: At actuated tlLogic '15283', linkIndex 6 has no controlling detector.\n",
      "Warning: At actuated tlLogic '15283', linkIndex 7 has no controlling detector.\n",
      "Warning: At actuated tlLogic '15283', linkIndex 8 has no controlling detector.\n",
      "Warning: At actuated tlLogic '15577', linkIndex 18 has no controlling detector.\n",
      "Warning: At actuated tlLogic '15577', linkIndex 19 has no controlling detector.\n",
      "Warning: At actuated tlLogic '15577', linkIndex 20 has no controlling detector.\n",
      "Warning: At actuated tlLogic '15736', linkIndex 12 has no controlling detector.\n",
      "Warning: At actuated tlLogic '15736', linkIndex 13 has no controlling detector.\n",
      "Warning: At actuated tlLogic '15774', linkIndex 7 has no controlling detector.\n",
      "Warning: At actuated tlLogic '15774', linkIndex 8 has no controlling detector.\n",
      "Warning: At actuated tlLogic '15774', linkIndex 9 has no controlling detector.\n",
      "Warning: At actuated tlLogic '15802', linkIndex 17 has no controlling detector.\n",
      "Warning: At actuated tlLogic '15802', linkIndex 18 has no controlling detector.\n",
      "Warning: At actuated tlLogic '15802', linkIndex 19 has no controlling detector.\n",
      "Warning: At actuated tlLogic '15873', actuated phase 6 has no controlling detector.\n",
      "Warning: At actuated tlLogic '15873', linkIndex 8 has no controlling detector.\n",
      "Warning: At actuated tlLogic '15873', linkIndex 9 has no controlling detector.\n",
      "Warning: At actuated tlLogic '15873', linkIndex 10 has no controlling detector.\n",
      "Warning: At actuated tlLogic '15873', linkIndex 11 has no controlling detector.\n",
      "Warning: At actuated tlLogic '15873', linkIndex 12 has no controlling detector.\n",
      "Warning: At actuated tlLogic '15873', linkIndex 13 has no controlling detector.\n",
      "Warning: At actuated tlLogic '15873', linkIndex 19 has no controlling detector.\n",
      "Warning: At actuated tlLogic '15873', linkIndex 20 has no controlling detector.\n",
      "Warning: At actuated tlLogic '15873', linkIndex 21 has no controlling detector.\n",
      "Warning: At actuated tlLogic '15942', linkIndex 2 has no controlling detector.\n",
      "Warning: At actuated tlLogic '15942', linkIndex 3 has no controlling detector.\n",
      "Warning: At actuated tlLogic '15998', linkIndex 20 has no controlling detector.\n",
      "Warning: At actuated tlLogic '15998', linkIndex 21 has no controlling detector.\n",
      "Warning: At actuated tlLogic '15998', linkIndex 22 has no controlling detector.\n",
      "Warning: At actuated tlLogic '15998', linkIndex 23 has no controlling detector.\n",
      "Warning: At actuated tlLogic '16010', actuated phase 4 has no controlling detector.\n",
      "Warning: At actuated tlLogic '16282', linkIndex 1 has no controlling detector.\n",
      "Warning: At actuated tlLogic '2037', linkIndex 2 has no controlling detector.\n",
      "Warning: At actuated tlLogic '2037', linkIndex 3 has no controlling detector.\n",
      "Warning: At actuated tlLogic '2117', linkIndex 9 has no controlling detector.\n",
      "Warning: At actuated tlLogic '2117', linkIndex 10 has no controlling detector.\n",
      "Warning: At actuated tlLogic '2117', linkIndex 11 has no controlling detector.\n",
      "Warning: At actuated tlLogic '2248', linkIndex 2 has no controlling detector.\n",
      "Warning: At actuated tlLogic '2248', linkIndex 3 has no controlling detector.\n",
      "Warning: At actuated tlLogic '2248', linkIndex 4 has no controlling detector.\n",
      "Warning: At actuated tlLogic '2468', linkIndex 5 has no controlling detector.\n",
      "Warning: At actuated tlLogic '2468', linkIndex 6 has no controlling detector.\n",
      "Warning: At actuated tlLogic '2468', linkIndex 10 has no controlling detector.\n",
      "Warning: At actuated tlLogic '2468', linkIndex 11 has no controlling detector.\n",
      "Warning: At actuated tlLogic '2499', linkIndex 5 has no controlling detector.\n",
      "Warning: At actuated tlLogic '2499', linkIndex 6 has no controlling detector.\n",
      "Warning: At actuated tlLogic '28832', linkIndex 5 has no controlling detector.\n",
      "Warning: At actuated tlLogic '28832', linkIndex 6 has no controlling detector.\n",
      "Warning: At actuated tlLogic '28832', linkIndex 10 has no controlling detector.\n",
      "Warning: At actuated tlLogic '28832', linkIndex 11 has no controlling detector.\n",
      "Warning: At actuated tlLogic '28843', linkIndex 2 has no controlling detector.\n",
      "Warning: At actuated tlLogic '28843', linkIndex 3 has no controlling detector.\n",
      "Warning: At actuated tlLogic '28843', linkIndex 7 has no controlling detector.\n",
      "Warning: At actuated tlLogic '28843', linkIndex 8 has no controlling detector.\n",
      "Warning: At actuated tlLogic '2890', linkIndex 3 has no controlling detector.\n",
      "Warning: At actuated tlLogic '2890', linkIndex 4 has no controlling detector.\n",
      "Warning: At actuated tlLogic '2890', linkIndex 11 has no controlling detector.\n",
      "Warning: At actuated tlLogic '2890', linkIndex 12 has no controlling detector.\n",
      "Warning: At actuated tlLogic '28932', linkIndex 14 has no controlling detector.\n",
      "Warning: At actuated tlLogic '28932', linkIndex 15 has no controlling detector.\n",
      "Warning: At actuated tlLogic '28932', linkIndex 16 has no controlling detector.\n",
      "Warning: At actuated tlLogic '29019', linkIndex 4 has no controlling detector.\n",
      "Warning: At actuated tlLogic '29019', linkIndex 5 has no controlling detector.\n",
      "Warning: At actuated tlLogic '29019', linkIndex 6 has no controlling detector.\n",
      "Warning: At actuated tlLogic '29019', linkIndex 7 has no controlling detector.\n",
      "Warning: At actuated tlLogic '3175', linkIndex 11 has no controlling detector.\n",
      "Warning: At actuated tlLogic '3175', linkIndex 12 has no controlling detector.\n",
      "Warning: At actuated tlLogic '3175', linkIndex 13 has no controlling detector.\n",
      "Warning: At actuated tlLogic '3181', linkIndex 17 has no controlling detector.\n",
      "Warning: At actuated tlLogic '3181', linkIndex 18 has no controlling detector.\n",
      "Warning: At actuated tlLogic '3181', linkIndex 19 has no controlling detector.\n",
      "Warning: At actuated tlLogic '3181', linkIndex 20 has no controlling detector.\n",
      "Warning: At actuated tlLogic '3191', linkIndex 5 has no controlling detector.\n",
      "Warning: At actuated tlLogic '3191', linkIndex 6 has no controlling detector.\n",
      "Warning: At actuated tlLogic '3191', linkIndex 7 has no controlling detector.\n",
      "Warning: At actuated tlLogic '3264', actuated phase 4 has no controlling detector.\n",
      "Warning: At actuated tlLogic '3432', linkIndex 0 has no controlling detector.\n",
      "Warning: At actuated tlLogic '3432', linkIndex 1 has no controlling detector.\n",
      "Warning: At actuated tlLogic '3432', linkIndex 2 has no controlling detector.\n",
      "Warning: At actuated tlLogic '3569', linkIndex 0 has no controlling detector.\n",
      "Warning: At actuated tlLogic '3569', linkIndex 1 has no controlling detector.\n",
      "Warning: At actuated tlLogic '3569', linkIndex 2 has no controlling detector.\n",
      "Warning: At actuated tlLogic '3569', linkIndex 3 has no controlling detector.\n",
      "Warning: At actuated tlLogic '4029', actuated phase 4 has no controlling detector.\n"
     ]
    },
    {
     "name": "stdout",
     "output_type": "stream",
     "text": [
      "Loading additional-files from './Sim/type.xml' ... done (1ms).\n",
      "Loading additional-files from './Sim/busStopsCARTA.add.xml' ... done (21ms).\n",
      "Loading done.\n",
      "Simulation version v1_10_0+1480-daaf0c12055 started with time: 23400.00\n",
      "23400\n",
      "23500\n",
      "Step #23500.00 (64ms ~= 15.62*RT, ~37750.00UPS, TraCI: 23ms, vehicles TOT 2431 ACT 2416 BU\r"
     ]
    },
    {
     "name": "stderr",
     "output_type": "stream",
     "text": [
      "Warning: Vehicle 'trip_prefix67398' performs emergency braking with decel=-9.00 wished=4.50 severity=1.00, time=23525.00.\n",
      "Warning: Teleporting vehicle 'trip_prefix69348'; junction collision with vehicle 'trip_prefix67509', lane=':28974_4_0', gap=-7.04, time=23580.00 stage=move.\n",
      "Warning: Vehicle 'trip_prefix69348' ends teleporting on edge '33225', time 23582.00.\n",
      "Warning: Vehicle 'trip_prefix68142' performs emergency braking with decel=-7.00 wished=4.00 severity=1.00, time=23596.00.\n"
     ]
    },
    {
     "name": "stdout",
     "output_type": "stream",
     "text": [
      "23600\n"
     ]
    },
    {
     "name": "stderr",
     "output_type": "stream",
     "text": [
      "Warning: Vehicle 'trip_prefix71362' performs emergency braking with decel=-9.00 wished=4.50 severity=1.00, time=23612.00.\n",
      "Warning: Vehicle 'trip_prefix70143' performs emergency braking with decel=-9.00 wished=4.50 severity=1.00, time=23614.00.\n"
     ]
    },
    {
     "name": "stdout",
     "output_type": "stream",
     "text": [
      "Step #23600.00 (61ms ~= 16.39*RT, ~77786.89UPS, TraCI: 12ms, vehicles TOT 4881 ACT 4745 BU\r"
     ]
    },
    {
     "name": "stderr",
     "output_type": "stream",
     "text": [
      "Warning: Vehicle 'trip_prefix68907' performs emergency braking with decel=-9.00 wished=4.50 severity=1.00, time=23627.00.\n",
      "Warning: Vehicle 'trip_prefix67422' performs emergency braking with decel=-9.00 wished=4.50 severity=1.00, time=23630.00.\n",
      "Warning: Vehicle 'trip_prefix69882' performs emergency braking with decel=-7.00 wished=4.00 severity=1.00, time=23649.00.\n",
      "Warning: Vehicle 'trip_prefix70716' performs emergency braking with decel=-9.00 wished=4.50 severity=1.00, time=23654.00.\n",
      "Warning: Vehicle 'trip_prefix71685' performs emergency braking with decel=-9.00 wished=4.50 severity=1.00, time=23672.00.\n",
      "Warning: Teleporting vehicle 'trip_prefix72946'; junction collision with vehicle 'trip_prefix71916', lane=':16862_4_0', gap=-6.80, time=23680.00 stage=move.\n",
      "Warning: Vehicle 'trip_prefix72946' ends teleporting on edge '21910', time 23680.00.\n",
      "Warning: Teleporting vehicle 'trip_prefix70333'; junction collision with vehicle 'trip_prefix71104', lane=':28837_5_0', gap=-7.50, time=23688.00 stage=move.\n",
      "Warning: Teleporting vehicle 'trip_prefix68374'; junction collision with vehicle 'trip_prefix73636', lane=':28851_5_0', gap=-7.50, time=23688.00 stage=move.\n",
      "Warning: Teleporting vehicle 'trip_prefix71938'; junction collision with vehicle 'trip_prefix73882', lane=':28974_4_0', gap=-7.02, time=23688.00 stage=move.\n",
      "Warning: Vehicle 'trip_prefix68374' ends teleporting on edge '33283', time 23688.00.\n",
      "Warning: Vehicle 'trip_prefix70333' ends teleporting on edge '33264', time 23688.00.\n",
      "Warning: Vehicle 'trip_prefix71938' ends teleporting on edge '33225', time 23690.00.\n",
      "Warning: Vehicle 'trip_prefix70525' performs emergency braking with decel=-9.00 wished=4.50 severity=1.00, time=23691.00.\n"
     ]
    }
   ],
   "source": [
    "start_t = time.time()\n",
    "traci.start(sumo_cmd, label=str(random.randint(10000, 50000)))\n",
    "while traci.simulation.getTime() <= 32400:\n",
    "    step = int(traci.simulation.getTime())\n",
    "    if step % 100 == 0:\n",
    "        print(step)\n",
    "    veh_ids = traci.vehicle.getIDList()\n",
    "    for veh in veh_ids:\n",
    "        if veh in log:\n",
    "            edge = traci.vehicle.getRoadID(veh)\n",
    "            log[veh].append({'step': step, 'speed': traci.vehicle.getSpeed(veh), 'edge': edge,                \n",
    "                'distance': traci.vehicle.getDistance(veh), 'fuel_consumption': traci.vehicle.getFuelConsumption(veh),\n",
    "                'position': traci.vehicle.getPosition(veh), 'waiting_time': traci.vehicle.getWaitingTime(veh),\n",
    "                'accumulated_waiting_time': traci.vehicle.getAccumulatedWaitingTime(veh)})\n",
    "            \n",
    "    traci.simulationStep()\n",
    "    \n",
    "finish_t = time.time()"
   ]
  },
  {
   "cell_type": "code",
   "execution_count": null,
   "id": "596d4dc9",
   "metadata": {},
   "outputs": [],
   "source": [
    "pickle.dump(log, open('output/bus_data_normal_traffic.pkl', 'wb'))"
   ]
  },
  {
   "cell_type": "code",
   "execution_count": null,
   "id": "04fdc8fb",
   "metadata": {},
   "outputs": [],
   "source": [
    "print(\"Simulation time: %d\" % (finish_t - start_t))"
   ]
  }
 ],
 "metadata": {
  "kernelspec": {
   "display_name": "Python3 (tf-gpu)",
   "language": "python",
   "name": "tf-gpu"
  },
  "language_info": {
   "codemirror_mode": {
    "name": "ipython",
    "version": 3
   },
   "file_extension": ".py",
   "mimetype": "text/x-python",
   "name": "python",
   "nbconvert_exporter": "python",
   "pygments_lexer": "ipython3",
   "version": "3.9.7"
  }
 },
 "nbformat": 4,
 "nbformat_minor": 5
}
