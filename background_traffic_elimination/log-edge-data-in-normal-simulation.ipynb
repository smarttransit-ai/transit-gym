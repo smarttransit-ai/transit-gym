{
 "cells": [
  {
   "cell_type": "code",
   "execution_count": 1,
   "id": "5e6857fa",
   "metadata": {},
   "outputs": [],
   "source": [
    "import traci\n",
    "import pandas as pd\n",
    "import random\n",
    "import time\n",
    "import pickle"
   ]
  },
  {
   "cell_type": "code",
   "execution_count": 7,
   "id": "bcc578ee",
   "metadata": {},
   "outputs": [],
   "source": [
    "START = 23400\n",
    "END = 32400\n",
    "INTERVAL = 60\n",
    "\n",
    "sumo_cmd = [\"/opt/ohpc/pub/apps/sumo/bin/sumo\"]\n",
    "sumo_config = [\"-c\", \"./Sim/network-background.sumocfg\"]\n",
    "sumo_cmd.extend(sumo_config)"
   ]
  },
  {
   "cell_type": "code",
   "execution_count": null,
   "id": "22d529ee",
   "metadata": {
    "scrolled": true
   },
   "outputs": [],
   "source": [
    "start_t = time.time()\n",
    "traci.start(sumo_cmd, label=str(random.randint(10000, 50000)))\n",
    "edge_ids = traci.edge.getIDList()\n",
    "\n",
    "log = {}\n",
    "for edge_id in edge_ids:\n",
    "    log[edge_id] = {}\n",
    "\n",
    "while traci.simulation.getTime() <= 32400:\n",
    "    step = int(traci.simulation.getTime())\n",
    "    if step % 100 == 0:\n",
    "        print(step)\n",
    "    \n",
    "    if step % INTERVAL == 0:\n",
    "        for edge in edge_ids:\n",
    "            log[edge][step] = {\n",
    "                'HaltingNumber': traci.edge.getLastStepHaltingNumber(edge),'Length': traci.edge.getLastStepLength(edge),\n",
    "                'Speed': traci.edge.getLastStepMeanSpeed(edge), 'Occupancy': traci.edge.getLastStepOccupancy(edge),\n",
    "                'VehicleNumber': traci.edge.getLastStepVehicleNumber(edge)\n",
    "            }\n",
    "\n",
    "    traci.simulationStep()\n",
    "    \n",
    "finish_t = time.time()"
   ]
  },
  {
   "cell_type": "code",
   "execution_count": null,
   "id": "00d2d9ab",
   "metadata": {},
   "outputs": [],
   "source": [
    "pickle.dump(log, open('output/full_edge_data.pkl', 'wb'))\n",
    "print(\"Sim time: \", finish_t - start_t)"
   ]
  },
  {
   "cell_type": "code",
   "execution_count": 2,
   "id": "57cb8e89",
   "metadata": {},
   "outputs": [],
   "source": [
    "edge_data = log"
   ]
  },
  {
   "cell_type": "code",
   "execution_count": 3,
   "id": "78b98257",
   "metadata": {},
   "outputs": [],
   "source": [
    "for edge in edge_data:\n",
    "    step = START + INTERVAL\n",
    "    while step <= END:\n",
    "        if edge_data[edge][step]['Speed'] == edge_data[edge][step - INTERVAL]['Speed']:\n",
    "            edge_data[edge][step]['will_remove'] = True\n",
    "        step += INTERVAL\n",
    "    step = START\n",
    "    while step <= END:\n",
    "        if 'will_remove' in edge_data[edge][step]:\n",
    "            del edge_data[edge][step]\n",
    "        step += INTERVAL"
   ]
  },
  {
   "cell_type": "code",
   "execution_count": 12,
   "id": "b89f96a1",
   "metadata": {},
   "outputs": [],
   "source": [
    "step = START\n",
    "edge_data_by_step = {}\n",
    "while step <= END:\n",
    "    edge_data_by_step[step] = []\n",
    "    for edge in edge_data:\n",
    "        if step in edge_data[edge]:\n",
    "            edge_data_by_step[step].append({'edge_id': edge, 'edge_speed': edge_data[edge][step]['Speed']})\n",
    "    step += INTERVAL"
   ]
  },
  {
   "cell_type": "code",
   "execution_count": null,
   "id": "8c0baf50",
   "metadata": {},
   "outputs": [],
   "source": [
    "pickle.dump(edge_data_by_step, open('output/filtered_edge_data_by_step.pkl', 'wb'))"
   ]
  }
 ],
 "metadata": {
  "kernelspec": {
   "display_name": "Python3 (tf-gpu)",
   "language": "python",
   "name": "tf-gpu"
  },
  "language_info": {
   "codemirror_mode": {
    "name": "ipython",
    "version": 3
   },
   "file_extension": ".py",
   "mimetype": "text/x-python",
   "name": "python",
   "nbconvert_exporter": "python",
   "pygments_lexer": "ipython3",
   "version": "3.9.7"
  }
 },
 "nbformat": 4,
 "nbformat_minor": 5
}
