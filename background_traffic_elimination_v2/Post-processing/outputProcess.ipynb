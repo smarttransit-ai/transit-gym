{
 "cells": [
  {
   "cell_type": "code",
   "execution_count": 4,
   "id": "6aaceaae",
   "metadata": {},
   "outputs": [],
   "source": [
    "import pandas as pd\n",
    "pd.options.mode.chained_assignment = None\n",
    "import numpy as np"
   ]
  },
  {
   "cell_type": "code",
   "execution_count": 5,
   "id": "f3670978",
   "metadata": {},
   "outputs": [],
   "source": [
    "!python /usr/share/sumo/tools/xml/xml2csv.py ../transit-sim-date/busstop_output.xml\n",
    "!python /usr/share/sumo/tools/xml/xml2csv.py ../transit-sim-date/trajectory_output.xml -p"
   ]
  },
  {
   "cell_type": "code",
   "execution_count": 8,
   "id": "95ea8c24",
   "metadata": {
    "scrolled": true
   },
   "outputs": [],
   "source": [
    "## bus stop output containing delay and person load information\n",
    "stopO = pd.read_csv(\"../transit-sim-date/busstop_output.csv\",sep=';')\n",
    "stopO=stopO[[\"stopinfo_id\",\"stopinfo_busStop\",\"stopinfo_started\",\"stopinfo_arrivalDelay\",\n",
    "             \"stopinfo_ended\",\"stopinfo_delay\",\"stopinfo_initialPersons\",\n",
    "             \"stopinfo_loadedPersons\",\"stopinfo_unloadedPersons\",\n",
    "             \"stopinfo_lane\",\"stopinfo_pos\",\"stopinfo_parking\"]]\n",
    "stopO=stopO.sort_values([\"stopinfo_id\",\"stopinfo_started\"])\n",
    "\n",
    "## trajectory for all vehicles during the simulation time interval\n",
    "motion = pd.read_csv(\"../transit-sim-date/trajectory_output.csvmotionState.csv\",sep=';',low_memory=False)\n",
    "vehtype = pd.read_csv(\"../transit-sim-date/trajectory_output.csvactorConfig.csv\",sep=';')\n",
    "vehref = pd.read_csv(\"../transit-sim-date/trajectory_output.csvvehicle.csv\",sep=';')\n",
    "\n",
    "# extract the output values for buses\n",
    "vehref['vehicle_ref'] = vehref['vehicle_ref'].astype('str')\n",
    "bus = vehref\n",
    "# bus=vehref[vehref['vehicle_ref'].apply(lambda x: len(x)>20)]\n",
    "busref=bus[['vehicle_ref','vehicle_id','vehicle_actorConfig']]\n",
    "busref.rename(columns={'vehicle_actorConfig' : 'actorConfig_id'},inplace = True)\n",
    "# join busref and vehtype by the same column 'actorConfig_id'\n",
    "businfo=pd.merge(busref, vehtype, on='actorConfig_id')\n",
    "\n",
    "traj=motion.loc[motion.motionState_vehicle.isin(businfo.vehicle_id), ]\n",
    "traj=traj[['motionState_vehicle','motionState_time','motionState_speed','motionState_acceleration']]\n",
    "traj=traj.sort_values(['motionState_vehicle','motionState_time'])\n",
    "traj.rename(columns={'motionState_vehicle' : 'vehicle_id','motionState_time':'time','motionState_speed':'speed',\n",
    "                     'motionState_acceleration':'acceleration'},inplace = True)\n",
    "# UNIT: time:milliseconds, speed:0.01m/s, acceleration:0.0001m/s^2\n",
    "trajectory=pd.merge(traj, businfo, on='vehicle_id')\n",
    "trajectory=trajectory.drop(['vehicle_id'],axis=1)\n",
    "#group dataframe into multiple dataframe as a dict by bus name\n",
    "trajectory=dict(tuple(trajectory.groupby('vehicle_ref')))"
   ]
  },
  {
   "cell_type": "code",
   "execution_count": 9,
   "id": "8c19b011",
   "metadata": {},
   "outputs": [],
   "source": [
    "date = '2021-08-20'\n",
    "trip_asm = pd.read_csv('../Pre-processing/trip-assignments/trip-asm-{}.csv'.format(date))\n",
    "\n",
    "def time_conv(x):\n",
    "    h, m, s = x.split(':')\n",
    "    return int(h) * 3600 + int(m) * 60 + int(s)\n",
    "\n",
    "stopO['gtfs_time'] = stopO['stopinfo_started'] - stopO['stopinfo_arrivalDelay'].apply(float)\n",
    "\n",
    "final_stopO = pd.DataFrame()\n",
    "for veh_id in stopO['stopinfo_id'].unique():\n",
    "    df_stop_veh = stopO[stopO['stopinfo_id'] == veh_id]\n",
    "    trip_asm_veh = trip_asm[trip_asm['vid'] == int(veh_id)]\n",
    "    traj_veh = trajectory[str(veh_id)]\n",
    "    for idx, row in trip_asm_veh.iterrows():\n",
    "        df_stop_trip = df_stop_veh[(df_stop_veh['gtfs_time'] >= time_conv(row['gtfs_time_start'])) & \n",
    "                         (df_stop_veh['gtfs_time'] < time_conv(row['gtfs_time_end']))]\n",
    "        df_stop_trip['trip_id'] = int(row['trip_id'])\n",
    "        final_stopO = pd.concat([final_stopO, df_stop_trip], ignore_index=True)\n",
    "        \n",
    "        actual_start_time, actual_end_time = df_stop_trip['stopinfo_started'].min(), df_stop_trip['stopinfo_started'].max()\n",
    "        traj_trip = traj_veh[(traj_veh['time'] >= actual_start_time*1000) & (traj_veh['time'] <= actual_end_time*1000)]\n",
    "        if len(traj_trip) > 0:\n",
    "            traj_trip.to_csv('./trip-level-output/trajectory_{}.csv'.format(row['trip_id']), index=None)\n",
    "        \n",
    "final_stopO.to_csv(\"./trip-level-output/busstop_info.csv\",index=False)\n",
    "# write final stop output "
   ]
  }
 ],
 "metadata": {
  "kernelspec": {
   "display_name": "Python 3",
   "language": "python",
   "name": "python3"
  },
  "language_info": {
   "codemirror_mode": {
    "name": "ipython",
    "version": 3
   },
   "file_extension": ".py",
   "mimetype": "text/x-python",
   "name": "python",
   "nbconvert_exporter": "python",
   "pygments_lexer": "ipython3",
   "version": "3.7.9 (tags/v3.7.9:13c94747c7, Aug 17 2020, 18:58:18) [MSC v.1900 64 bit (AMD64)]"
  },
  "vscode": {
   "interpreter": {
    "hash": "c4d0005f5e14f7c00ac58c488a6489dbdddabe86817daaefe3a462e64eae13df"
   }
  }
 },
 "nbformat": 4,
 "nbformat_minor": 5
}
