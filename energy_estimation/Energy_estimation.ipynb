{
 "cells": [
  {
   "cell_type": "code",
   "execution_count": 10,
   "id": "particular-attachment",
   "metadata": {},
   "outputs": [],
   "source": [
    "import pandas as pd\n",
    "import glob\n",
    "import os\n",
    "import keras"
   ]
  },
  {
   "cell_type": "code",
   "execution_count": 2,
   "id": "imported-incidence",
   "metadata": {},
   "outputs": [],
   "source": [
    "    #save the models to model_folder\n",
    "    model_folder=''\n",
    "    #output folder of trajactory got from the simulation\n",
    "    output_folder='\n",
    "    #create energy_folder to save the prediction results\n",
    "    energy_folder=''"
   ]
  },
  {
   "cell_type": "markdown",
   "id": "young-ensemble",
   "metadata": {},
   "source": [
    "# Select scenario for weather condition"
   ]
  },
  {
   "cell_type": "code",
   "execution_count": 3,
   "id": "moving-cycling",
   "metadata": {},
   "outputs": [],
   "source": [
    "#weather option: rainy, sunny, windy, and snowy\n",
    "weather = 'sunny'"
   ]
  },
  {
   "cell_type": "markdown",
   "id": "sealed-speech",
   "metadata": {},
   "source": [
    "# Load microscopic energy eatimation model for different vehicle classes\n"
   ]
  },
  {
   "cell_type": "code",
   "execution_count": 4,
   "id": "developing-orange",
   "metadata": {},
   "outputs": [
    {
     "name": "stdout",
     "output_type": "stream",
     "text": [
      "WARNING:tensorflow:From C:\\ProgramData\\Anaconda3\\lib\\site-packages\\keras\\backend\\tensorflow_backend.py:422: The name tf.global_variables is deprecated. Please use tf.compat.v1.global_variables instead.\n",
      "\n"
     ]
    }
   ],
   "source": [
    "model_diesel =  keras.models.load_model(f'{model_folder}/diesel.model')\n",
    "model_hybrid =  keras.models.load_model(f'{model_folder}/hybrid.model')\n",
    "model_electric =  keras.models.load_model(f'{model_folder}/electric.model')"
   ]
  },
  {
   "cell_type": "markdown",
   "id": "surrounded-address",
   "metadata": {},
   "source": [
    "# Predict energy consumption of each trip "
   ]
  },
  {
   "cell_type": "code",
   "execution_count": 7,
   "id": "sensitive-opinion",
   "metadata": {},
   "outputs": [],
   "source": [
    "path = f'{output_folder}'                    \n",
    "all_files = glob.glob(os.path.join(path, \"Trajectory*.csv\")) \n",
    "colnames=['time_ms','speed','acceleration','vehicle_ref','actorConfig_id','actorConfig_emissionClass','actorConfig_fuel','actorConfig_ref','actorConfig_vehicleClass']\n",
    "for f in all_files:\n",
    "    trip=pd.read_csv(f,names=colnames, header=None)\n",
    "    #trip=pd.read_csv(f)\n",
    "    trip = trip[trip.speed != 'speed']\n",
    "    trip = trip[trip.acceleration != 'acceleration']\n",
    "    trip['speed']=trip['speed'].astype(float)*0.036 #km/h\n",
    "    #find the vehicle class of this trip based on the column \"actorConfig_ref\"\n",
    "    vtype = ['Gillig_LF_2014','Gillig_HF_2006','Gillig_HF_2002','Gillig_HF_1998','Gillig_Hybrids_2014',\n",
    "             'Gillig_Hybrids_2009','Gillig_LF_2009','BYD_BEV']\n",
    "    diesel = ['Gillig_LF_2014','Gillig_HF_2006','Gillig_HF_2002','Gillig_HF_1998','Gillig_LF_2009']\n",
    "    hybrid = ['Gillig_Hybrids_2014', 'Gillig_Hybrids_2009']\n",
    "    electric = ['BYD_BEV']\n",
    "    if trip['actorConfig_fuel'].iloc[2] in diesel:\n",
    "        Vclass = 'diesel'\n",
    "    elif trip['actorConfig_fuel'].iloc[2] in hybrid:\n",
    "        Vclass = 'hybrid'\n",
    "    elif trip['actorConfig_fuel'].iloc[2] in electric:\n",
    "        Vclass = 'electric'\n",
    "    if Vclass == 'electric':\n",
    "        trip['acceleration']=trip['acceleration'].astype(float)*0.001*3.28084\n",
    "        #ft/s2\n",
    "    else:\n",
    "        trip['acceleration']=trip['acceleration'].astype(float)*0.001 \n",
    "        #m/s2\n",
    "    if weather == 'rainy':\n",
    "        trip['temperature']= 60 \n",
    "        trip['humidity']= 0.9 #range[0,1]\n",
    "    if weather == 'sunny':\n",
    "        trip['temperature']= 70\n",
    "        trip['humidity']= 0.5\n",
    "    if weather == 'windy':\n",
    "        trip['temperature']= 60\n",
    "        trip['humidity']= 0.6\n",
    "    if weather == 'snowy':\n",
    "        trip['temperature']= 30\n",
    "        trip['humidity']= 0.4\n",
    "    trip['roadGrade']= 0\n",
    "    input2esti=trip[['speed','acceleration','temperature','humidity','roadGrade']]\n",
    "    #prdiction \n",
    "    if Vclass == 'electric':\n",
    "        pre = model_electric.predict(input2esti) \n",
    "        tripf=pd.concat([trip,pd.DataFrame(pre,columns=['energyrate_'+Vclass])], axis=1)\n",
    "        tripf['energy_gal'] = tripf['energyrate_'+Vclass]/33.7  #gal\n",
    "        path_new = os.path.join(energy_folder, Vclass)\n",
    "        try:\n",
    "            os.mkdir(path_new)\n",
    "        except:\n",
    "            pass\n",
    "        with open(f'{path_new}'+ f[len(output_folder):] + '.csv', 'w', newline='') as oFile:\n",
    "            tripf.to_csv(oFile, index = False)    \n",
    "    elif Vclass == 'hybrid':\n",
    "        pre = model_hybrid.predict(input2esti)\n",
    "        pre[pre<0]=0\n",
    "        tripf=pd.concat([trip,pd.DataFrame(pre,columns=['energyrate_'+Vclass])], axis=1) \n",
    "        tripf['energy_gal'] = tripf['energyrate_'+Vclass]/3600  #gal\n",
    "        path_new = os.path.join(energy_folder, Vclass)\n",
    "        try:\n",
    "            os.mkdir(path_new)\n",
    "        except:\n",
    "            pass        \n",
    "        with open(f'{path_new}' + f[len(output_folder):] + '.csv', 'w', newline='') as oFile:\n",
    "            tripf.to_csv(oFile, index = False)\n",
    "    elif Vclass == 'diesel':\n",
    "        pre = model_diesel.predict(input2esti)\n",
    "        pre[pre<0]=0\n",
    "        tripf=pd.concat([trip,pd.DataFrame(pre,columns=['energyrate_'+Vclass])], axis=1)    \n",
    "        tripf['energy_gal'] = tripf['energyrate_'+Vclass]/3600  #gal\n",
    "        path_new = os.path.join(energy_folder, Vclass)\n",
    "        try:\n",
    "            os.mkdir(path_new)\n",
    "        except:\n",
    "            pass\n",
    "        #write the predicted results \n",
    "        with open(f'{path_new}' + f[len(output_folder):] + '.csv', 'w', newline='') as oFile:\n",
    "            tripf.to_csv(oFile, index = False)\n",
    "    \n",
    "    "
   ]
  },
  {
   "cell_type": "markdown",
   "id": "compatible-proceeding",
   "metadata": {},
   "source": [
    "# Estimate energy consumption of each route"
   ]
  },
  {
   "cell_type": "code",
   "execution_count": 9,
   "id": "adjacent-runner",
   "metadata": {},
   "outputs": [
    {
     "name": "stdout",
     "output_type": "stream",
     "text": [
      "   sum_energy_gal     route\n",
      "0       81.008639    Route1\n",
      "1       25.053928    Route3\n",
      "2       47.493702    Route4\n",
      "3        5.756740    Route8\n",
      "4       22.475999    Route9\n",
      "5       12.403156  Route10A\n",
      "6       17.205794  Route10G\n",
      "7       14.239992   Route16\n",
      "8        5.812320   Route21\n",
      "9        6.766614   Route33\n"
     ]
    }
   ],
   "source": [
    "Route = ['Route1','Route2A','Route3','Route4','Route7','Route8','Route9','Route10C','Route10A','Route10G','Route16','Route21','Route33','Route34','Route13','Route15_A','Route21_A','Route28','RouteDTS']\n",
    "path = f'{energy_folder}'\n",
    "route_summary = pd.DataFrame()\n",
    "b=0\n",
    "for r in Route:\n",
    "    allfiles = glob.glob(os.path.join(path, \"*\"+r+\"*.csv\")) \n",
    "    if len(allfiles) > 0:\n",
    "        colnames=['time_ms','speed','acceleration','vehicle_ref','actorConfig_id','actorConfig_emissionClass','actorConfig_fuel','actorConfig_ref','actorConfig_vehicleClass','temperature','humidity','roadGrade','energyrate','energy_gal']\n",
    "        route_energy = pd.DataFrame()\n",
    "        c=0\n",
    "        for f in allfiles:\n",
    "            df=pd.read_csv(f,names=colnames, header=None)\n",
    "            df['speed']=pd.to_numeric(df['speed'],errors='coerce')\n",
    "            df['energy_gal']=pd.to_numeric(df['energy_gal'],errors='coerce')    \n",
    "            df['speed_mile_s']=df['speed']*0.000172603  #mile/s \n",
    "            energy=df['speed_mile_s'].sum()/df['energy_gal'].sum() #mi/gal\n",
    "            sum_gal = df['energy_gal'].sum()\n",
    "            route_energy.loc[c,'energy_mpg']=energy\n",
    "            route_energy.loc[c,'sum_energy_gal']=sum_gal\n",
    "#             with open(f'{energy_folder}'+'_'+ r + 'energy.csv', 'w', newline='') as wFile:\n",
    "#                 route_energy.to_csv(wFile, index = False)\n",
    "            c+=1\n",
    "        route_energy['trip_id']=[f[-21:-8] for f in allfiles]\n",
    "        route_summary.loc[b,'sum_energy_gal']=route_energy['sum_energy_gal'].sum()\n",
    "        route_summary.loc[b,'route']=r\n",
    "        b+=1\n",
    "print(route_summary)"
   ]
  },
  {
   "cell_type": "code",
   "execution_count": null,
   "id": "organized-death",
   "metadata": {},
   "outputs": [],
   "source": []
  }
 ],
 "metadata": {
  "kernelspec": {
   "display_name": "Python 3",
   "language": "python",
   "name": "python3"
  },
  "language_info": {
   "codemirror_mode": {
    "name": "ipython",
    "version": 3
   },
   "file_extension": ".py",
   "mimetype": "text/x-python",
   "name": "python",
   "nbconvert_exporter": "python",
   "pygments_lexer": "ipython3",
   "version": "3.7.3"
  }
 },
 "nbformat": 4,
 "nbformat_minor": 5
}
