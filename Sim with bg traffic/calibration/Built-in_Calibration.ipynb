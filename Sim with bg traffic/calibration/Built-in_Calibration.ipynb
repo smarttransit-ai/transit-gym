{
 "cells": [
  {
   "cell_type": "code",
   "execution_count": 1,
   "metadata": {},
   "outputs": [],
   "source": [
    "import pandas as pd\n",
    "import numpy as np"
   ]
  },
  {
   "cell_type": "code",
   "execution_count": 2,
   "metadata": {},
   "outputs": [],
   "source": [
    "import xml.etree.ElementTree\n",
    "import warnings\n",
    "warnings.filterwarnings('ignore')\n",
    "import xml.etree.ElementTree as ET\n",
    "from xml.etree.ElementTree import Element, SubElement, Comment\n",
    "from xml.dom import minidom\n",
    "import os"
   ]
  },
  {
   "cell_type": "code",
   "execution_count": 3,
   "metadata": {},
   "outputs": [],
   "source": [
    "import matplotlib.pyplot as plt"
   ]
  },
  {
   "cell_type": "code",
   "execution_count": 4,
   "metadata": {},
   "outputs": [
    {
     "data": {
      "text/html": [
       "        <script type=\"text/javascript\">\n",
       "        window.PlotlyConfig = {MathJaxConfig: 'local'};\n",
       "        if (window.MathJax) {MathJax.Hub.Config({SVG: {font: \"STIX-Web\"}});}\n",
       "        if (typeof require !== 'undefined') {\n",
       "        require.undef(\"plotly\");\n",
       "        requirejs.config({\n",
       "            paths: {\n",
       "                'plotly': ['https://cdn.plot.ly/plotly-latest.min']\n",
       "            }\n",
       "        });\n",
       "        require(['plotly'], function(Plotly) {\n",
       "            window._Plotly = Plotly;\n",
       "        });\n",
       "        }\n",
       "        </script>\n",
       "        "
      ]
     },
     "metadata": {},
     "output_type": "display_data"
    },
    {
     "data": {
      "text/html": [
       "        <script type=\"text/javascript\">\n",
       "        window.PlotlyConfig = {MathJaxConfig: 'local'};\n",
       "        if (window.MathJax) {MathJax.Hub.Config({SVG: {font: \"STIX-Web\"}});}\n",
       "        if (typeof require !== 'undefined') {\n",
       "        require.undef(\"plotly\");\n",
       "        requirejs.config({\n",
       "            paths: {\n",
       "                'plotly': ['https://cdn.plot.ly/plotly-latest.min']\n",
       "            }\n",
       "        });\n",
       "        require(['plotly'], function(Plotly) {\n",
       "            window._Plotly = Plotly;\n",
       "        });\n",
       "        }\n",
       "        </script>\n",
       "        "
      ]
     },
     "metadata": {},
     "output_type": "display_data"
    },
    {
     "data": {
      "text/html": [
       "        <script type=\"text/javascript\">\n",
       "        window.PlotlyConfig = {MathJaxConfig: 'local'};\n",
       "        if (window.MathJax) {MathJax.Hub.Config({SVG: {font: \"STIX-Web\"}});}\n",
       "        if (typeof require !== 'undefined') {\n",
       "        require.undef(\"plotly\");\n",
       "        requirejs.config({\n",
       "            paths: {\n",
       "                'plotly': ['https://cdn.plot.ly/plotly-latest.min']\n",
       "            }\n",
       "        });\n",
       "        require(['plotly'], function(Plotly) {\n",
       "            window._Plotly = Plotly;\n",
       "        });\n",
       "        }\n",
       "        </script>\n",
       "        "
      ]
     },
     "metadata": {},
     "output_type": "display_data"
    }
   ],
   "source": [
    "import cufflinks as cf\n",
    "from plotly.offline import download_plotlyjs, init_notebook_mode, plot, iplot\n",
    "init_notebook_mode(connected=True)\n",
    "\n",
    "init_notebook_mode(connected=True)\n",
    "cf.go_offline()"
   ]
  },
  {
   "cell_type": "markdown",
   "metadata": {},
   "source": [
    "## Processing Volume and Speed Estimate Data"
   ]
  },
  {
   "cell_type": "code",
   "execution_count": 7,
   "metadata": {},
   "outputs": [],
   "source": [
    "df = pd.read_csv('VolumeEstimationData.csv')"
   ]
  },
  {
   "cell_type": "code",
   "execution_count": 8,
   "metadata": {},
   "outputs": [
    {
     "data": {
      "text/html": [
       "<div>\n",
       "<style scoped>\n",
       "    .dataframe tbody tr th:only-of-type {\n",
       "        vertical-align: middle;\n",
       "    }\n",
       "\n",
       "    .dataframe tbody tr th {\n",
       "        vertical-align: top;\n",
       "    }\n",
       "\n",
       "    .dataframe thead th {\n",
       "        text-align: right;\n",
       "    }\n",
       "</style>\n",
       "<table border=\"1\" class=\"dataframe\">\n",
       "  <thead>\n",
       "    <tr style=\"text-align: right;\">\n",
       "      <th></th>\n",
       "      <th>EdgeID</th>\n",
       "      <th>begin</th>\n",
       "      <th>end</th>\n",
       "      <th>flow</th>\n",
       "      <th>speed</th>\n",
       "      <th>vType</th>\n",
       "    </tr>\n",
       "  </thead>\n",
       "  <tbody>\n",
       "    <tr>\n",
       "      <th>0</th>\n",
       "      <td>-31294</td>\n",
       "      <td>0.0</td>\n",
       "      <td>720.0</td>\n",
       "      <td>15.818359</td>\n",
       "      <td>31.65</td>\n",
       "      <td>passenger</td>\n",
       "    </tr>\n",
       "    <tr>\n",
       "      <th>1</th>\n",
       "      <td>-31293</td>\n",
       "      <td>0.0</td>\n",
       "      <td>720.0</td>\n",
       "      <td>8.623181</td>\n",
       "      <td>33.40</td>\n",
       "      <td>passenger</td>\n",
       "    </tr>\n",
       "    <tr>\n",
       "      <th>2</th>\n",
       "      <td>-31291</td>\n",
       "      <td>0.0</td>\n",
       "      <td>720.0</td>\n",
       "      <td>7.948145</td>\n",
       "      <td>35.00</td>\n",
       "      <td>passenger</td>\n",
       "    </tr>\n",
       "    <tr>\n",
       "      <th>3</th>\n",
       "      <td>-31156</td>\n",
       "      <td>0.0</td>\n",
       "      <td>720.0</td>\n",
       "      <td>17.107676</td>\n",
       "      <td>21.50</td>\n",
       "      <td>passenger</td>\n",
       "    </tr>\n",
       "    <tr>\n",
       "      <th>4</th>\n",
       "      <td>-31042</td>\n",
       "      <td>0.0</td>\n",
       "      <td>720.0</td>\n",
       "      <td>9.417247</td>\n",
       "      <td>36.25</td>\n",
       "      <td>passenger</td>\n",
       "    </tr>\n",
       "  </tbody>\n",
       "</table>\n",
       "</div>"
      ],
      "text/plain": [
       "   EdgeID  begin    end       flow  speed      vType\n",
       "0  -31294    0.0  720.0  15.818359  31.65  passenger\n",
       "1  -31293    0.0  720.0   8.623181  33.40  passenger\n",
       "2  -31291    0.0  720.0   7.948145  35.00  passenger\n",
       "3  -31156    0.0  720.0  17.107676  21.50  passenger\n",
       "4  -31042    0.0  720.0   9.417247  36.25  passenger"
      ]
     },
     "execution_count": 8,
     "metadata": {},
     "output_type": "execute_result"
    }
   ],
   "source": [
    "df.head()"
   ]
  },
  {
   "cell_type": "code",
   "execution_count": 9,
   "metadata": {},
   "outputs": [],
   "source": [
    "df['speed_ms'] = df['speed']/2.237"
   ]
  },
  {
   "cell_type": "code",
   "execution_count": 10,
   "metadata": {},
   "outputs": [
    {
     "data": {
      "text/html": [
       "<div>\n",
       "<style scoped>\n",
       "    .dataframe tbody tr th:only-of-type {\n",
       "        vertical-align: middle;\n",
       "    }\n",
       "\n",
       "    .dataframe tbody tr th {\n",
       "        vertical-align: top;\n",
       "    }\n",
       "\n",
       "    .dataframe thead th {\n",
       "        text-align: right;\n",
       "    }\n",
       "</style>\n",
       "<table border=\"1\" class=\"dataframe\">\n",
       "  <thead>\n",
       "    <tr style=\"text-align: right;\">\n",
       "      <th></th>\n",
       "      <th>EdgeID</th>\n",
       "      <th>begin</th>\n",
       "      <th>end</th>\n",
       "      <th>flow</th>\n",
       "      <th>speed</th>\n",
       "      <th>vType</th>\n",
       "      <th>speed_ms</th>\n",
       "    </tr>\n",
       "  </thead>\n",
       "  <tbody>\n",
       "    <tr>\n",
       "      <th>0</th>\n",
       "      <td>-31294</td>\n",
       "      <td>0.0</td>\n",
       "      <td>720.0</td>\n",
       "      <td>15.818359</td>\n",
       "      <td>31.65</td>\n",
       "      <td>passenger</td>\n",
       "      <td>14.148413</td>\n",
       "    </tr>\n",
       "    <tr>\n",
       "      <th>1</th>\n",
       "      <td>-31293</td>\n",
       "      <td>0.0</td>\n",
       "      <td>720.0</td>\n",
       "      <td>8.623181</td>\n",
       "      <td>33.40</td>\n",
       "      <td>passenger</td>\n",
       "      <td>14.930711</td>\n",
       "    </tr>\n",
       "    <tr>\n",
       "      <th>2</th>\n",
       "      <td>-31291</td>\n",
       "      <td>0.0</td>\n",
       "      <td>720.0</td>\n",
       "      <td>7.948145</td>\n",
       "      <td>35.00</td>\n",
       "      <td>passenger</td>\n",
       "      <td>15.645954</td>\n",
       "    </tr>\n",
       "    <tr>\n",
       "      <th>3</th>\n",
       "      <td>-31156</td>\n",
       "      <td>0.0</td>\n",
       "      <td>720.0</td>\n",
       "      <td>17.107676</td>\n",
       "      <td>21.50</td>\n",
       "      <td>passenger</td>\n",
       "      <td>9.611086</td>\n",
       "    </tr>\n",
       "    <tr>\n",
       "      <th>4</th>\n",
       "      <td>-31042</td>\n",
       "      <td>0.0</td>\n",
       "      <td>720.0</td>\n",
       "      <td>9.417247</td>\n",
       "      <td>36.25</td>\n",
       "      <td>passenger</td>\n",
       "      <td>16.204738</td>\n",
       "    </tr>\n",
       "  </tbody>\n",
       "</table>\n",
       "</div>"
      ],
      "text/plain": [
       "   EdgeID  begin    end       flow  speed      vType   speed_ms\n",
       "0  -31294    0.0  720.0  15.818359  31.65  passenger  14.148413\n",
       "1  -31293    0.0  720.0   8.623181  33.40  passenger  14.930711\n",
       "2  -31291    0.0  720.0   7.948145  35.00  passenger  15.645954\n",
       "3  -31156    0.0  720.0  17.107676  21.50  passenger   9.611086\n",
       "4  -31042    0.0  720.0   9.417247  36.25  passenger  16.204738"
      ]
     },
     "execution_count": 10,
     "metadata": {},
     "output_type": "execute_result"
    }
   ],
   "source": [
    "df.head()"
   ]
  },
  {
   "cell_type": "code",
   "execution_count": 11,
   "metadata": {},
   "outputs": [],
   "source": [
    "new_df = pd.DataFrame()"
   ]
  },
  {
   "cell_type": "code",
   "execution_count": 12,
   "metadata": {},
   "outputs": [],
   "source": [
    "for e in df['EdgeID'].unique():\n",
    "    tmp = pd.DataFrame()\n",
    "    tmp = df[df['EdgeID']==e].copy()\n",
    "    tmp['time'] = pd.to_datetime(tmp['begin'], unit='s')\n",
    "    tmp = tmp.resample('1H', on='time').mean().reset_index()\n",
    "    new_df = new_df.append(tmp.copy())"
   ]
  },
  {
   "cell_type": "code",
   "execution_count": 13,
   "metadata": {},
   "outputs": [
    {
     "data": {
      "text/html": [
       "<div>\n",
       "<style scoped>\n",
       "    .dataframe tbody tr th:only-of-type {\n",
       "        vertical-align: middle;\n",
       "    }\n",
       "\n",
       "    .dataframe tbody tr th {\n",
       "        vertical-align: top;\n",
       "    }\n",
       "\n",
       "    .dataframe thead th {\n",
       "        text-align: right;\n",
       "    }\n",
       "</style>\n",
       "<table border=\"1\" class=\"dataframe\">\n",
       "  <thead>\n",
       "    <tr style=\"text-align: right;\">\n",
       "      <th></th>\n",
       "      <th>time</th>\n",
       "      <th>EdgeID</th>\n",
       "      <th>begin</th>\n",
       "      <th>end</th>\n",
       "      <th>flow</th>\n",
       "      <th>speed</th>\n",
       "      <th>speed_ms</th>\n",
       "    </tr>\n",
       "  </thead>\n",
       "  <tbody>\n",
       "    <tr>\n",
       "      <th>0</th>\n",
       "      <td>1970-01-01 00:00:00</td>\n",
       "      <td>-31294</td>\n",
       "      <td>1440.0</td>\n",
       "      <td>2160.0</td>\n",
       "      <td>15.818359</td>\n",
       "      <td>31.65</td>\n",
       "      <td>14.148413</td>\n",
       "    </tr>\n",
       "    <tr>\n",
       "      <th>1</th>\n",
       "      <td>1970-01-01 01:00:00</td>\n",
       "      <td>-31294</td>\n",
       "      <td>5040.0</td>\n",
       "      <td>5760.0</td>\n",
       "      <td>14.891068</td>\n",
       "      <td>23.69</td>\n",
       "      <td>10.590076</td>\n",
       "    </tr>\n",
       "    <tr>\n",
       "      <th>2</th>\n",
       "      <td>1970-01-01 02:00:00</td>\n",
       "      <td>-31294</td>\n",
       "      <td>8640.0</td>\n",
       "      <td>9360.0</td>\n",
       "      <td>17.384167</td>\n",
       "      <td>24.23</td>\n",
       "      <td>10.831471</td>\n",
       "    </tr>\n",
       "    <tr>\n",
       "      <th>3</th>\n",
       "      <td>1970-01-01 03:00:00</td>\n",
       "      <td>-31294</td>\n",
       "      <td>12240.0</td>\n",
       "      <td>12960.0</td>\n",
       "      <td>18.969522</td>\n",
       "      <td>40.00</td>\n",
       "      <td>17.881091</td>\n",
       "    </tr>\n",
       "    <tr>\n",
       "      <th>4</th>\n",
       "      <td>1970-01-01 04:00:00</td>\n",
       "      <td>-31294</td>\n",
       "      <td>15840.0</td>\n",
       "      <td>16560.0</td>\n",
       "      <td>21.338293</td>\n",
       "      <td>39.15</td>\n",
       "      <td>17.501118</td>\n",
       "    </tr>\n",
       "  </tbody>\n",
       "</table>\n",
       "</div>"
      ],
      "text/plain": [
       "                 time  EdgeID    begin      end       flow  speed   speed_ms\n",
       "0 1970-01-01 00:00:00  -31294   1440.0   2160.0  15.818359  31.65  14.148413\n",
       "1 1970-01-01 01:00:00  -31294   5040.0   5760.0  14.891068  23.69  10.590076\n",
       "2 1970-01-01 02:00:00  -31294   8640.0   9360.0  17.384167  24.23  10.831471\n",
       "3 1970-01-01 03:00:00  -31294  12240.0  12960.0  18.969522  40.00  17.881091\n",
       "4 1970-01-01 04:00:00  -31294  15840.0  16560.0  21.338293  39.15  17.501118"
      ]
     },
     "execution_count": 13,
     "metadata": {},
     "output_type": "execute_result"
    }
   ],
   "source": [
    "new_df.head()"
   ]
  },
  {
   "cell_type": "code",
   "execution_count": 14,
   "metadata": {},
   "outputs": [
    {
     "data": {
      "text/html": [
       "<div>\n",
       "<style scoped>\n",
       "    .dataframe tbody tr th:only-of-type {\n",
       "        vertical-align: middle;\n",
       "    }\n",
       "\n",
       "    .dataframe tbody tr th {\n",
       "        vertical-align: top;\n",
       "    }\n",
       "\n",
       "    .dataframe thead th {\n",
       "        text-align: right;\n",
       "    }\n",
       "</style>\n",
       "<table border=\"1\" class=\"dataframe\">\n",
       "  <thead>\n",
       "    <tr style=\"text-align: right;\">\n",
       "      <th></th>\n",
       "      <th>time</th>\n",
       "      <th>EdgeID</th>\n",
       "      <th>begin</th>\n",
       "      <th>end</th>\n",
       "      <th>flow</th>\n",
       "      <th>speed</th>\n",
       "      <th>speed_ms</th>\n",
       "    </tr>\n",
       "  </thead>\n",
       "  <tbody>\n",
       "    <tr>\n",
       "      <th>5</th>\n",
       "      <td>1970-01-01 05:00:00</td>\n",
       "      <td>31312</td>\n",
       "      <td>19440.0</td>\n",
       "      <td>20160.0</td>\n",
       "      <td>28.108545</td>\n",
       "      <td>35.000</td>\n",
       "      <td>15.645954</td>\n",
       "    </tr>\n",
       "    <tr>\n",
       "      <th>6</th>\n",
       "      <td>1970-01-01 06:00:00</td>\n",
       "      <td>31312</td>\n",
       "      <td>23040.0</td>\n",
       "      <td>23760.0</td>\n",
       "      <td>61.714816</td>\n",
       "      <td>22.835</td>\n",
       "      <td>10.207868</td>\n",
       "    </tr>\n",
       "    <tr>\n",
       "      <th>7</th>\n",
       "      <td>1970-01-01 07:00:00</td>\n",
       "      <td>31312</td>\n",
       "      <td>26640.0</td>\n",
       "      <td>27360.0</td>\n",
       "      <td>81.972751</td>\n",
       "      <td>24.270</td>\n",
       "      <td>10.849352</td>\n",
       "    </tr>\n",
       "    <tr>\n",
       "      <th>8</th>\n",
       "      <td>1970-01-01 08:00:00</td>\n",
       "      <td>31312</td>\n",
       "      <td>30240.0</td>\n",
       "      <td>30960.0</td>\n",
       "      <td>80.585190</td>\n",
       "      <td>25.620</td>\n",
       "      <td>11.452839</td>\n",
       "    </tr>\n",
       "    <tr>\n",
       "      <th>9</th>\n",
       "      <td>1970-01-01 09:00:00</td>\n",
       "      <td>31312</td>\n",
       "      <td>33480.0</td>\n",
       "      <td>34200.0</td>\n",
       "      <td>78.757770</td>\n",
       "      <td>23.320</td>\n",
       "      <td>10.424676</td>\n",
       "    </tr>\n",
       "  </tbody>\n",
       "</table>\n",
       "</div>"
      ],
      "text/plain": [
       "                 time  EdgeID    begin      end       flow   speed   speed_ms\n",
       "5 1970-01-01 05:00:00   31312  19440.0  20160.0  28.108545  35.000  15.645954\n",
       "6 1970-01-01 06:00:00   31312  23040.0  23760.0  61.714816  22.835  10.207868\n",
       "7 1970-01-01 07:00:00   31312  26640.0  27360.0  81.972751  24.270  10.849352\n",
       "8 1970-01-01 08:00:00   31312  30240.0  30960.0  80.585190  25.620  11.452839\n",
       "9 1970-01-01 09:00:00   31312  33480.0  34200.0  78.757770  23.320  10.424676"
      ]
     },
     "execution_count": 14,
     "metadata": {},
     "output_type": "execute_result"
    }
   ],
   "source": [
    "new_df.tail()"
   ]
  },
  {
   "cell_type": "markdown",
   "metadata": {},
   "source": [
    "## Function to create additonal file with volume and speed calibrator"
   ]
  },
  {
   "cell_type": "code",
   "execution_count": 27,
   "metadata": {},
   "outputs": [],
   "source": [
    "def build_additional_file(name,edges,data_df,hours=[0,24],interval=3600,freq=2):\n",
    "    '''\n",
    "    \n",
    "    '''\n",
    "    \n",
    "    periods = np.arange(hours[0]*interval,hours[1]*interval,interval)\n",
    "    \n",
    "    additional = Element('additional')\n",
    "    vtype = Element('vType')\n",
    "    vtype.set('id', 'passenger')\n",
    "    vtype.set('sigma', '0')\n",
    "    vtype.set('vClass', 'passenger')\n",
    "    \n",
    "    additional.append(vtype)\n",
    "  \n",
    "    \n",
    "    count = 0\n",
    "    for edge in edges:\n",
    "       \n",
    "        ID_probe = \"%s_%s_probe\" %('tmp',count)\n",
    "        routeProbe = Element('routeProbe')\n",
    "        routeProbe.set('id', ID_probe)\n",
    "        routeProbe.set('edge', str(edge))\n",
    "        routeProbe.set('freq', str(freq))\n",
    "        routeProbe.set('file',\"route_probe_output.xml\")\n",
    "        ID = \"%s_%s\" %(edge,count)\n",
    "        calibrator = Element('calibrator')\n",
    "        calibrator.set('id', ID)\n",
    "        calibrator.set('edge', str(edge))\n",
    "        calibrator.set('pos', str(0))\n",
    "        calibrator.set('output',\"tmp.detector.xml\")\n",
    "        calibrator.set('freq',str(freq))\n",
    "        calibrator.set('routeProbe',ID_probe)\n",
    "        \n",
    "        additional.append(routeProbe)\n",
    "        additional.append(calibrator)\n",
    "        ID_route = \"%s_%s_fallback\" %(edge,count)\n",
    "        ET.SubElement(calibrator,\"route\",\n",
    "                           id=ID_route, \n",
    "                           edges=str(edge))\n",
    "        \n",
    "        speed = data_df.loc[data_df['EdgeID'] == edge]['speed_ms']\n",
    "        vols = data_df.loc[data_df['EdgeID'] == edge]['flow'].values\n",
    "#         print('edge', edge, ' ', speed, '\\n')\n",
    "#         print(vols, '\\n')\n",
    "        \n",
    "        for i,spd in enumerate(speed):\n",
    "            b = periods[i]\n",
    "            e = b + 3600\n",
    "            ET.SubElement(calibrator,\"flow\",\n",
    "                              begin=str(b), \n",
    "                              end=str(e), \n",
    "                              route=ID_route,\n",
    "                              type='passenger',\n",
    "                              vehsPerHour=str(vols[i]),\n",
    "                              speed=str(spd))\n",
    "  \n",
    "        count+=1\n",
    "#     Date = str(datetime.datetime.today()).split()[0]\n",
    "    file_name = \"cal.add1.%s.xml\" %(name)\n",
    "    folder = \"./\"\n",
    "        \n",
    "    with open(os.path.join(folder,file_name), 'wb') as f:\n",
    "        f.write(minidom.parseString(ET.tostring(additional)).toprettyxml(encoding=\"utf-8\"))\n",
    "    print(\"your file named: \", file_name, \" is located in: \",folder)\n",
    "    return os.path.join(folder,file_name)"
   ]
  },
  {
   "cell_type": "markdown",
   "metadata": {},
   "source": [
    "## Selecting Edges for Calibration and Creating Additional File"
   ]
  },
  {
   "cell_type": "code",
   "execution_count": 16,
   "metadata": {},
   "outputs": [
    {
     "name": "stdout",
     "output_type": "stream",
     "text": [
      "Series([], Name: speed_ms, dtype: float64)\n"
     ]
    }
   ],
   "source": [
    "print(new_df[new_df['EdgeID']=='17321']['speed_ms'])"
   ]
  },
  {
   "cell_type": "code",
   "execution_count": 17,
   "metadata": {},
   "outputs": [],
   "source": [
    "edges1 = new_df['EdgeID'].unique()"
   ]
  },
  {
   "cell_type": "code",
   "execution_count": 18,
   "metadata": {},
   "outputs": [
    {
     "name": "stdout",
     "output_type": "stream",
     "text": [
      "[-31294 -31293 -31291 -31156 -31042 -24909 -24859 -24852 -17323 -17322\n",
      " -17321 -17320 -17319 -17315 -17275 -17245 -16489 -16481 -16480 -16037\n",
      " -14392 -14390 -14324 -14323 -13907 -13901 -13825 -11375  -9904  -9685\n",
      "  -9624  -9567  -9543  -2263  -2201  -1650  -1513  -1512  -1511  -1500\n",
      "  -1499  -1492  -1491   -929   -928   -908   -907   -906   -643     79\n",
      "    117   1477   1490   1491   1492   1495   1499   1500   1505   1508\n",
      "   1512   1513   1517   1521   1527   1529   1650   2201   2202   2262\n",
      "   2263   9567   9568   9624   9696   9794   9803   9839   9862  13693\n",
      "  13694  13695  13904  13906  14323  14329  14331  15913  15914  15929\n",
      "  16480  16481  16482  16489  17235  17275  17276  17315  17316  17319\n",
      "  17321  17354  24794  24852  24859  24909  31156  31293  31294  31312]\n"
     ]
    }
   ],
   "source": [
    "print(edges1)"
   ]
  },
  {
   "cell_type": "code",
   "execution_count": 20,
   "metadata": {},
   "outputs": [],
   "source": [
    "# SUMO edge ids on Shallowford Rd\n",
    "edges2 = [1505,-1505,1508,-1508,1512,-1512,1513,-1513,1517,-1517,-1527,-1527,1650,-1650,16951,-16951,16480,-16480,\n",
    "        17276,-17276,17275,-17275,17235,-17235,17234,-17234,17315,-17315,17317,-17317,17316,-17316,17318,-17318,\n",
    "         17319,-17319,17332,-17332, 17331, -17331, 17321,-17321,17320,-17320,17323,-17323,17322,-17322]"
   ]
  },
  {
   "cell_type": "code",
   "execution_count": 22,
   "metadata": {},
   "outputs": [],
   "source": [
    "# Calibrate for only edges that appear in both the volume/speed data and shallowford Rd edges\n",
    "edges = [value for value in edges1 if value in edges2]"
   ]
  },
  {
   "cell_type": "code",
   "execution_count": 23,
   "metadata": {},
   "outputs": [
    {
     "name": "stdout",
     "output_type": "stream",
     "text": [
      "[-17323, -17322, -17321, -17320, -17319, -17315, -17275, -16480, -1650, -1513, -1512, 1505, 1508, 1512, 1513, 1517, 1650, 16480, 17235, 17275, 17276, 17315, 17316, 17319, 17321]\n"
     ]
    }
   ],
   "source": [
    "print(edges)"
   ]
  },
  {
   "cell_type": "code",
   "execution_count": 24,
   "metadata": {},
   "outputs": [],
   "source": [
    "# We calibrate from hour 0 to 10\n",
    "hours = [0,10]"
   ]
  },
  {
   "cell_type": "code",
   "execution_count": 25,
   "metadata": {},
   "outputs": [],
   "source": [
    "# Nprefix to the calibration additional file\n",
    "name = 'test'"
   ]
  },
  {
   "cell_type": "code",
   "execution_count": 28,
   "metadata": {},
   "outputs": [
    {
     "name": "stdout",
     "output_type": "stream",
     "text": [
      "your file named:  cal.add1.test.xml  is located in:  ./\n"
     ]
    },
    {
     "data": {
      "text/plain": [
       "'./cal.add1.test.xml'"
      ]
     },
     "execution_count": 28,
     "metadata": {},
     "output_type": "execute_result"
    }
   ],
   "source": [
    "build_additional_file(name,edges,new_df,hours)"
   ]
  },
  {
   "cell_type": "markdown",
   "metadata": {},
   "source": [
    "## Running Simulation with Calibrators and Visualizing Outputs"
   ]
  },
  {
   "cell_type": "markdown",
   "metadata": {},
   "source": [
    "### Run micro simulation with SUMO calibrator"
   ]
  },
  {
   "cell_type": "code",
   "execution_count": 30,
   "metadata": {},
   "outputs": [],
   "source": [
    "# Commented out to avoid excessive outputs from SUMO\n",
    "# !cd sumo -n ShallowfordRd.net.xml -r ShallowfordRd.rou.xml -a cal.add1.test.xml,micro_get_out.xml"
   ]
  },
  {
   "cell_type": "markdown",
   "metadata": {},
   "source": [
    "### Run meso simulation with calibrator "
   ]
  },
  {
   "cell_type": "code",
   "execution_count": 31,
   "metadata": {},
   "outputs": [],
   "source": [
    "# Run simulation with calibrator - Mesoscopic simulation (Commented out to avoid excessive outputs from SUMO)\n",
    "# !cd input/ && sumo -n ShallowfordRd.net.xml -r ShallowfordRd.rou.xml -a cal.add1.test.xml,meso_get_out.xml --mesosim t"
   ]
  },
  {
   "cell_type": "markdown",
   "metadata": {},
   "source": [
    "### Run micro simulation without calibration"
   ]
  },
  {
   "cell_type": "code",
   "execution_count": 32,
   "metadata": {},
   "outputs": [],
   "source": [
    "# Running micro without calibration (Commented out to avoid excessive outputs from SUMO)\n",
    "# !cd input/ && sumo -n ShallowfordRd.net.xml -r ShallowfordRd.rou.xml -a micro_no_cal.xml"
   ]
  },
  {
   "cell_type": "markdown",
   "metadata": {},
   "source": [
    "### Run meso simulation without calibration"
   ]
  },
  {
   "cell_type": "code",
   "execution_count": 33,
   "metadata": {},
   "outputs": [],
   "source": [
    "# Run simulation with no calibrator - Mesoscopic simulation (Commented out to avoid excessive outputs from SUMO)\n",
    "# !cd input/ && sumo -n ShallowfordRd.net.xml -r ShallowfordRd.rou.xml -a meso_no_cal.xml --mesosim t"
   ]
  },
  {
   "cell_type": "code",
   "execution_count": 27,
   "metadata": {},
   "outputs": [],
   "source": [
    "# Convert micro output xml into csv -- with calibration\n",
    "!cd output/ && python $SUMO_HOME/tools/xml/xml2csv.py micro_output.xml\n",
    "micro_out = pd.read_csv('output/micro_output.csv',sep=';')"
   ]
  },
  {
   "cell_type": "code",
   "execution_count": 28,
   "metadata": {},
   "outputs": [],
   "source": [
    "# Convert meso output xml into csv  -- with calibration\n",
    "!cd output/ && python $SUMO_HOME/tools/xml/xml2csv.py meso_output.xml\n",
    "meso_out = pd.read_csv('output/meso_output.csv',sep=';')"
   ]
  },
  {
   "cell_type": "code",
   "execution_count": 29,
   "metadata": {},
   "outputs": [],
   "source": [
    "# Convert micro output xml into csv\n",
    "!cd output/ && python $SUMO_HOME/tools/xml/xml2csv.py micro_no_out.xml\n",
    "micro_out_b = pd.read_csv('output/micro_no_out.csv',sep=';')"
   ]
  },
  {
   "cell_type": "code",
   "execution_count": 30,
   "metadata": {},
   "outputs": [],
   "source": [
    "# Convert meso output xml into csv\n",
    "!cd output/ && python $SUMO_HOME/tools/xml/xml2csv.py meso_no_out.xml\n",
    "meso_out_b = pd.read_csv('output/meso_no_out.csv',sep=';')"
   ]
  },
  {
   "cell_type": "code",
   "execution_count": 31,
   "metadata": {},
   "outputs": [],
   "source": [
    "# Calculate Average traffic volume (#/h) = speed * 3.6 * density"
   ]
  },
  {
   "cell_type": "code",
   "execution_count": 32,
   "metadata": {},
   "outputs": [],
   "source": [
    "micro_out['volume'] = micro_out['edge_speed']*3.6*micro_out['edge_density']\n",
    "meso_out['volume'] = meso_out['edge_speed']*3.6*meso_out['edge_density']"
   ]
  },
  {
   "cell_type": "code",
   "execution_count": 33,
   "metadata": {},
   "outputs": [],
   "source": [
    "micro_out_b['volume'] = micro_out_b['edge_speed']*3.6*micro_out_b['edge_density']\n",
    "meso_out_b['volume'] = meso_out_b['edge_speed']*3.6*meso_out_b['edge_density']"
   ]
  },
  {
   "cell_type": "code",
   "execution_count": 34,
   "metadata": {},
   "outputs": [
    {
     "data": {
      "text/html": [
       "<div>\n",
       "<style scoped>\n",
       "    .dataframe tbody tr th:only-of-type {\n",
       "        vertical-align: middle;\n",
       "    }\n",
       "\n",
       "    .dataframe tbody tr th {\n",
       "        vertical-align: top;\n",
       "    }\n",
       "\n",
       "    .dataframe thead th {\n",
       "        text-align: right;\n",
       "    }\n",
       "</style>\n",
       "<table border=\"1\" class=\"dataframe\">\n",
       "  <thead>\n",
       "    <tr style=\"text-align: right;\">\n",
       "      <th></th>\n",
       "      <th>interval_begin</th>\n",
       "      <th>interval_end</th>\n",
       "      <th>interval_id</th>\n",
       "      <th>edge_arrived</th>\n",
       "      <th>edge_density</th>\n",
       "      <th>edge_departed</th>\n",
       "      <th>edge_entered</th>\n",
       "      <th>edge_id</th>\n",
       "      <th>edge_laneChangedFrom</th>\n",
       "      <th>edge_laneChangedTo</th>\n",
       "      <th>edge_laneDensity</th>\n",
       "      <th>edge_left</th>\n",
       "      <th>edge_occupancy</th>\n",
       "      <th>edge_overlapTraveltime</th>\n",
       "      <th>edge_sampledSeconds</th>\n",
       "      <th>edge_speed</th>\n",
       "      <th>edge_traveltime</th>\n",
       "      <th>edge_waitingTime</th>\n",
       "      <th>volume</th>\n",
       "    </tr>\n",
       "  </thead>\n",
       "  <tbody>\n",
       "    <tr>\n",
       "      <th>0</th>\n",
       "      <td>0.0</td>\n",
       "      <td>3600.0</td>\n",
       "      <td>congestion</td>\n",
       "      <td>3</td>\n",
       "      <td>0.77</td>\n",
       "      <td>20</td>\n",
       "      <td>4</td>\n",
       "      <td>-11375</td>\n",
       "      <td>0</td>\n",
       "      <td>0</td>\n",
       "      <td>0.77</td>\n",
       "      <td>18</td>\n",
       "      <td>0.38</td>\n",
       "      <td>47.22</td>\n",
       "      <td>1005.29</td>\n",
       "      <td>7.81</td>\n",
       "      <td>46.37</td>\n",
       "      <td>0.0</td>\n",
       "      <td>21.64932</td>\n",
       "    </tr>\n",
       "    <tr>\n",
       "      <th>1</th>\n",
       "      <td>0.0</td>\n",
       "      <td>3600.0</td>\n",
       "      <td>congestion</td>\n",
       "      <td>0</td>\n",
       "      <td>0.75</td>\n",
       "      <td>13</td>\n",
       "      <td>14</td>\n",
       "      <td>-13693</td>\n",
       "      <td>0</td>\n",
       "      <td>0</td>\n",
       "      <td>0.75</td>\n",
       "      <td>27</td>\n",
       "      <td>0.35</td>\n",
       "      <td>5.23</td>\n",
       "      <td>134.89</td>\n",
       "      <td>10.55</td>\n",
       "      <td>4.89</td>\n",
       "      <td>0.0</td>\n",
       "      <td>28.48500</td>\n",
       "    </tr>\n",
       "    <tr>\n",
       "      <th>2</th>\n",
       "      <td>0.0</td>\n",
       "      <td>3600.0</td>\n",
       "      <td>congestion</td>\n",
       "      <td>0</td>\n",
       "      <td>0.47</td>\n",
       "      <td>14</td>\n",
       "      <td>0</td>\n",
       "      <td>-13694</td>\n",
       "      <td>0</td>\n",
       "      <td>0</td>\n",
       "      <td>0.47</td>\n",
       "      <td>14</td>\n",
       "      <td>0.23</td>\n",
       "      <td>7.97</td>\n",
       "      <td>102.79</td>\n",
       "      <td>8.18</td>\n",
       "      <td>7.65</td>\n",
       "      <td>0.0</td>\n",
       "      <td>13.84056</td>\n",
       "    </tr>\n",
       "    <tr>\n",
       "      <th>3</th>\n",
       "      <td>0.0</td>\n",
       "      <td>3600.0</td>\n",
       "      <td>congestion</td>\n",
       "      <td>2</td>\n",
       "      <td>3.27</td>\n",
       "      <td>19</td>\n",
       "      <td>128</td>\n",
       "      <td>-13695</td>\n",
       "      <td>0</td>\n",
       "      <td>0</td>\n",
       "      <td>3.27</td>\n",
       "      <td>145</td>\n",
       "      <td>1.50</td>\n",
       "      <td>4.09</td>\n",
       "      <td>594.57</td>\n",
       "      <td>13.57</td>\n",
       "      <td>3.78</td>\n",
       "      <td>0.0</td>\n",
       "      <td>159.74604</td>\n",
       "    </tr>\n",
       "    <tr>\n",
       "      <th>4</th>\n",
       "      <td>0.0</td>\n",
       "      <td>3600.0</td>\n",
       "      <td>congestion</td>\n",
       "      <td>4</td>\n",
       "      <td>2.09</td>\n",
       "      <td>16</td>\n",
       "      <td>39</td>\n",
       "      <td>-13825</td>\n",
       "      <td>33</td>\n",
       "      <td>33</td>\n",
       "      <td>1.04</td>\n",
       "      <td>51</td>\n",
       "      <td>0.50</td>\n",
       "      <td>21.88</td>\n",
       "      <td>1191.61</td>\n",
       "      <td>7.48</td>\n",
       "      <td>20.55</td>\n",
       "      <td>1.0</td>\n",
       "      <td>56.27952</td>\n",
       "    </tr>\n",
       "  </tbody>\n",
       "</table>\n",
       "</div>"
      ],
      "text/plain": [
       "   interval_begin  interval_end interval_id  edge_arrived  edge_density  \\\n",
       "0             0.0        3600.0  congestion             3          0.77   \n",
       "1             0.0        3600.0  congestion             0          0.75   \n",
       "2             0.0        3600.0  congestion             0          0.47   \n",
       "3             0.0        3600.0  congestion             2          3.27   \n",
       "4             0.0        3600.0  congestion             4          2.09   \n",
       "\n",
       "   edge_departed  edge_entered edge_id  edge_laneChangedFrom  \\\n",
       "0             20             4  -11375                     0   \n",
       "1             13            14  -13693                     0   \n",
       "2             14             0  -13694                     0   \n",
       "3             19           128  -13695                     0   \n",
       "4             16            39  -13825                    33   \n",
       "\n",
       "   edge_laneChangedTo  edge_laneDensity  edge_left  edge_occupancy  \\\n",
       "0                   0              0.77         18            0.38   \n",
       "1                   0              0.75         27            0.35   \n",
       "2                   0              0.47         14            0.23   \n",
       "3                   0              3.27        145            1.50   \n",
       "4                  33              1.04         51            0.50   \n",
       "\n",
       "   edge_overlapTraveltime  edge_sampledSeconds  edge_speed  edge_traveltime  \\\n",
       "0                   47.22              1005.29        7.81            46.37   \n",
       "1                    5.23               134.89       10.55             4.89   \n",
       "2                    7.97               102.79        8.18             7.65   \n",
       "3                    4.09               594.57       13.57             3.78   \n",
       "4                   21.88              1191.61        7.48            20.55   \n",
       "\n",
       "   edge_waitingTime     volume  \n",
       "0               0.0   21.64932  \n",
       "1               0.0   28.48500  \n",
       "2               0.0   13.84056  \n",
       "3               0.0  159.74604  \n",
       "4               1.0   56.27952  "
      ]
     },
     "execution_count": 34,
     "metadata": {},
     "output_type": "execute_result"
    }
   ],
   "source": [
    "micro_out.head()"
   ]
  },
  {
   "cell_type": "code",
   "execution_count": 35,
   "metadata": {},
   "outputs": [
    {
     "data": {
      "text/html": [
       "<div>\n",
       "<style scoped>\n",
       "    .dataframe tbody tr th:only-of-type {\n",
       "        vertical-align: middle;\n",
       "    }\n",
       "\n",
       "    .dataframe tbody tr th {\n",
       "        vertical-align: top;\n",
       "    }\n",
       "\n",
       "    .dataframe thead th {\n",
       "        text-align: right;\n",
       "    }\n",
       "</style>\n",
       "<table border=\"1\" class=\"dataframe\">\n",
       "  <thead>\n",
       "    <tr style=\"text-align: right;\">\n",
       "      <th></th>\n",
       "      <th>interval_begin</th>\n",
       "      <th>interval_end</th>\n",
       "      <th>interval_id</th>\n",
       "      <th>edge_arrived</th>\n",
       "      <th>edge_density</th>\n",
       "      <th>edge_departed</th>\n",
       "      <th>edge_entered</th>\n",
       "      <th>edge_id</th>\n",
       "      <th>edge_laneChangedFrom</th>\n",
       "      <th>edge_laneChangedTo</th>\n",
       "      <th>edge_laneDensity</th>\n",
       "      <th>edge_left</th>\n",
       "      <th>edge_occupancy</th>\n",
       "      <th>edge_overlapTraveltime</th>\n",
       "      <th>edge_sampledSeconds</th>\n",
       "      <th>edge_speed</th>\n",
       "      <th>edge_traveltime</th>\n",
       "      <th>edge_waitingTime</th>\n",
       "      <th>volume</th>\n",
       "    </tr>\n",
       "  </thead>\n",
       "  <tbody>\n",
       "    <tr>\n",
       "      <th>0</th>\n",
       "      <td>0.0</td>\n",
       "      <td>3600.0</td>\n",
       "      <td>congestion</td>\n",
       "      <td>3</td>\n",
       "      <td>0.68</td>\n",
       "      <td>20</td>\n",
       "      <td>4</td>\n",
       "      <td>-11375</td>\n",
       "      <td>0</td>\n",
       "      <td>0</td>\n",
       "      <td>0.68</td>\n",
       "      <td>18</td>\n",
       "      <td>0.34</td>\n",
       "      <td>41.74</td>\n",
       "      <td>894.16</td>\n",
       "      <td>8.84</td>\n",
       "      <td>41.17</td>\n",
       "      <td>0.0</td>\n",
       "      <td>21.64032</td>\n",
       "    </tr>\n",
       "    <tr>\n",
       "      <th>1</th>\n",
       "      <td>0.0</td>\n",
       "      <td>3600.0</td>\n",
       "      <td>congestion</td>\n",
       "      <td>0</td>\n",
       "      <td>0.43</td>\n",
       "      <td>13</td>\n",
       "      <td>14</td>\n",
       "      <td>-13693</td>\n",
       "      <td>0</td>\n",
       "      <td>0</td>\n",
       "      <td>0.43</td>\n",
       "      <td>27</td>\n",
       "      <td>0.22</td>\n",
       "      <td>3.16</td>\n",
       "      <td>77.64</td>\n",
       "      <td>17.44</td>\n",
       "      <td>2.88</td>\n",
       "      <td>0.0</td>\n",
       "      <td>26.99712</td>\n",
       "    </tr>\n",
       "    <tr>\n",
       "      <th>2</th>\n",
       "      <td>0.0</td>\n",
       "      <td>3600.0</td>\n",
       "      <td>congestion</td>\n",
       "      <td>0</td>\n",
       "      <td>0.23</td>\n",
       "      <td>14</td>\n",
       "      <td>0</td>\n",
       "      <td>-13694</td>\n",
       "      <td>0</td>\n",
       "      <td>0</td>\n",
       "      <td>0.23</td>\n",
       "      <td>14</td>\n",
       "      <td>0.11</td>\n",
       "      <td>3.82</td>\n",
       "      <td>49.35</td>\n",
       "      <td>17.07</td>\n",
       "      <td>3.52</td>\n",
       "      <td>0.0</td>\n",
       "      <td>14.13396</td>\n",
       "    </tr>\n",
       "    <tr>\n",
       "      <th>3</th>\n",
       "      <td>0.0</td>\n",
       "      <td>3600.0</td>\n",
       "      <td>congestion</td>\n",
       "      <td>2</td>\n",
       "      <td>2.39</td>\n",
       "      <td>19</td>\n",
       "      <td>129</td>\n",
       "      <td>-13695</td>\n",
       "      <td>0</td>\n",
       "      <td>0</td>\n",
       "      <td>2.39</td>\n",
       "      <td>145</td>\n",
       "      <td>1.19</td>\n",
       "      <td>3.24</td>\n",
       "      <td>434.18</td>\n",
       "      <td>17.14</td>\n",
       "      <td>2.95</td>\n",
       "      <td>0.0</td>\n",
       "      <td>147.47256</td>\n",
       "    </tr>\n",
       "    <tr>\n",
       "      <th>4</th>\n",
       "      <td>0.0</td>\n",
       "      <td>3600.0</td>\n",
       "      <td>congestion</td>\n",
       "      <td>4</td>\n",
       "      <td>1.85</td>\n",
       "      <td>16</td>\n",
       "      <td>44</td>\n",
       "      <td>-13825</td>\n",
       "      <td>0</td>\n",
       "      <td>0</td>\n",
       "      <td>0.93</td>\n",
       "      <td>56</td>\n",
       "      <td>0.46</td>\n",
       "      <td>18.19</td>\n",
       "      <td>1058.01</td>\n",
       "      <td>9.00</td>\n",
       "      <td>17.63</td>\n",
       "      <td>0.0</td>\n",
       "      <td>59.94000</td>\n",
       "    </tr>\n",
       "  </tbody>\n",
       "</table>\n",
       "</div>"
      ],
      "text/plain": [
       "   interval_begin  interval_end interval_id  edge_arrived  edge_density  \\\n",
       "0             0.0        3600.0  congestion             3          0.68   \n",
       "1             0.0        3600.0  congestion             0          0.43   \n",
       "2             0.0        3600.0  congestion             0          0.23   \n",
       "3             0.0        3600.0  congestion             2          2.39   \n",
       "4             0.0        3600.0  congestion             4          1.85   \n",
       "\n",
       "   edge_departed  edge_entered edge_id  edge_laneChangedFrom  \\\n",
       "0             20             4  -11375                     0   \n",
       "1             13            14  -13693                     0   \n",
       "2             14             0  -13694                     0   \n",
       "3             19           129  -13695                     0   \n",
       "4             16            44  -13825                     0   \n",
       "\n",
       "   edge_laneChangedTo  edge_laneDensity  edge_left  edge_occupancy  \\\n",
       "0                   0              0.68         18            0.34   \n",
       "1                   0              0.43         27            0.22   \n",
       "2                   0              0.23         14            0.11   \n",
       "3                   0              2.39        145            1.19   \n",
       "4                   0              0.93         56            0.46   \n",
       "\n",
       "   edge_overlapTraveltime  edge_sampledSeconds  edge_speed  edge_traveltime  \\\n",
       "0                   41.74               894.16        8.84            41.17   \n",
       "1                    3.16                77.64       17.44             2.88   \n",
       "2                    3.82                49.35       17.07             3.52   \n",
       "3                    3.24               434.18       17.14             2.95   \n",
       "4                   18.19              1058.01        9.00            17.63   \n",
       "\n",
       "   edge_waitingTime     volume  \n",
       "0               0.0   21.64032  \n",
       "1               0.0   26.99712  \n",
       "2               0.0   14.13396  \n",
       "3               0.0  147.47256  \n",
       "4               0.0   59.94000  "
      ]
     },
     "execution_count": 35,
     "metadata": {},
     "output_type": "execute_result"
    }
   ],
   "source": [
    "meso_out.head()"
   ]
  },
  {
   "cell_type": "code",
   "execution_count": 36,
   "metadata": {},
   "outputs": [],
   "source": [
    "# Calculating MAPE for calibrated simulations\n",
    "micro_err = {}\n",
    "micro_err_v = {}\n",
    "meso_err = {}\n",
    "meso_err_v = {}\n",
    "for edge in edges:\n",
    "    # Speed MAPE\n",
    "    micro_spd = micro_out[micro_out['edge_id']==str(edge)]['edge_speed'].values[1:9]\n",
    "    meso_spd = meso_out[meso_out['edge_id']==str(edge)]['edge_speed'].values[1:9]\n",
    "    tt_spd = new_df.loc[new_df['EdgeID'] == edge]['speed_ms'].values[1:9]\n",
    "    micro_error = np.mean(np.abs(micro_spd - tt_spd)/tt_spd) *100\n",
    "    meso_error = np.mean(np.abs(meso_spd - tt_spd)/tt_spd) *100\n",
    "    micro_err[str(edge)] = micro_error\n",
    "    meso_err[str(edge)] = meso_error\n",
    "    \n",
    "    # Volume MAPE\n",
    "    micro_vol = micro_out[micro_out['edge_id']==str(edge)]['volume'].values[1:9]\n",
    "    meso_vol = meso_out[meso_out['edge_id']==str(edge)]['volume'].values[1:9]\n",
    "    tt_vol = new_df.loc[new_df['EdgeID'] == edge]['flow'].values[1:9]\n",
    "    micro_error = np.mean(np.abs(micro_vol - tt_vol)/tt_vol) *100\n",
    "    meso_error = np.mean(np.abs(meso_vol - tt_vol)/tt_vol) *100\n",
    "    micro_err_v[str(edge)] = micro_error\n",
    "    meso_err_v[str(edge)] = meso_error\n",
    "#     print(\"edge: \", edge, \" error: \", error, \"\\n\")"
   ]
  },
  {
   "cell_type": "code",
   "execution_count": 37,
   "metadata": {},
   "outputs": [],
   "source": [
    "# Calculating MAPE for basiline simulations\n",
    "micro_err_b = {}\n",
    "micro_err_v_b = {}\n",
    "meso_err_b = {}\n",
    "meso_err_v_b = {}\n",
    "for edge in edges:\n",
    "    # Speed MAPE\n",
    "    micro_spd = micro_out_b[micro_out_b['edge_id']==str(edge)]['edge_speed'].values[1:9]\n",
    "    meso_spd = meso_out_b[meso_out_b['edge_id']==str(edge)]['edge_speed'].values[1:9]\n",
    "    tt_spd = new_df.loc[new_df['EdgeID'] == edge]['speed_ms'].values[1:9]\n",
    "    micro_error = np.mean(np.abs(micro_spd - tt_spd)/tt_spd) *100\n",
    "    meso_error = np.mean(np.abs(meso_spd - tt_spd)/tt_spd) *100\n",
    "    micro_err_b[str(edge)] = micro_error\n",
    "    meso_err_b[str(edge)] = meso_error\n",
    "    \n",
    "    # Volume MAPE\n",
    "    micro_vol = micro_out_b[micro_out_b['edge_id']==str(edge)]['volume'].values[1:9]\n",
    "    meso_vol = meso_out_b[meso_out_b['edge_id']==str(edge)]['volume'].values[1:9]\n",
    "    tt_vol = new_df.loc[new_df['EdgeID'] == edge]['flow'].values[1:9]\n",
    "    micro_error = np.mean(np.abs(micro_vol - tt_vol)/tt_vol) *100\n",
    "    meso_error = np.mean(np.abs(meso_vol - tt_vol)/tt_vol) *100\n",
    "    micro_err_v_b[str(edge)] = micro_error\n",
    "    meso_err_v_b[str(edge)] = meso_error"
   ]
  },
  {
   "cell_type": "code",
   "execution_count": 38,
   "metadata": {},
   "outputs": [],
   "source": [
    "df_box = pd.DataFrame()"
   ]
  },
  {
   "cell_type": "code",
   "execution_count": 39,
   "metadata": {},
   "outputs": [
    {
     "name": "stdout",
     "output_type": "stream",
     "text": [
      "dict_values([22.048413256829168, 80.41754970098796, 15.759862631505891, 82.65355553447289, 22.27019889930339, 25.458939434818404, 67.11797862216811, 92.80873684192234, 62.194678655685344, 17.152828624502114, 67.45467953727446, 18.065774854780013, 25.35278361573983, 24.077892358946045, 87.41261712888861, 14.424105245522389, 83.84783850465982, 19.28648119875645, 72.93593202234301, 27.89347037254496, 59.49162749541729, 90.03880144295552, 35.274293943105626, 39.43708290427234, 16.757226401523738])\n"
     ]
    }
   ],
   "source": [
    "print(micro_err.values())"
   ]
  },
  {
   "cell_type": "code",
   "execution_count": 40,
   "metadata": {},
   "outputs": [],
   "source": [
    "df_box['Base Micro Speed'] = list(micro_err_b.values())\n",
    "df_box['Calibrated Micro Speed'] = list(micro_err.values())\n",
    "df_box['Base Micro Volume'] = list(micro_err_v_b.values())\n",
    "df_box['Calibrated Micro Volume'] = list(micro_err_v.values())"
   ]
  },
  {
   "cell_type": "code",
   "execution_count": 41,
   "metadata": {},
   "outputs": [],
   "source": [
    "df_box['Base Meso Speed'] = list(meso_err_b.values())\n",
    "df_box['Calibrated Meso Speed'] = list(meso_err.values())\n",
    "df_box['Base Meso Volume'] = list(meso_err_v_b.values())\n",
    "df_box['Calibrated Meso Volume'] = list(meso_err_v.values())"
   ]
  },
  {
   "cell_type": "code",
   "execution_count": 42,
   "metadata": {},
   "outputs": [
    {
     "data": {
      "application/vnd.plotly.v1+json": {
       "config": {
        "linkText": "Export to plot.ly",
        "plotlyServerURL": "https://plot.ly",
        "showLink": true
       },
       "data": [
        {
         "boxpoints": false,
         "line": {
          "width": 1.3
         },
         "marker": {
          "color": "rgba(255, 153, 51, 1.0)"
         },
         "name": "Base Micro Speed",
         "orientation": "v",
         "type": "box",
         "y": [
          99.47367069435971,
          99.45975025972312,
          99.31689177496386,
          99.50335656625168,
          99.33785833160633,
          99.11530819597986,
          98.95897626073598,
          99.46930961854383,
          99.64384726059865,
          99.65852517545322,
          99.76043156286659,
          90.82509346412101,
          89.2051939784396,
          88.93383962577359,
          98.82850329351605,
          97.31468458351384,
          99.63502714893397,
          99.70573476706971,
          99.81013347912513,
          99.8073306118941,
          99.60473319594858,
          99.73162907234892,
          99.72189919532752,
          99.74932370258948,
          99.75069906154623
         ]
        },
        {
         "boxpoints": false,
         "line": {
          "width": 1.3
         },
         "marker": {
          "color": "rgba(55, 128, 191, 1.0)"
         },
         "name": "Calibrated Micro Speed",
         "orientation": "v",
         "type": "box",
         "y": [
          22.048413256829168,
          80.41754970098796,
          15.759862631505891,
          82.65355553447289,
          22.27019889930339,
          25.458939434818404,
          67.11797862216811,
          92.80873684192234,
          62.194678655685344,
          17.152828624502114,
          67.45467953727446,
          18.065774854780013,
          25.35278361573983,
          24.077892358946045,
          87.41261712888861,
          14.424105245522389,
          83.84783850465982,
          19.28648119875645,
          72.93593202234301,
          27.89347037254496,
          59.49162749541729,
          90.03880144295552,
          35.274293943105626,
          39.43708290427234,
          16.757226401523738
         ]
        },
        {
         "boxpoints": false,
         "line": {
          "width": 1.3
         },
         "marker": {
          "color": "rgba(50, 171, 96, 1.0)"
         },
         "name": "Base Micro Volume",
         "orientation": "v",
         "type": "box",
         "y": [
          243.51418260595085,
          318.7740312146366,
          302.561853007452,
          318.46456784219936,
          417.7366178435007,
          372.6170370156513,
          287.8557659654355,
          269.67091366766135,
          191.53576128224347,
          170.3682795025595,
          173.329435076866,
          326.0576473156772,
          350.9735061833433,
          352.14596088999974,
          438.25751253320425,
          444.9290962190803,
          220.55818324749356,
          109.14165195608714,
          85.23577270712946,
          72.2780372353714,
          109.3760717354622,
          151.3819785432559,
          182.24506906313042,
          159.84262907143608,
          116.43159218473326
         ]
        },
        {
         "boxpoints": false,
         "line": {
          "width": 1.3
         },
         "marker": {
          "color": "rgba(128, 0, 128, 1.0)"
         },
         "name": "Calibrated Micro Volume",
         "orientation": "v",
         "type": "box",
         "y": [
          17.034821635195758,
          6.0558245120170735,
          58.99815632094051,
          18.094186064442535,
          137.84335032270266,
          182.18409938689442,
          34.75616334312931,
          44.20568183508141,
          476.1470843142347,
          337.9056203447814,
          1023.7142517783844,
          3.668845036782551,
          13.671975434270681,
          317.4423861802394,
          5.934942612577767,
          79.24444891657573,
          72.06648781197816,
          256.5686852402659,
          146.39917464087148,
          31.745497311501232,
          8.99357322949897,
          54.52378160856011,
          41.39833866074192,
          143.97804108403332,
          789.8132145575369
         ]
        },
        {
         "boxpoints": false,
         "line": {
          "width": 1.3
         },
         "marker": {
          "color": "rgba(219, 64, 82, 1.0)"
         },
         "name": "Base Meso Speed",
         "orientation": "v",
         "type": "box",
         "y": [
          25.606268817564477,
          13.82270698242018,
          55.862041003700625,
          29.694759093795042,
          38.03325283123492,
          28.3376975064756,
          70.91585793511325,
          67.98263016708398,
          38.762267438211865,
          49.510626324832984,
          40.88560695291115,
          46.70594916257633,
          37.236689044324265,
          44.72253796972956,
          41.624830339657635,
          69.1306122635305,
          24.29645547058938,
          47.52485561659967,
          16.983990061264052,
          18.93145521920382,
          67.38860042177481,
          48.57647672344045,
          64.44261148671558,
          30.379733766022778,
          34.60681441882368
         ]
        },
        {
         "boxpoints": false,
         "line": {
          "width": 1.3
         },
         "marker": {
          "color": "rgba(0, 128, 128, 1.0)"
         },
         "name": "Calibrated Meso Speed",
         "orientation": "v",
         "type": "box",
         "y": [
          0.9608755273083328,
          2.4260788203617936,
          1.66689608937536,
          1.997087297293357,
          1.0803764212342082,
          1.3056185844965988,
          1.5105203083691208,
          1.2091898841277409,
          1.5432488252503707,
          1.210872190298638,
          1.93344573264443,
          2.5454250405724803,
          0.9039065551328589,
          2.1065699053236986,
          4.032132383680866,
          3.2818897947046186,
          5.295740051624175,
          1.9171361058286345,
          1.3868907805573336,
          2.574688985956673,
          3.678300767943521,
          2.529333138222485,
          1.5657433398034721,
          1.988808520372495,
          1.6806993097355365
         ]
        },
        {
         "boxpoints": false,
         "line": {
          "width": 1.3
         },
         "marker": {
          "color": "rgba(255, 255, 51, 1.0)"
         },
         "name": "Base Meso Volume",
         "orientation": "v",
         "type": "box",
         "y": [
          2167.359865084928,
          2482.7210844532524,
          2521.46815268576,
          2685.2313404068145,
          2720.9374781021115,
          2682.1342317902263,
          3092.490328676674,
          3010.039734422044,
          2718.3115415933826,
          2734.887700991167,
          1941.1404597267203,
          1675.5832372693935,
          1886.498275371471,
          1900.5300212878556,
          2752.3801259422553,
          2938.9264657011972,
          3250.1749502416715,
          3385.6255287402037,
          2117.150300016199,
          2020.1370033341768,
          3073.247221505267,
          2471.238147464889,
          2401.759014977926,
          3097.1561739987937,
          2471.7941657277156
         ]
        },
        {
         "boxpoints": false,
         "line": {
          "width": 1.3
         },
         "marker": {
          "color": "rgba(128, 128, 0, 1.0)"
         },
         "name": "Calibrated Meso Volume",
         "orientation": "v",
         "type": "box",
         "y": [
          23.404277327199765,
          7.124361732639828,
          67.2409907325122,
          9.604150700589283,
          158.10797771367348,
          208.16549177695353,
          54.59822197243764,
          197.79434336417896,
          595.4621178893259,
          455.4844065269091,
          1168.3624513173093,
          4.847672067136653,
          32.23337849718478,
          252.27296314932283,
          6.236474942210016,
          90.93109125243247,
          128.8403150020147,
          202.8520112067831,
          198.4900552884684,
          49.60842384881449,
          12.231501062974559,
          69.11406989404948,
          97.31762171688099,
          225.00348123538635,
          771.8857567268508
         ]
        }
       ],
       "layout": {
        "legend": {
         "bgcolor": "#F5F6F9",
         "font": {
          "color": "#4D5663"
         }
        },
        "paper_bgcolor": "#F5F6F9",
        "plot_bgcolor": "#F5F6F9",
        "template": {
         "data": {
          "bar": [
           {
            "error_x": {
             "color": "#2a3f5f"
            },
            "error_y": {
             "color": "#2a3f5f"
            },
            "marker": {
             "line": {
              "color": "#E5ECF6",
              "width": 0.5
             }
            },
            "type": "bar"
           }
          ],
          "barpolar": [
           {
            "marker": {
             "line": {
              "color": "#E5ECF6",
              "width": 0.5
             }
            },
            "type": "barpolar"
           }
          ],
          "carpet": [
           {
            "aaxis": {
             "endlinecolor": "#2a3f5f",
             "gridcolor": "white",
             "linecolor": "white",
             "minorgridcolor": "white",
             "startlinecolor": "#2a3f5f"
            },
            "baxis": {
             "endlinecolor": "#2a3f5f",
             "gridcolor": "white",
             "linecolor": "white",
             "minorgridcolor": "white",
             "startlinecolor": "#2a3f5f"
            },
            "type": "carpet"
           }
          ],
          "choropleth": [
           {
            "colorbar": {
             "outlinewidth": 0,
             "ticks": ""
            },
            "type": "choropleth"
           }
          ],
          "contour": [
           {
            "colorbar": {
             "outlinewidth": 0,
             "ticks": ""
            },
            "colorscale": [
             [
              0,
              "#0d0887"
             ],
             [
              0.1111111111111111,
              "#46039f"
             ],
             [
              0.2222222222222222,
              "#7201a8"
             ],
             [
              0.3333333333333333,
              "#9c179e"
             ],
             [
              0.4444444444444444,
              "#bd3786"
             ],
             [
              0.5555555555555556,
              "#d8576b"
             ],
             [
              0.6666666666666666,
              "#ed7953"
             ],
             [
              0.7777777777777778,
              "#fb9f3a"
             ],
             [
              0.8888888888888888,
              "#fdca26"
             ],
             [
              1,
              "#f0f921"
             ]
            ],
            "type": "contour"
           }
          ],
          "contourcarpet": [
           {
            "colorbar": {
             "outlinewidth": 0,
             "ticks": ""
            },
            "type": "contourcarpet"
           }
          ],
          "heatmap": [
           {
            "colorbar": {
             "outlinewidth": 0,
             "ticks": ""
            },
            "colorscale": [
             [
              0,
              "#0d0887"
             ],
             [
              0.1111111111111111,
              "#46039f"
             ],
             [
              0.2222222222222222,
              "#7201a8"
             ],
             [
              0.3333333333333333,
              "#9c179e"
             ],
             [
              0.4444444444444444,
              "#bd3786"
             ],
             [
              0.5555555555555556,
              "#d8576b"
             ],
             [
              0.6666666666666666,
              "#ed7953"
             ],
             [
              0.7777777777777778,
              "#fb9f3a"
             ],
             [
              0.8888888888888888,
              "#fdca26"
             ],
             [
              1,
              "#f0f921"
             ]
            ],
            "type": "heatmap"
           }
          ],
          "heatmapgl": [
           {
            "colorbar": {
             "outlinewidth": 0,
             "ticks": ""
            },
            "colorscale": [
             [
              0,
              "#0d0887"
             ],
             [
              0.1111111111111111,
              "#46039f"
             ],
             [
              0.2222222222222222,
              "#7201a8"
             ],
             [
              0.3333333333333333,
              "#9c179e"
             ],
             [
              0.4444444444444444,
              "#bd3786"
             ],
             [
              0.5555555555555556,
              "#d8576b"
             ],
             [
              0.6666666666666666,
              "#ed7953"
             ],
             [
              0.7777777777777778,
              "#fb9f3a"
             ],
             [
              0.8888888888888888,
              "#fdca26"
             ],
             [
              1,
              "#f0f921"
             ]
            ],
            "type": "heatmapgl"
           }
          ],
          "histogram": [
           {
            "marker": {
             "colorbar": {
              "outlinewidth": 0,
              "ticks": ""
             }
            },
            "type": "histogram"
           }
          ],
          "histogram2d": [
           {
            "colorbar": {
             "outlinewidth": 0,
             "ticks": ""
            },
            "colorscale": [
             [
              0,
              "#0d0887"
             ],
             [
              0.1111111111111111,
              "#46039f"
             ],
             [
              0.2222222222222222,
              "#7201a8"
             ],
             [
              0.3333333333333333,
              "#9c179e"
             ],
             [
              0.4444444444444444,
              "#bd3786"
             ],
             [
              0.5555555555555556,
              "#d8576b"
             ],
             [
              0.6666666666666666,
              "#ed7953"
             ],
             [
              0.7777777777777778,
              "#fb9f3a"
             ],
             [
              0.8888888888888888,
              "#fdca26"
             ],
             [
              1,
              "#f0f921"
             ]
            ],
            "type": "histogram2d"
           }
          ],
          "histogram2dcontour": [
           {
            "colorbar": {
             "outlinewidth": 0,
             "ticks": ""
            },
            "colorscale": [
             [
              0,
              "#0d0887"
             ],
             [
              0.1111111111111111,
              "#46039f"
             ],
             [
              0.2222222222222222,
              "#7201a8"
             ],
             [
              0.3333333333333333,
              "#9c179e"
             ],
             [
              0.4444444444444444,
              "#bd3786"
             ],
             [
              0.5555555555555556,
              "#d8576b"
             ],
             [
              0.6666666666666666,
              "#ed7953"
             ],
             [
              0.7777777777777778,
              "#fb9f3a"
             ],
             [
              0.8888888888888888,
              "#fdca26"
             ],
             [
              1,
              "#f0f921"
             ]
            ],
            "type": "histogram2dcontour"
           }
          ],
          "mesh3d": [
           {
            "colorbar": {
             "outlinewidth": 0,
             "ticks": ""
            },
            "type": "mesh3d"
           }
          ],
          "parcoords": [
           {
            "line": {
             "colorbar": {
              "outlinewidth": 0,
              "ticks": ""
             }
            },
            "type": "parcoords"
           }
          ],
          "pie": [
           {
            "automargin": true,
            "type": "pie"
           }
          ],
          "scatter": [
           {
            "marker": {
             "colorbar": {
              "outlinewidth": 0,
              "ticks": ""
             }
            },
            "type": "scatter"
           }
          ],
          "scatter3d": [
           {
            "line": {
             "colorbar": {
              "outlinewidth": 0,
              "ticks": ""
             }
            },
            "marker": {
             "colorbar": {
              "outlinewidth": 0,
              "ticks": ""
             }
            },
            "type": "scatter3d"
           }
          ],
          "scattercarpet": [
           {
            "marker": {
             "colorbar": {
              "outlinewidth": 0,
              "ticks": ""
             }
            },
            "type": "scattercarpet"
           }
          ],
          "scattergeo": [
           {
            "marker": {
             "colorbar": {
              "outlinewidth": 0,
              "ticks": ""
             }
            },
            "type": "scattergeo"
           }
          ],
          "scattergl": [
           {
            "marker": {
             "colorbar": {
              "outlinewidth": 0,
              "ticks": ""
             }
            },
            "type": "scattergl"
           }
          ],
          "scattermapbox": [
           {
            "marker": {
             "colorbar": {
              "outlinewidth": 0,
              "ticks": ""
             }
            },
            "type": "scattermapbox"
           }
          ],
          "scatterpolar": [
           {
            "marker": {
             "colorbar": {
              "outlinewidth": 0,
              "ticks": ""
             }
            },
            "type": "scatterpolar"
           }
          ],
          "scatterpolargl": [
           {
            "marker": {
             "colorbar": {
              "outlinewidth": 0,
              "ticks": ""
             }
            },
            "type": "scatterpolargl"
           }
          ],
          "scatterternary": [
           {
            "marker": {
             "colorbar": {
              "outlinewidth": 0,
              "ticks": ""
             }
            },
            "type": "scatterternary"
           }
          ],
          "surface": [
           {
            "colorbar": {
             "outlinewidth": 0,
             "ticks": ""
            },
            "colorscale": [
             [
              0,
              "#0d0887"
             ],
             [
              0.1111111111111111,
              "#46039f"
             ],
             [
              0.2222222222222222,
              "#7201a8"
             ],
             [
              0.3333333333333333,
              "#9c179e"
             ],
             [
              0.4444444444444444,
              "#bd3786"
             ],
             [
              0.5555555555555556,
              "#d8576b"
             ],
             [
              0.6666666666666666,
              "#ed7953"
             ],
             [
              0.7777777777777778,
              "#fb9f3a"
             ],
             [
              0.8888888888888888,
              "#fdca26"
             ],
             [
              1,
              "#f0f921"
             ]
            ],
            "type": "surface"
           }
          ],
          "table": [
           {
            "cells": {
             "fill": {
              "color": "#EBF0F8"
             },
             "line": {
              "color": "white"
             }
            },
            "header": {
             "fill": {
              "color": "#C8D4E3"
             },
             "line": {
              "color": "white"
             }
            },
            "type": "table"
           }
          ]
         },
         "layout": {
          "annotationdefaults": {
           "arrowcolor": "#2a3f5f",
           "arrowhead": 0,
           "arrowwidth": 1
          },
          "autotypenumbers": "strict",
          "coloraxis": {
           "colorbar": {
            "outlinewidth": 0,
            "ticks": ""
           }
          },
          "colorscale": {
           "diverging": [
            [
             0,
             "#8e0152"
            ],
            [
             0.1,
             "#c51b7d"
            ],
            [
             0.2,
             "#de77ae"
            ],
            [
             0.3,
             "#f1b6da"
            ],
            [
             0.4,
             "#fde0ef"
            ],
            [
             0.5,
             "#f7f7f7"
            ],
            [
             0.6,
             "#e6f5d0"
            ],
            [
             0.7,
             "#b8e186"
            ],
            [
             0.8,
             "#7fbc41"
            ],
            [
             0.9,
             "#4d9221"
            ],
            [
             1,
             "#276419"
            ]
           ],
           "sequential": [
            [
             0,
             "#0d0887"
            ],
            [
             0.1111111111111111,
             "#46039f"
            ],
            [
             0.2222222222222222,
             "#7201a8"
            ],
            [
             0.3333333333333333,
             "#9c179e"
            ],
            [
             0.4444444444444444,
             "#bd3786"
            ],
            [
             0.5555555555555556,
             "#d8576b"
            ],
            [
             0.6666666666666666,
             "#ed7953"
            ],
            [
             0.7777777777777778,
             "#fb9f3a"
            ],
            [
             0.8888888888888888,
             "#fdca26"
            ],
            [
             1,
             "#f0f921"
            ]
           ],
           "sequentialminus": [
            [
             0,
             "#0d0887"
            ],
            [
             0.1111111111111111,
             "#46039f"
            ],
            [
             0.2222222222222222,
             "#7201a8"
            ],
            [
             0.3333333333333333,
             "#9c179e"
            ],
            [
             0.4444444444444444,
             "#bd3786"
            ],
            [
             0.5555555555555556,
             "#d8576b"
            ],
            [
             0.6666666666666666,
             "#ed7953"
            ],
            [
             0.7777777777777778,
             "#fb9f3a"
            ],
            [
             0.8888888888888888,
             "#fdca26"
            ],
            [
             1,
             "#f0f921"
            ]
           ]
          },
          "colorway": [
           "#636efa",
           "#EF553B",
           "#00cc96",
           "#ab63fa",
           "#FFA15A",
           "#19d3f3",
           "#FF6692",
           "#B6E880",
           "#FF97FF",
           "#FECB52"
          ],
          "font": {
           "color": "#2a3f5f"
          },
          "geo": {
           "bgcolor": "white",
           "lakecolor": "white",
           "landcolor": "#E5ECF6",
           "showlakes": true,
           "showland": true,
           "subunitcolor": "white"
          },
          "hoverlabel": {
           "align": "left"
          },
          "hovermode": "closest",
          "mapbox": {
           "style": "light"
          },
          "paper_bgcolor": "white",
          "plot_bgcolor": "#E5ECF6",
          "polar": {
           "angularaxis": {
            "gridcolor": "white",
            "linecolor": "white",
            "ticks": ""
           },
           "bgcolor": "#E5ECF6",
           "radialaxis": {
            "gridcolor": "white",
            "linecolor": "white",
            "ticks": ""
           }
          },
          "scene": {
           "xaxis": {
            "backgroundcolor": "#E5ECF6",
            "gridcolor": "white",
            "gridwidth": 2,
            "linecolor": "white",
            "showbackground": true,
            "ticks": "",
            "zerolinecolor": "white"
           },
           "yaxis": {
            "backgroundcolor": "#E5ECF6",
            "gridcolor": "white",
            "gridwidth": 2,
            "linecolor": "white",
            "showbackground": true,
            "ticks": "",
            "zerolinecolor": "white"
           },
           "zaxis": {
            "backgroundcolor": "#E5ECF6",
            "gridcolor": "white",
            "gridwidth": 2,
            "linecolor": "white",
            "showbackground": true,
            "ticks": "",
            "zerolinecolor": "white"
           }
          },
          "shapedefaults": {
           "line": {
            "color": "#2a3f5f"
           }
          },
          "ternary": {
           "aaxis": {
            "gridcolor": "white",
            "linecolor": "white",
            "ticks": ""
           },
           "baxis": {
            "gridcolor": "white",
            "linecolor": "white",
            "ticks": ""
           },
           "bgcolor": "#E5ECF6",
           "caxis": {
            "gridcolor": "white",
            "linecolor": "white",
            "ticks": ""
           }
          },
          "title": {
           "x": 0.05
          },
          "xaxis": {
           "automargin": true,
           "gridcolor": "white",
           "linecolor": "white",
           "ticks": "",
           "title": {
            "standoff": 15
           },
           "zerolinecolor": "white",
           "zerolinewidth": 2
          },
          "yaxis": {
           "automargin": true,
           "gridcolor": "white",
           "linecolor": "white",
           "ticks": "",
           "title": {
            "standoff": 15
           },
           "zerolinecolor": "white",
           "zerolinewidth": 2
          }
         }
        },
        "title": {
         "font": {
          "color": "#4D5663"
         }
        },
        "xaxis": {
         "gridcolor": "#E1E5ED",
         "showgrid": true,
         "tickfont": {
          "color": "#4D5663"
         },
         "title": {
          "font": {
           "color": "#4D5663"
          },
          "text": ""
         },
         "zerolinecolor": "#E1E5ED"
        },
        "yaxis": {
         "gridcolor": "#E1E5ED",
         "showgrid": true,
         "tickfont": {
          "color": "#4D5663"
         },
         "title": {
          "font": {
           "color": "#4D5663"
          },
          "text": ""
         },
         "zerolinecolor": "#E1E5ED"
        }
       }
      },
      "text/html": [
       "<div>                            <div id=\"50393e09-7e89-4899-a8ab-7de233fcbbd4\" class=\"plotly-graph-div\" style=\"height:525px; width:100%;\"></div>            <script type=\"text/javascript\">                require([\"plotly\"], function(Plotly) {                    window.PLOTLYENV=window.PLOTLYENV || {};\n",
       "                    window.PLOTLYENV.BASE_URL='https://plot.ly';                                    if (document.getElementById(\"50393e09-7e89-4899-a8ab-7de233fcbbd4\")) {                    Plotly.newPlot(                        \"50393e09-7e89-4899-a8ab-7de233fcbbd4\",                        [{\"boxpoints\": false, \"line\": {\"width\": 1.3}, \"marker\": {\"color\": \"rgba(255, 153, 51, 1.0)\"}, \"name\": \"Base Micro Speed\", \"orientation\": \"v\", \"type\": \"box\", \"y\": [99.47367069435971, 99.45975025972312, 99.31689177496386, 99.50335656625168, 99.33785833160633, 99.11530819597986, 98.95897626073598, 99.46930961854383, 99.64384726059865, 99.65852517545322, 99.76043156286659, 90.82509346412101, 89.2051939784396, 88.93383962577359, 98.82850329351605, 97.31468458351384, 99.63502714893397, 99.70573476706971, 99.81013347912513, 99.8073306118941, 99.60473319594858, 99.73162907234892, 99.72189919532752, 99.74932370258948, 99.75069906154623]}, {\"boxpoints\": false, \"line\": {\"width\": 1.3}, \"marker\": {\"color\": \"rgba(55, 128, 191, 1.0)\"}, \"name\": \"Calibrated Micro Speed\", \"orientation\": \"v\", \"type\": \"box\", \"y\": [22.048413256829168, 80.41754970098796, 15.759862631505891, 82.65355553447289, 22.27019889930339, 25.458939434818404, 67.11797862216811, 92.80873684192234, 62.194678655685344, 17.152828624502114, 67.45467953727446, 18.065774854780013, 25.35278361573983, 24.077892358946045, 87.41261712888861, 14.424105245522389, 83.84783850465982, 19.28648119875645, 72.93593202234301, 27.89347037254496, 59.49162749541729, 90.03880144295552, 35.274293943105626, 39.43708290427234, 16.757226401523738]}, {\"boxpoints\": false, \"line\": {\"width\": 1.3}, \"marker\": {\"color\": \"rgba(50, 171, 96, 1.0)\"}, \"name\": \"Base Micro Volume\", \"orientation\": \"v\", \"type\": \"box\", \"y\": [243.51418260595085, 318.7740312146366, 302.561853007452, 318.46456784219936, 417.7366178435007, 372.6170370156513, 287.8557659654355, 269.67091366766135, 191.53576128224347, 170.3682795025595, 173.329435076866, 326.0576473156772, 350.9735061833433, 352.14596088999974, 438.25751253320425, 444.9290962190803, 220.55818324749356, 109.14165195608714, 85.23577270712946, 72.2780372353714, 109.3760717354622, 151.3819785432559, 182.24506906313042, 159.84262907143608, 116.43159218473326]}, {\"boxpoints\": false, \"line\": {\"width\": 1.3}, \"marker\": {\"color\": \"rgba(128, 0, 128, 1.0)\"}, \"name\": \"Calibrated Micro Volume\", \"orientation\": \"v\", \"type\": \"box\", \"y\": [17.034821635195758, 6.0558245120170735, 58.99815632094051, 18.094186064442535, 137.84335032270266, 182.18409938689442, 34.75616334312931, 44.20568183508141, 476.1470843142347, 337.9056203447814, 1023.7142517783844, 3.668845036782551, 13.671975434270681, 317.4423861802394, 5.934942612577767, 79.24444891657573, 72.06648781197816, 256.5686852402659, 146.39917464087148, 31.745497311501232, 8.99357322949897, 54.52378160856011, 41.39833866074192, 143.97804108403332, 789.8132145575369]}, {\"boxpoints\": false, \"line\": {\"width\": 1.3}, \"marker\": {\"color\": \"rgba(219, 64, 82, 1.0)\"}, \"name\": \"Base Meso Speed\", \"orientation\": \"v\", \"type\": \"box\", \"y\": [25.606268817564477, 13.82270698242018, 55.862041003700625, 29.694759093795042, 38.03325283123492, 28.3376975064756, 70.91585793511325, 67.98263016708398, 38.762267438211865, 49.510626324832984, 40.88560695291115, 46.70594916257633, 37.236689044324265, 44.72253796972956, 41.624830339657635, 69.1306122635305, 24.29645547058938, 47.52485561659967, 16.983990061264052, 18.93145521920382, 67.38860042177481, 48.57647672344045, 64.44261148671558, 30.379733766022778, 34.60681441882368]}, {\"boxpoints\": false, \"line\": {\"width\": 1.3}, \"marker\": {\"color\": \"rgba(0, 128, 128, 1.0)\"}, \"name\": \"Calibrated Meso Speed\", \"orientation\": \"v\", \"type\": \"box\", \"y\": [0.9608755273083328, 2.4260788203617936, 1.66689608937536, 1.997087297293357, 1.0803764212342082, 1.3056185844965988, 1.5105203083691208, 1.2091898841277409, 1.5432488252503707, 1.210872190298638, 1.93344573264443, 2.5454250405724803, 0.9039065551328589, 2.1065699053236986, 4.032132383680866, 3.2818897947046186, 5.295740051624175, 1.9171361058286345, 1.3868907805573336, 2.574688985956673, 3.678300767943521, 2.529333138222485, 1.5657433398034721, 1.988808520372495, 1.6806993097355365]}, {\"boxpoints\": false, \"line\": {\"width\": 1.3}, \"marker\": {\"color\": \"rgba(255, 255, 51, 1.0)\"}, \"name\": \"Base Meso Volume\", \"orientation\": \"v\", \"type\": \"box\", \"y\": [2167.359865084928, 2482.7210844532524, 2521.46815268576, 2685.2313404068145, 2720.9374781021115, 2682.1342317902263, 3092.490328676674, 3010.039734422044, 2718.3115415933826, 2734.887700991167, 1941.1404597267203, 1675.5832372693935, 1886.498275371471, 1900.5300212878556, 2752.3801259422553, 2938.9264657011972, 3250.1749502416715, 3385.6255287402037, 2117.150300016199, 2020.1370033341768, 3073.247221505267, 2471.238147464889, 2401.759014977926, 3097.1561739987937, 2471.7941657277156]}, {\"boxpoints\": false, \"line\": {\"width\": 1.3}, \"marker\": {\"color\": \"rgba(128, 128, 0, 1.0)\"}, \"name\": \"Calibrated Meso Volume\", \"orientation\": \"v\", \"type\": \"box\", \"y\": [23.404277327199765, 7.124361732639828, 67.2409907325122, 9.604150700589283, 158.10797771367348, 208.16549177695353, 54.59822197243764, 197.79434336417896, 595.4621178893259, 455.4844065269091, 1168.3624513173093, 4.847672067136653, 32.23337849718478, 252.27296314932283, 6.236474942210016, 90.93109125243247, 128.8403150020147, 202.8520112067831, 198.4900552884684, 49.60842384881449, 12.231501062974559, 69.11406989404948, 97.31762171688099, 225.00348123538635, 771.8857567268508]}],                        {\"legend\": {\"bgcolor\": \"#F5F6F9\", \"font\": {\"color\": \"#4D5663\"}}, \"paper_bgcolor\": \"#F5F6F9\", \"plot_bgcolor\": \"#F5F6F9\", \"template\": {\"data\": {\"bar\": [{\"error_x\": {\"color\": \"#2a3f5f\"}, \"error_y\": {\"color\": \"#2a3f5f\"}, \"marker\": {\"line\": {\"color\": \"#E5ECF6\", \"width\": 0.5}}, \"type\": \"bar\"}], \"barpolar\": [{\"marker\": {\"line\": {\"color\": \"#E5ECF6\", \"width\": 0.5}}, \"type\": \"barpolar\"}], \"carpet\": [{\"aaxis\": {\"endlinecolor\": \"#2a3f5f\", \"gridcolor\": \"white\", \"linecolor\": \"white\", \"minorgridcolor\": \"white\", \"startlinecolor\": \"#2a3f5f\"}, \"baxis\": {\"endlinecolor\": \"#2a3f5f\", \"gridcolor\": \"white\", \"linecolor\": \"white\", \"minorgridcolor\": \"white\", \"startlinecolor\": \"#2a3f5f\"}, \"type\": \"carpet\"}], \"choropleth\": [{\"colorbar\": {\"outlinewidth\": 0, \"ticks\": \"\"}, \"type\": \"choropleth\"}], \"contour\": [{\"colorbar\": {\"outlinewidth\": 0, \"ticks\": \"\"}, \"colorscale\": [[0.0, \"#0d0887\"], [0.1111111111111111, \"#46039f\"], [0.2222222222222222, \"#7201a8\"], [0.3333333333333333, \"#9c179e\"], [0.4444444444444444, \"#bd3786\"], [0.5555555555555556, \"#d8576b\"], [0.6666666666666666, \"#ed7953\"], [0.7777777777777778, \"#fb9f3a\"], [0.8888888888888888, \"#fdca26\"], [1.0, \"#f0f921\"]], \"type\": \"contour\"}], \"contourcarpet\": [{\"colorbar\": {\"outlinewidth\": 0, \"ticks\": \"\"}, \"type\": \"contourcarpet\"}], \"heatmap\": [{\"colorbar\": {\"outlinewidth\": 0, \"ticks\": \"\"}, \"colorscale\": [[0.0, \"#0d0887\"], [0.1111111111111111, \"#46039f\"], [0.2222222222222222, \"#7201a8\"], [0.3333333333333333, \"#9c179e\"], [0.4444444444444444, \"#bd3786\"], [0.5555555555555556, \"#d8576b\"], [0.6666666666666666, \"#ed7953\"], [0.7777777777777778, \"#fb9f3a\"], [0.8888888888888888, \"#fdca26\"], [1.0, \"#f0f921\"]], \"type\": \"heatmap\"}], \"heatmapgl\": [{\"colorbar\": {\"outlinewidth\": 0, \"ticks\": \"\"}, \"colorscale\": [[0.0, \"#0d0887\"], [0.1111111111111111, \"#46039f\"], [0.2222222222222222, \"#7201a8\"], [0.3333333333333333, \"#9c179e\"], [0.4444444444444444, \"#bd3786\"], [0.5555555555555556, \"#d8576b\"], [0.6666666666666666, \"#ed7953\"], [0.7777777777777778, \"#fb9f3a\"], [0.8888888888888888, \"#fdca26\"], [1.0, \"#f0f921\"]], \"type\": \"heatmapgl\"}], \"histogram\": [{\"marker\": {\"colorbar\": {\"outlinewidth\": 0, \"ticks\": \"\"}}, \"type\": \"histogram\"}], \"histogram2d\": [{\"colorbar\": {\"outlinewidth\": 0, \"ticks\": \"\"}, \"colorscale\": [[0.0, \"#0d0887\"], [0.1111111111111111, \"#46039f\"], [0.2222222222222222, \"#7201a8\"], [0.3333333333333333, \"#9c179e\"], [0.4444444444444444, \"#bd3786\"], [0.5555555555555556, \"#d8576b\"], [0.6666666666666666, \"#ed7953\"], [0.7777777777777778, \"#fb9f3a\"], [0.8888888888888888, \"#fdca26\"], [1.0, \"#f0f921\"]], \"type\": \"histogram2d\"}], \"histogram2dcontour\": [{\"colorbar\": {\"outlinewidth\": 0, \"ticks\": \"\"}, \"colorscale\": [[0.0, \"#0d0887\"], [0.1111111111111111, \"#46039f\"], [0.2222222222222222, \"#7201a8\"], [0.3333333333333333, \"#9c179e\"], [0.4444444444444444, \"#bd3786\"], [0.5555555555555556, \"#d8576b\"], [0.6666666666666666, \"#ed7953\"], [0.7777777777777778, \"#fb9f3a\"], [0.8888888888888888, \"#fdca26\"], [1.0, \"#f0f921\"]], \"type\": \"histogram2dcontour\"}], \"mesh3d\": [{\"colorbar\": {\"outlinewidth\": 0, \"ticks\": \"\"}, \"type\": \"mesh3d\"}], \"parcoords\": [{\"line\": {\"colorbar\": {\"outlinewidth\": 0, \"ticks\": \"\"}}, \"type\": \"parcoords\"}], \"pie\": [{\"automargin\": true, \"type\": \"pie\"}], \"scatter\": [{\"marker\": {\"colorbar\": {\"outlinewidth\": 0, \"ticks\": \"\"}}, \"type\": \"scatter\"}], \"scatter3d\": [{\"line\": {\"colorbar\": {\"outlinewidth\": 0, \"ticks\": \"\"}}, \"marker\": {\"colorbar\": {\"outlinewidth\": 0, \"ticks\": \"\"}}, \"type\": \"scatter3d\"}], \"scattercarpet\": [{\"marker\": {\"colorbar\": {\"outlinewidth\": 0, \"ticks\": \"\"}}, \"type\": \"scattercarpet\"}], \"scattergeo\": [{\"marker\": {\"colorbar\": {\"outlinewidth\": 0, \"ticks\": \"\"}}, \"type\": \"scattergeo\"}], \"scattergl\": [{\"marker\": {\"colorbar\": {\"outlinewidth\": 0, \"ticks\": \"\"}}, \"type\": \"scattergl\"}], \"scattermapbox\": [{\"marker\": {\"colorbar\": {\"outlinewidth\": 0, \"ticks\": \"\"}}, \"type\": \"scattermapbox\"}], \"scatterpolar\": [{\"marker\": {\"colorbar\": {\"outlinewidth\": 0, \"ticks\": \"\"}}, \"type\": \"scatterpolar\"}], \"scatterpolargl\": [{\"marker\": {\"colorbar\": {\"outlinewidth\": 0, \"ticks\": \"\"}}, \"type\": \"scatterpolargl\"}], \"scatterternary\": [{\"marker\": {\"colorbar\": {\"outlinewidth\": 0, \"ticks\": \"\"}}, \"type\": \"scatterternary\"}], \"surface\": [{\"colorbar\": {\"outlinewidth\": 0, \"ticks\": \"\"}, \"colorscale\": [[0.0, \"#0d0887\"], [0.1111111111111111, \"#46039f\"], [0.2222222222222222, \"#7201a8\"], [0.3333333333333333, \"#9c179e\"], [0.4444444444444444, \"#bd3786\"], [0.5555555555555556, \"#d8576b\"], [0.6666666666666666, \"#ed7953\"], [0.7777777777777778, \"#fb9f3a\"], [0.8888888888888888, \"#fdca26\"], [1.0, \"#f0f921\"]], \"type\": \"surface\"}], \"table\": [{\"cells\": {\"fill\": {\"color\": \"#EBF0F8\"}, \"line\": {\"color\": \"white\"}}, \"header\": {\"fill\": {\"color\": \"#C8D4E3\"}, \"line\": {\"color\": \"white\"}}, \"type\": \"table\"}]}, \"layout\": {\"annotationdefaults\": {\"arrowcolor\": \"#2a3f5f\", \"arrowhead\": 0, \"arrowwidth\": 1}, \"autotypenumbers\": \"strict\", \"coloraxis\": {\"colorbar\": {\"outlinewidth\": 0, \"ticks\": \"\"}}, \"colorscale\": {\"diverging\": [[0, \"#8e0152\"], [0.1, \"#c51b7d\"], [0.2, \"#de77ae\"], [0.3, \"#f1b6da\"], [0.4, \"#fde0ef\"], [0.5, \"#f7f7f7\"], [0.6, \"#e6f5d0\"], [0.7, \"#b8e186\"], [0.8, \"#7fbc41\"], [0.9, \"#4d9221\"], [1, \"#276419\"]], \"sequential\": [[0.0, \"#0d0887\"], [0.1111111111111111, \"#46039f\"], [0.2222222222222222, \"#7201a8\"], [0.3333333333333333, \"#9c179e\"], [0.4444444444444444, \"#bd3786\"], [0.5555555555555556, \"#d8576b\"], [0.6666666666666666, \"#ed7953\"], [0.7777777777777778, \"#fb9f3a\"], [0.8888888888888888, \"#fdca26\"], [1.0, \"#f0f921\"]], \"sequentialminus\": [[0.0, \"#0d0887\"], [0.1111111111111111, \"#46039f\"], [0.2222222222222222, \"#7201a8\"], [0.3333333333333333, \"#9c179e\"], [0.4444444444444444, \"#bd3786\"], [0.5555555555555556, \"#d8576b\"], [0.6666666666666666, \"#ed7953\"], [0.7777777777777778, \"#fb9f3a\"], [0.8888888888888888, \"#fdca26\"], [1.0, \"#f0f921\"]]}, \"colorway\": [\"#636efa\", \"#EF553B\", \"#00cc96\", \"#ab63fa\", \"#FFA15A\", \"#19d3f3\", \"#FF6692\", \"#B6E880\", \"#FF97FF\", \"#FECB52\"], \"font\": {\"color\": \"#2a3f5f\"}, \"geo\": {\"bgcolor\": \"white\", \"lakecolor\": \"white\", \"landcolor\": \"#E5ECF6\", \"showlakes\": true, \"showland\": true, \"subunitcolor\": \"white\"}, \"hoverlabel\": {\"align\": \"left\"}, \"hovermode\": \"closest\", \"mapbox\": {\"style\": \"light\"}, \"paper_bgcolor\": \"white\", \"plot_bgcolor\": \"#E5ECF6\", \"polar\": {\"angularaxis\": {\"gridcolor\": \"white\", \"linecolor\": \"white\", \"ticks\": \"\"}, \"bgcolor\": \"#E5ECF6\", \"radialaxis\": {\"gridcolor\": \"white\", \"linecolor\": \"white\", \"ticks\": \"\"}}, \"scene\": {\"xaxis\": {\"backgroundcolor\": \"#E5ECF6\", \"gridcolor\": \"white\", \"gridwidth\": 2, \"linecolor\": \"white\", \"showbackground\": true, \"ticks\": \"\", \"zerolinecolor\": \"white\"}, \"yaxis\": {\"backgroundcolor\": \"#E5ECF6\", \"gridcolor\": \"white\", \"gridwidth\": 2, \"linecolor\": \"white\", \"showbackground\": true, \"ticks\": \"\", \"zerolinecolor\": \"white\"}, \"zaxis\": {\"backgroundcolor\": \"#E5ECF6\", \"gridcolor\": \"white\", \"gridwidth\": 2, \"linecolor\": \"white\", \"showbackground\": true, \"ticks\": \"\", \"zerolinecolor\": \"white\"}}, \"shapedefaults\": {\"line\": {\"color\": \"#2a3f5f\"}}, \"ternary\": {\"aaxis\": {\"gridcolor\": \"white\", \"linecolor\": \"white\", \"ticks\": \"\"}, \"baxis\": {\"gridcolor\": \"white\", \"linecolor\": \"white\", \"ticks\": \"\"}, \"bgcolor\": \"#E5ECF6\", \"caxis\": {\"gridcolor\": \"white\", \"linecolor\": \"white\", \"ticks\": \"\"}}, \"title\": {\"x\": 0.05}, \"xaxis\": {\"automargin\": true, \"gridcolor\": \"white\", \"linecolor\": \"white\", \"ticks\": \"\", \"title\": {\"standoff\": 15}, \"zerolinecolor\": \"white\", \"zerolinewidth\": 2}, \"yaxis\": {\"automargin\": true, \"gridcolor\": \"white\", \"linecolor\": \"white\", \"ticks\": \"\", \"title\": {\"standoff\": 15}, \"zerolinecolor\": \"white\", \"zerolinewidth\": 2}}}, \"title\": {\"font\": {\"color\": \"#4D5663\"}}, \"xaxis\": {\"gridcolor\": \"#E1E5ED\", \"showgrid\": true, \"tickfont\": {\"color\": \"#4D5663\"}, \"title\": {\"font\": {\"color\": \"#4D5663\"}, \"text\": \"\"}, \"zerolinecolor\": \"#E1E5ED\"}, \"yaxis\": {\"gridcolor\": \"#E1E5ED\", \"showgrid\": true, \"tickfont\": {\"color\": \"#4D5663\"}, \"title\": {\"font\": {\"color\": \"#4D5663\"}, \"text\": \"\"}, \"zerolinecolor\": \"#E1E5ED\"}},                        {\"showLink\": true, \"linkText\": \"Export to plot.ly\", \"plotlyServerURL\": \"https://plot.ly\", \"responsive\": true}                    ).then(function(){\n",
       "                            \n",
       "var gd = document.getElementById('50393e09-7e89-4899-a8ab-7de233fcbbd4');\n",
       "var x = new MutationObserver(function (mutations, observer) {{\n",
       "        var display = window.getComputedStyle(gd).display;\n",
       "        if (!display || display === 'none') {{\n",
       "            console.log([gd, 'removed!']);\n",
       "            Plotly.purge(gd);\n",
       "            observer.disconnect();\n",
       "        }}\n",
       "}});\n",
       "\n",
       "// Listen for the removal of the full notebook cells\n",
       "var notebookContainer = gd.closest('#notebook-container');\n",
       "if (notebookContainer) {{\n",
       "    x.observe(notebookContainer, {childList: true});\n",
       "}}\n",
       "\n",
       "// Listen for the clearing of the current output cell\n",
       "var outputEl = gd.closest('.output');\n",
       "if (outputEl) {{\n",
       "    x.observe(outputEl, {childList: true});\n",
       "}}\n",
       "\n",
       "                        })                };                });            </script>        </div>"
      ]
     },
     "metadata": {},
     "output_type": "display_data"
    }
   ],
   "source": [
    "df_box.iplot(kind='box')"
   ]
  },
  {
   "cell_type": "code",
   "execution_count": null,
   "metadata": {},
   "outputs": [],
   "source": []
  },
  {
   "cell_type": "code",
   "execution_count": null,
   "metadata": {},
   "outputs": [],
   "source": []
  }
 ],
 "metadata": {
  "kernelspec": {
   "display_name": "regmob",
   "language": "python",
   "name": "regmob"
  },
  "language_info": {
   "codemirror_mode": {
    "name": "ipython",
    "version": 3
   },
   "file_extension": ".py",
   "mimetype": "text/x-python",
   "name": "python",
   "nbconvert_exporter": "python",
   "pygments_lexer": "ipython3",
   "version": "3.7.7"
  }
 },
 "nbformat": 4,
 "nbformat_minor": 4
}
