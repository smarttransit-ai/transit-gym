{
 "cells": [
  {
   "cell_type": "markdown",
   "metadata": {},
   "source": [
    "## Combine trip files into one single file for duaiterate.py to process"
   ]
  },
  {
   "cell_type": "markdown",
   "metadata": {},
   "source": [
    "### Get path to od files generated separately"
   ]
  },
  {
   "cell_type": "code",
   "execution_count": 125,
   "metadata": {},
   "outputs": [],
   "source": [
    "import xml.etree.ElementTree as ET\n",
    "from xml.etree.ElementTree import Element\n",
    "from lxml import etree\n",
    "from copy import copy\n",
    "import os\n",
    "import inspect\n",
    "from xml.dom import minidom"
   ]
  },
  {
   "cell_type": "code",
   "execution_count": 126,
   "metadata": {},
   "outputs": [],
   "source": [
    "# Path to folder with the sumo files\n",
    "this_folder = os.path.dirname(os.path.abspath(inspect.getfile(inspect.currentframe())))\n",
    "data_folder = 'xml_trips'"
   ]
  },
  {
   "cell_type": "code",
   "execution_count": 127,
   "metadata": {},
   "outputs": [
    {
     "name": "stdout",
     "output_type": "stream",
     "text": [
      "/home/cuip/Documents/CUIP LAPTOP/combine _trips/trips\n"
     ]
    }
   ],
   "source": [
    "print(this_folder)"
   ]
  },
  {
   "cell_type": "markdown",
   "metadata": {},
   "source": [
    "### Initialize combine trip file"
   ]
  },
  {
   "cell_type": "code",
   "execution_count": 128,
   "metadata": {},
   "outputs": [],
   "source": [
    "xroutes = Element('routes')\n",
    "xroutes.set('xmlns:xsi','http://www.w3.org/2001/XMLSchema-instance')\n",
    "xroutes.set('xsi:noNamespaceSchemaLocation', 'http://sumo.dlr.de/xsd/routes_file.xsd')"
   ]
  },
  {
   "cell_type": "code",
   "execution_count": 129,
   "metadata": {},
   "outputs": [],
   "source": [
    "# Additing vehicle type definition for truck and trailer\n",
    "vtype = Element('vType')\n",
    "vtype.set('id', 'truck')\n",
    "vtype.set('vClass', 'truck')\n",
    "xroutes.append(vtype)\n",
    "vtype1 = Element('vType')\n",
    "vtype1.set('id', 'trailer')\n",
    "vtype1.set('vClass', 'trailer')\n",
    "xroutes.append(vtype1)\n",
    "vtype1 = Element('vType')\n",
    "vtype1.set('id', 'passenger')\n",
    "vtype1.set('vClass', 'passenger')\n",
    "xroutes.append(vtype1)"
   ]
  },
  {
   "cell_type": "markdown",
   "metadata": {},
   "source": [
    "### Import od file and combine "
   ]
  },
  {
   "cell_type": "code",
   "execution_count": 130,
   "metadata": {
    "scrolled": true
   },
   "outputs": [
    {
     "name": "stdout",
     "output_type": "stream",
     "text": [
      "trips_pass_am_xml.xml\n",
      "trips_pass_pm_xml.xml\n",
      "trips_pass_op_xml.xml\n",
      "trips_sut_am_xml.xml\n",
      "trips_sut_pm_xml.xml\n",
      "trips_sut_op_xml.xml\n",
      "trips_mut_am_xml.xml\n",
      "trips_mut_pm_xml.xml\n",
      "trips_mut_op_xml.xml\n"
     ]
    }
   ],
   "source": [
    "prefix = ['pass_', 'sut_', 'mut_']\n",
    "#prefix = ['sut']\n",
    "suffix = ['am_', 'pm_', 'op_']\n",
    "num_period = 5   #Number of time period\n",
    "\n",
    "trip_list = []\n",
    "\n",
    "for p in prefix:\n",
    "    for s in suffix:\n",
    "        trip_file = 'trips_' + p  + s + 'xml.xml'\n",
    "        print(trip_file)\n",
    "        path_file = os.path.join(this_folder,data_folder, trip_file)\n",
    "        root_tree = ET.parse(path_file).getroot()\n",
    "        trip_list.extend(root_tree)"
   ]
  },
  {
   "cell_type": "code",
   "execution_count": 131,
   "metadata": {
    "scrolled": true
   },
   "outputs": [
    {
     "name": "stdout",
     "output_type": "stream",
     "text": [
      "trip {'id': 'mut_op454', 'depart': '86397.88', 'from': '-28679', 'to': '-35756', 'type': 'trailer', 'fromTaz': '26', 'toTaz': '719', 'departLane': 'best', 'departPos': 'free', 'departSpeed': 'max'}\n"
     ]
    }
   ],
   "source": [
    "print(trip_list[699498].tag, trip_list[699498].attrib)"
   ]
  },
  {
   "cell_type": "code",
   "execution_count": 133,
   "metadata": {},
   "outputs": [],
   "source": [
    "# Sort the elements by departure time\n",
    "trip_list[:] = sorted(trip_list, key=lambda child: (child.tag,float(child.get('depart'))))"
   ]
  },
  {
   "cell_type": "code",
   "execution_count": 142,
   "metadata": {},
   "outputs": [
    {
     "name": "stdout",
     "output_type": "stream",
     "text": [
      "trip {'id': 'trip_prefix10', 'depart': '5.38', 'from': '-23263', 'to': '21298', 'type': 'passenger', 'fromTaz': '159', 'toTaz': '32', 'departLane': 'best', 'departPos': 'free', 'departSpeed': 'max'}\n"
     ]
    }
   ],
   "source": [
    "print(trip_list[10].tag, trip_list[10].attrib)"
   ]
  },
  {
   "cell_type": "code",
   "execution_count": 139,
   "metadata": {},
   "outputs": [],
   "source": [
    "for num,s in enumerate(trip_list):\n",
    "        s.attrib['id'] = 'trip_prefix' + str(num)"
   ]
  },
  {
   "cell_type": "code",
   "execution_count": 140,
   "metadata": {},
   "outputs": [],
   "source": [
    "# Add trips to xroute\n",
    "xroutes.extend(trip_list)"
   ]
  },
  {
   "cell_type": "code",
   "execution_count": 137,
   "metadata": {},
   "outputs": [
    {
     "name": "stdout",
     "output_type": "stream",
     "text": [
      "Saving to xml:  combined_trips.xml\n"
     ]
    }
   ],
   "source": [
    "file_name = 'combined_trips.xml'\n",
    "print(\"Saving to xml: \", file_name)\n",
    "configfile = os.path.join(this_folder,data_folder, file_name)\n",
    "with open(configfile, 'wb') as f:\n",
    "    f.write(minidom.parseString(ET.tostring(xroutes)).toprettyxml(encoding=\"utf-8\"))\n",
    "    "
   ]
  },
  {
   "cell_type": "code",
   "execution_count": null,
   "metadata": {},
   "outputs": [],
   "source": []
  }
 ],
 "metadata": {
  "kernelspec": {
   "display_name": "Python 3",
   "language": "python",
   "name": "python3"
  },
  "language_info": {
   "codemirror_mode": {
    "name": "ipython",
    "version": 3
   },
   "file_extension": ".py",
   "mimetype": "text/x-python",
   "name": "python",
   "nbconvert_exporter": "python",
   "pygments_lexer": "ipython3",
   "version": "3.7.10"
  }
 },
 "nbformat": 4,
 "nbformat_minor": 2
}
