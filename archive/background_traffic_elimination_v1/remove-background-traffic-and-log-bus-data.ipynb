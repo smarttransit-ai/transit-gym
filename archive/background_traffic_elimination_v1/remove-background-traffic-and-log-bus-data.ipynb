{
 "cells": [
  {
   "cell_type": "code",
   "execution_count": 42,
   "id": "24271d99",
   "metadata": {},
   "outputs": [],
   "source": [
    "import traci\n",
    "import pandas as pd\n",
    "import random\n",
    "import time\n",
    "import pickle\n",
    "\n",
    "sumo_cmd = [\"/opt/ohpc/pub/apps/sumo/bin/sumo\"]\n",
    "sumo_config = [\"-c\", \"./Sim/network-bus.sumocfg\"]\n",
    "sumo_cmd.extend(sumo_config)"
   ]
  },
  {
   "cell_type": "code",
   "execution_count": 43,
   "id": "a3d3b1e6",
   "metadata": {},
   "outputs": [],
   "source": [
    "edge_data_by_step = pickle.load(open('output/filtered_edge_data_by_step.pkl', 'rb'))"
   ]
  },
  {
   "cell_type": "code",
   "execution_count": 44,
   "id": "dbe4b076",
   "metadata": {},
   "outputs": [],
   "source": [
    "INTERVAL = 60"
   ]
  },
  {
   "cell_type": "code",
   "execution_count": 35,
   "id": "aeebf60e",
   "metadata": {
    "scrolled": true
   },
   "outputs": [
    {
     "name": "stdout",
     "output_type": "stream",
     "text": [
      " Retrying in 1 seconds\n",
      "Loading configuration ... done.\n",
      "***Starting server on port 37569 ***\n"
     ]
    },
    {
     "name": "stderr",
     "output_type": "stream",
     "text": [
      "Warning: Environment variable SUMO_HOME is not set, schema resolution will use slow website lookups.\n"
     ]
    },
    {
     "name": "stdout",
     "output_type": "stream",
     "text": [
      "Loading net-file from './Sim/Chattanooga_SUMO_Network.net.xml' ... done (9609ms).\n"
     ]
    },
    {
     "name": "stderr",
     "output_type": "stream",
     "text": [
      "Warning: At actuated tlLogic '14979', actuated phase 0 has no controlling detector.\n",
      "Warning: At actuated tlLogic '14979', linkIndex 1 has no controlling detector.\n",
      "Warning: At actuated tlLogic '14979', linkIndex 2 has no controlling detector.\n",
      "Warning: At actuated tlLogic '14979', linkIndex 3 has no controlling detector.\n",
      "Warning: At actuated tlLogic '14979', linkIndex 4 has no controlling detector.\n",
      "Warning: At actuated tlLogic '14979', linkIndex 5 has no controlling detector.\n",
      "Warning: At actuated tlLogic '15283', linkIndex 5 has no controlling detector.\n",
      "Warning: At actuated tlLogic '15283', linkIndex 6 has no controlling detector.\n",
      "Warning: At actuated tlLogic '15283', linkIndex 7 has no controlling detector.\n",
      "Warning: At actuated tlLogic '15283', linkIndex 8 has no controlling detector.\n",
      "Warning: At actuated tlLogic '15577', linkIndex 18 has no controlling detector.\n",
      "Warning: At actuated tlLogic '15577', linkIndex 19 has no controlling detector.\n",
      "Warning: At actuated tlLogic '15577', linkIndex 20 has no controlling detector.\n",
      "Warning: At actuated tlLogic '15736', linkIndex 12 has no controlling detector.\n",
      "Warning: At actuated tlLogic '15736', linkIndex 13 has no controlling detector.\n",
      "Warning: At actuated tlLogic '15774', linkIndex 7 has no controlling detector.\n",
      "Warning: At actuated tlLogic '15774', linkIndex 8 has no controlling detector.\n",
      "Warning: At actuated tlLogic '15774', linkIndex 9 has no controlling detector.\n",
      "Warning: At actuated tlLogic '15802', linkIndex 17 has no controlling detector.\n",
      "Warning: At actuated tlLogic '15802', linkIndex 18 has no controlling detector.\n",
      "Warning: At actuated tlLogic '15802', linkIndex 19 has no controlling detector.\n",
      "Warning: At actuated tlLogic '15873', actuated phase 6 has no controlling detector.\n",
      "Warning: At actuated tlLogic '15873', linkIndex 8 has no controlling detector.\n",
      "Warning: At actuated tlLogic '15873', linkIndex 9 has no controlling detector.\n",
      "Warning: At actuated tlLogic '15873', linkIndex 10 has no controlling detector.\n",
      "Warning: At actuated tlLogic '15873', linkIndex 11 has no controlling detector.\n",
      "Warning: At actuated tlLogic '15873', linkIndex 12 has no controlling detector.\n",
      "Warning: At actuated tlLogic '15873', linkIndex 13 has no controlling detector.\n",
      "Warning: At actuated tlLogic '15873', linkIndex 19 has no controlling detector.\n",
      "Warning: At actuated tlLogic '15873', linkIndex 20 has no controlling detector.\n",
      "Warning: At actuated tlLogic '15873', linkIndex 21 has no controlling detector.\n",
      "Warning: At actuated tlLogic '15942', linkIndex 2 has no controlling detector.\n",
      "Warning: At actuated tlLogic '15942', linkIndex 3 has no controlling detector.\n",
      "Warning: At actuated tlLogic '15998', linkIndex 20 has no controlling detector.\n",
      "Warning: At actuated tlLogic '15998', linkIndex 21 has no controlling detector.\n",
      "Warning: At actuated tlLogic '15998', linkIndex 22 has no controlling detector.\n",
      "Warning: At actuated tlLogic '15998', linkIndex 23 has no controlling detector.\n",
      "Warning: At actuated tlLogic '16010', actuated phase 4 has no controlling detector.\n",
      "Warning: At actuated tlLogic '16282', linkIndex 1 has no controlling detector.\n",
      "Warning: At actuated tlLogic '2037', linkIndex 2 has no controlling detector.\n",
      "Warning: At actuated tlLogic '2037', linkIndex 3 has no controlling detector.\n",
      "Warning: At actuated tlLogic '2117', linkIndex 9 has no controlling detector.\n",
      "Warning: At actuated tlLogic '2117', linkIndex 10 has no controlling detector.\n",
      "Warning: At actuated tlLogic '2117', linkIndex 11 has no controlling detector.\n",
      "Warning: At actuated tlLogic '2248', linkIndex 2 has no controlling detector.\n",
      "Warning: At actuated tlLogic '2248', linkIndex 3 has no controlling detector.\n",
      "Warning: At actuated tlLogic '2248', linkIndex 4 has no controlling detector.\n",
      "Warning: At actuated tlLogic '2468', linkIndex 5 has no controlling detector.\n",
      "Warning: At actuated tlLogic '2468', linkIndex 6 has no controlling detector.\n",
      "Warning: At actuated tlLogic '2468', linkIndex 10 has no controlling detector.\n",
      "Warning: At actuated tlLogic '2468', linkIndex 11 has no controlling detector.\n",
      "Warning: At actuated tlLogic '2499', linkIndex 5 has no controlling detector.\n",
      "Warning: At actuated tlLogic '2499', linkIndex 6 has no controlling detector.\n",
      "Warning: At actuated tlLogic '28832', linkIndex 5 has no controlling detector.\n",
      "Warning: At actuated tlLogic '28832', linkIndex 6 has no controlling detector.\n",
      "Warning: At actuated tlLogic '28832', linkIndex 10 has no controlling detector.\n",
      "Warning: At actuated tlLogic '28832', linkIndex 11 has no controlling detector.\n",
      "Warning: At actuated tlLogic '28843', linkIndex 2 has no controlling detector.\n",
      "Warning: At actuated tlLogic '28843', linkIndex 3 has no controlling detector.\n",
      "Warning: At actuated tlLogic '28843', linkIndex 7 has no controlling detector.\n",
      "Warning: At actuated tlLogic '28843', linkIndex 8 has no controlling detector.\n",
      "Warning: At actuated tlLogic '2890', linkIndex 3 has no controlling detector.\n",
      "Warning: At actuated tlLogic '2890', linkIndex 4 has no controlling detector.\n",
      "Warning: At actuated tlLogic '2890', linkIndex 11 has no controlling detector.\n",
      "Warning: At actuated tlLogic '2890', linkIndex 12 has no controlling detector.\n",
      "Warning: At actuated tlLogic '28932', linkIndex 14 has no controlling detector.\n",
      "Warning: At actuated tlLogic '28932', linkIndex 15 has no controlling detector.\n",
      "Warning: At actuated tlLogic '28932', linkIndex 16 has no controlling detector.\n",
      "Warning: At actuated tlLogic '29019', linkIndex 4 has no controlling detector.\n",
      "Warning: At actuated tlLogic '29019', linkIndex 5 has no controlling detector.\n",
      "Warning: At actuated tlLogic '29019', linkIndex 6 has no controlling detector.\n",
      "Warning: At actuated tlLogic '29019', linkIndex 7 has no controlling detector.\n",
      "Warning: At actuated tlLogic '3175', linkIndex 11 has no controlling detector.\n",
      "Warning: At actuated tlLogic '3175', linkIndex 12 has no controlling detector.\n",
      "Warning: At actuated tlLogic '3175', linkIndex 13 has no controlling detector.\n",
      "Warning: At actuated tlLogic '3181', linkIndex 17 has no controlling detector.\n",
      "Warning: At actuated tlLogic '3181', linkIndex 18 has no controlling detector.\n",
      "Warning: At actuated tlLogic '3181', linkIndex 19 has no controlling detector.\n",
      "Warning: At actuated tlLogic '3181', linkIndex 20 has no controlling detector.\n",
      "Warning: At actuated tlLogic '3191', linkIndex 5 has no controlling detector.\n",
      "Warning: At actuated tlLogic '3191', linkIndex 6 has no controlling detector.\n",
      "Warning: At actuated tlLogic '3191', linkIndex 7 has no controlling detector.\n",
      "Warning: At actuated tlLogic '3264', actuated phase 4 has no controlling detector.\n",
      "Warning: At actuated tlLogic '3432', linkIndex 0 has no controlling detector.\n",
      "Warning: At actuated tlLogic '3432', linkIndex 1 has no controlling detector.\n",
      "Warning: At actuated tlLogic '3432', linkIndex 2 has no controlling detector.\n",
      "Warning: At actuated tlLogic '3569', linkIndex 0 has no controlling detector.\n",
      "Warning: At actuated tlLogic '3569', linkIndex 1 has no controlling detector.\n",
      "Warning: At actuated tlLogic '3569', linkIndex 2 has no controlling detector.\n",
      "Warning: At actuated tlLogic '3569', linkIndex 3 has no controlling detector.\n",
      "Warning: At actuated tlLogic '4029', actuated phase 4 has no controlling detector.\n"
     ]
    },
    {
     "name": "stdout",
     "output_type": "stream",
     "text": [
      "Loading additional-files from './Sim/type.xml' ... done (1ms).\n",
      "Loading additional-files from './Sim/busStopsCARTA.add.xml' ... done (22ms).\n",
      "Loading done.\n",
      "Simulation version v1_10_0+1480-daaf0c12055 started with time: 23400.00\n",
      "23400\n",
      "23600\n",
      "23800\n",
      "24000\n",
      "24200\n",
      "24400\n",
      "24600\n",
      "24800\n",
      "25000\n",
      "Step #25000.00 (2ms ~= 500.00*RT, ~10500.00UPS, TraCI: 5ms, vehicles TOT 22 ACT 21 BUF 0) \r"
     ]
    },
    {
     "name": "stderr",
     "output_type": "stream",
     "text": [
      "Warning: busStop 'busStop_-16560_0_23' for vehicle 'Route1_trip173797020_07:00:00' on lane '-16560_0' set to end at 25660.00 earlier than previous stop at 27000.00.\n",
      "Warning: busStop 'busStop_-1489_0_12' for vehicle 'Route1_trip173797020_07:00:00' on lane '-1489_0' set to end at 25251.00 earlier than previous stop at 25763.00.\n"
     ]
    },
    {
     "name": "stdout",
     "output_type": "stream",
     "text": [
      "25200\n",
      "25400\n",
      "25600\n",
      "25800\n",
      "26000\n",
      "26200\n",
      "26400\n",
      "26600\n",
      "26800\n",
      "27000\n",
      "27200\n",
      "27400\n",
      "Step #27400.00 (3ms ~= 333.33*RT, ~15666.67UPS, TraCI: 10ms, vehicles TOT 60 ACT 47 BUF 0)\r"
     ]
    },
    {
     "name": "stderr",
     "output_type": "stream",
     "text": [
      "Warning: busStop 'busStop_-2074_0_1351' for vehicle 'Route1_trip173799020_07:40:00' on lane '-2074_0' set to end at 27600.00 earlier than previous stop at 28800.00.\n"
     ]
    },
    {
     "name": "stdout",
     "output_type": "stream",
     "text": [
      "27600\n",
      "27800\n",
      "28000\n",
      "Step #28100.00 (4ms ~= 250.00*RT, ~13500.00UPS, TraCI: 11ms, vehicles TOT 72 ACT 54 BUF 0)\r"
     ]
    },
    {
     "name": "stderr",
     "output_type": "stream",
     "text": [
      "Warning: Person 'person10634' is jammed on edge '16568', time=28164.00.\n"
     ]
    },
    {
     "name": "stdout",
     "output_type": "stream",
     "text": [
      "28200\n",
      "Step #28300.00 (4ms ~= 250.00*RT, ~13750.00UPS, TraCI: 12ms, vehicles TOT 74 ACT 55 BUF 0)\r"
     ]
    },
    {
     "name": "stderr",
     "output_type": "stream",
     "text": [
      "Warning: Person 'person8771' is jammed on edge '16599', time=28358.00.\n",
      "Warning: Person 'person9181' is jammed on edge '16599', time=28392.00.\n"
     ]
    },
    {
     "name": "stdout",
     "output_type": "stream",
     "text": [
      "28400\n",
      "Step #28400.00 (4ms ~= 250.00*RT, ~13250.00UPS, TraCI: 11ms, vehicles TOT 74 ACT 53 BUF 0)\r"
     ]
    },
    {
     "name": "stderr",
     "output_type": "stream",
     "text": [
      "Warning: Person 'person9169' is jammed on edge '16599', time=28498.00.\n"
     ]
    },
    {
     "name": "stdout",
     "output_type": "stream",
     "text": [
      "Step #28500.00 (4ms ~= 250.00*RT, ~13750.00UPS, TraCI: 346ms, vehicles TOT 76 ACT 55 BUF 0\r"
     ]
    },
    {
     "name": "stderr",
     "output_type": "stream",
     "text": [
      "Warning: Person 'person9064' is jammed on edge '16599', time=28534.00.\n",
      "Warning: Person 'person10056' is jammed on edge '16599', time=28589.00.\n"
     ]
    },
    {
     "name": "stdout",
     "output_type": "stream",
     "text": [
      "28600\n",
      "Step #28600.00 (4ms ~= 250.00*RT, ~13750.00UPS, TraCI: 11ms, vehicles TOT 76 ACT 55 BUF 0)\r"
     ]
    },
    {
     "name": "stderr",
     "output_type": "stream",
     "text": [
      "Warning: Person 'person10643' is jammed on edge '16568', time=28614.00.\n",
      "Warning: Person 'person10589' is jammed on edge '16568', time=28617.00.\n",
      "Warning: busStop 'busStop_-17301_0_1357' for vehicle 'Route1_trip173800020_08:00:00' on lane '-17301_0' set to end at 29181.00 earlier than previous stop at 30600.00.\n",
      "Warning: Person 'person10767' is jammed on edge '16568', time=28645.00.\n",
      "Warning: Person 'person8741' is jammed on edge '16599', time=28660.00.\n"
     ]
    },
    {
     "name": "stdout",
     "output_type": "stream",
     "text": [
      "Step #28700.00 (4ms ~= 250.00*RT, ~13750.00UPS, TraCI: 12ms, vehicles TOT 76 ACT 55 BUF 0)\r",
      "28800\n"
     ]
    },
    {
     "name": "stderr",
     "output_type": "stream",
     "text": [
      "Warning: Person 'person10431' is jammed on edge '16568', time=28794.00.\n"
     ]
    },
    {
     "name": "stdout",
     "output_type": "stream",
     "text": [
      "Step #28800.00 (4ms ~= 250.00*RT, ~15500.00UPS, TraCI: 331ms, vehicles TOT 83 ACT 62 BUF 1\r"
     ]
    },
    {
     "name": "stderr",
     "output_type": "stream",
     "text": [
      "Warning: Person 'person8842' is jammed on edge '16599', time=28819.00.\n",
      "Warning: Person 'person8846' is jammed on edge '16599', time=28902.00.\n"
     ]
    },
    {
     "name": "stdout",
     "output_type": "stream",
     "text": [
      "Step #28900.00 (4ms ~= 250.00*RT, ~15750.00UPS, TraCI: 13ms, vehicles TOT 84 ACT 63 BUF 0)\r"
     ]
    },
    {
     "name": "stderr",
     "output_type": "stream",
     "text": [
      "Warning: Person 'person10701' is jammed on edge '16568', time=28918.00.\n",
      "Warning: Person 'person8724' is jammed on edge '16599', time=28963.00.\n",
      "Warning: Person 'person10654' is jammed on edge '16568', time=28993.00.\n"
     ]
    },
    {
     "name": "stdout",
     "output_type": "stream",
     "text": [
      "29000\n"
     ]
    },
    {
     "name": "stderr",
     "output_type": "stream",
     "text": [
      "Warning: Person 'person8778' is jammed on edge '16599', time=29040.00.\n"
     ]
    },
    {
     "name": "stdout",
     "output_type": "stream",
     "text": [
      "Step #29100.00 (5ms ~= 200.00*RT, ~13600.00UPS, TraCI: 314ms, vehicles TOT 89 ACT 68 BUF 0\r"
     ]
    },
    {
     "name": "stderr",
     "output_type": "stream",
     "text": [
      "Warning: Person 'person8973' is jammed on edge '16599', time=29118.00.\n",
      "Warning: Person 'person14876' is jammed on edge '16620', time=29131.00.\n",
      "Warning: Person 'person8957' is jammed on edge '16599', time=29173.00.\n"
     ]
    },
    {
     "name": "stdout",
     "output_type": "stream",
     "text": [
      "29200\n",
      "Step #29200.00 (4ms ~= 250.00*RT, ~16750.00UPS, TraCI: 15ms, vehicles TOT 89 ACT 67 BUF 0)\r"
     ]
    },
    {
     "name": "stderr",
     "output_type": "stream",
     "text": [
      "Warning: Person 'person9786' is jammed on edge '16620', time=29202.00.\n",
      "Warning: Person 'person9195' is jammed on edge '16599', time=29214.00.\n",
      "Warning: Person 'person9114' is jammed on edge '16599', time=29227.00.\n",
      "Warning: Person 'person4238' is jammed on edge '2296', time=29239.00.\n",
      "Warning: Person 'person9074' is jammed on edge '16620', time=29266.00.\n",
      "Warning: Person 'person8724' is jammed on edge '16599', time=29266.00.\n",
      "Warning: Person 'person9103' is jammed on edge '16620', time=29274.00.\n",
      "Warning: Person 'person10496' is jammed on edge '16568', time=29318.00.\n",
      "Warning: Person 'person9093' is jammed on edge '16599', time=29326.00.\n"
     ]
    },
    {
     "name": "stdout",
     "output_type": "stream",
     "text": [
      "Step #29300.00 (5ms ~= 200.00*RT, ~13400.00UPS, TraCI: 14ms, vehicles TOT 89 ACT 67 BUF 0)\r"
     ]
    },
    {
     "name": "stderr",
     "output_type": "stream",
     "text": [
      "Warning: Person 'person9095' is jammed on edge '16620', time=29339.00.\n",
      "Warning: Person 'person4706' is jammed on edge '2296', time=29348.00.\n",
      "Warning: Person 'person13938' is jammed on edge '16568', time=29373.00.\n",
      "Warning: Person 'person10586' is jammed on edge '16568', time=29384.00.\n",
      "Warning: Person 'person13960' is jammed on edge '16568', time=29388.00.\n",
      "Warning: Person 'person14022' is jammed on edge '16568', time=29396.00.\n"
     ]
    },
    {
     "name": "stdout",
     "output_type": "stream",
     "text": [
      "29400\n"
     ]
    },
    {
     "name": "stderr",
     "output_type": "stream",
     "text": [
      "Warning: Person 'person8964' is jammed on edge '16599', time=29438.00.\n"
     ]
    },
    {
     "name": "stdout",
     "output_type": "stream",
     "text": [
      "Step #29400.00 (4ms ~= 250.00*RT, ~17750.00UPS, TraCI: 307ms, vehicles TOT 93 ACT 71 BUF 0\r"
     ]
    },
    {
     "name": "stderr",
     "output_type": "stream",
     "text": [
      "Warning: Person 'person4823' is jammed on edge '2296', time=29460.00.\n",
      "Warning: Person 'person9271' is jammed on edge '16620', time=29518.00.\n"
     ]
    },
    {
     "name": "stdout",
     "output_type": "stream",
     "text": [
      "Step #29500.00 (4ms ~= 250.00*RT, ~17500.00UPS, TraCI: 15ms, vehicles TOT 93 ACT 70 BUF 0)\r"
     ]
    },
    {
     "name": "stderr",
     "output_type": "stream",
     "text": [
      "Warning: Person 'person10585' is jammed on edge '16568', time=29557.00.\n",
      "Warning: Person 'person5564' is jammed on edge '2296', time=29565.00.\n"
     ]
    },
    {
     "name": "stdout",
     "output_type": "stream",
     "text": [
      "29600\n"
     ]
    },
    {
     "name": "stderr",
     "output_type": "stream",
     "text": [
      "Warning: Person 'person8843' is jammed on edge '16599', time=29628.00.\n",
      "Warning: Person 'person9093' is jammed on edge '16599', time=29629.00.\n",
      "Warning: Person 'person9209' is jammed on edge '16599', time=29638.00.\n"
     ]
    },
    {
     "name": "stdout",
     "output_type": "stream",
     "text": [
      "Step #29600.00 (4ms ~= 250.00*RT, ~17500.00UPS, TraCI: 15ms, vehicles TOT 93 ACT 70 BUF 0)\r"
     ]
    },
    {
     "name": "stderr",
     "output_type": "stream",
     "text": [
      "Warning: Person 'person14033' is jammed on edge '16568', time=29677.00.\n",
      "Warning: Person 'person10751' is jammed on edge '16568', time=29686.00.\n",
      "Warning: Person 'person9815' is jammed on edge '16599', time=29710.00.\n"
     ]
    },
    {
     "name": "stdout",
     "output_type": "stream",
     "text": [
      "29800#29700.00 (5ms ~= 200.00*RT, ~15200.00UPS, TraCI: 298ms, vehicles TOT 99 ACT 76 BUF 1\n",
      "Step #29800.00 (5ms ~= 200.00*RT, ~15000.00UPS, TraCI: 16ms, vehicles TOT 99 ACT 75 BUF 1)\r"
     ]
    },
    {
     "name": "stderr",
     "output_type": "stream",
     "text": [
      "Warning: Person 'person3294' is jammed on edge '2296', time=29802.00.\n",
      "Warning: Person 'person2541' is jammed on edge '2296', time=29820.00.\n",
      "Warning: Person 'person10635' is jammed on edge '16568', time=29891.00.\n"
     ]
    },
    {
     "name": "stdout",
     "output_type": "stream",
     "text": [
      "Step #29900.00 (4ms ~= 250.00*RT, ~18750.00UPS, TraCI: 15ms, vehicles TOT 99 ACT 75 BUF 1)\r"
     ]
    },
    {
     "name": "stderr",
     "output_type": "stream",
     "text": [
      "Warning: Person 'person14017' is jammed on edge '16568', time=29910.00.\n",
      "Warning: Person 'person8843' is jammed on edge '16599', time=29931.00.\n",
      "Warning: Person 'person3421' is jammed on edge '2296', time=29933.00.\n",
      "Warning: Person 'person2438' is jammed on edge '2296', time=29997.00.\n"
     ]
    },
    {
     "name": "stdout",
     "output_type": "stream",
     "text": [
      "30000\n"
     ]
    },
    {
     "name": "stderr",
     "output_type": "stream",
     "text": [
      "Warning: Person 'person9179' is jammed on edge '16620', time=30004.00.\n",
      "Warning: Person 'person3003' is jammed on edge '2296', time=30011.00.\n",
      "Warning: Person 'person3399' is jammed on edge '2296', time=30014.00.\n"
     ]
    },
    {
     "name": "stdout",
     "output_type": "stream",
     "text": [
      "Step #30000.00 (4ms ~= 250.00*RT, ~19250.00UPS, TraCI: 280ms, vehicles TOT 101 ACT 77 BUF \r"
     ]
    },
    {
     "name": "stderr",
     "output_type": "stream",
     "text": [
      "Warning: Person 'person9204' is jammed on edge '16599', time=30062.00.\n",
      "Warning: Person 'person9076' is jammed on edge '16599', time=30066.00.\n",
      "Warning: Person 'person10048' is jammed on edge '16620', time=30067.00.\n",
      "Warning: Person 'person8769' is jammed on edge '16599', time=30068.00.\n",
      "Warning: Person 'person10583' is jammed on edge '16568', time=30089.00.\n"
     ]
    },
    {
     "name": "stdout",
     "output_type": "stream",
     "text": [
      "Step #30100.00 (5ms ~= 200.00*RT, ~15200.00UPS, TraCI: 15ms, vehicles TOT 101 ACT 76 BUF 1\r"
     ]
    },
    {
     "name": "stderr",
     "output_type": "stream",
     "text": [
      "Warning: Person 'person8741' is jammed on edge '16599', time=30144.00.\n",
      "Warning: Person 'person10575' is jammed on edge '16568', time=30151.00.\n",
      "Warning: Person 'person8768' is jammed on edge '16599', time=30157.00.\n",
      "Warning: Person 'person14016' is jammed on edge '16568', time=30175.00.\n"
     ]
    },
    {
     "name": "stdout",
     "output_type": "stream",
     "text": [
      "30200\n",
      "Step #30200.00 (4ms ~= 250.00*RT, ~19000.00UPS, TraCI: 15ms, vehicles TOT 101 ACT 76 BUF 1\r"
     ]
    },
    {
     "name": "stderr",
     "output_type": "stream",
     "text": [
      "Warning: Person 'person8862' is jammed on edge '16620', time=30206.00.\n",
      "Warning: Person 'person10607' is jammed on edge '16568', time=30226.00.\n",
      "Warning: Person 'person8849' is jammed on edge '16599', time=30236.00.\n",
      "Warning: Person 'person8875' is jammed on edge '16620', time=30324.00.\n"
     ]
    },
    {
     "name": "stdout",
     "output_type": "stream",
     "text": [
      "Step #30300.00 (4ms ~= 250.00*RT, ~19500.00UPS, TraCI: 267ms, vehicles TOT 104 ACT 78 BUF \r"
     ]
    },
    {
     "name": "stderr",
     "output_type": "stream",
     "text": [
      "Warning: Person 'person9071' is jammed on edge '16620', time=30351.00.\n",
      "Warning: Person 'person9076' is jammed on edge '16599', time=30370.00.\n",
      "Warning: Person 'person8756' is jammed on edge '16620', time=30393.00.\n"
     ]
    },
    {
     "name": "stdout",
     "output_type": "stream",
     "text": [
      "30400\n"
     ]
    },
    {
     "name": "stderr",
     "output_type": "stream",
     "text": [
      "Warning: Person 'person7943' is jammed on edge '16599', time=30447.00.\n",
      "Warning: Person 'person10760' is jammed on edge '16568', time=30450.00.\n"
     ]
    },
    {
     "name": "stdout",
     "output_type": "stream",
     "text": [
      "Step #30400.00 (5ms ~= 200.00*RT, ~15600.00UPS, TraCI: 15ms, vehicles TOT 104 ACT 78 BUF 1\r"
     ]
    },
    {
     "name": "stderr",
     "output_type": "stream",
     "text": [
      "Warning: Person 'person13942' is jammed on edge '16568', time=30547.00.\n"
     ]
    },
    {
     "name": "stdout",
     "output_type": "stream",
     "text": [
      "30600#30500.00 (5ms ~= 200.00*RT, ~15400.00UPS, TraCI: 15ms, vehicles TOT 104 ACT 77 BUF 1\n"
     ]
    },
    {
     "name": "stderr",
     "output_type": "stream",
     "text": [
      "Warning: Person 'person9835' is jammed on edge '16599', time=30660.00.\n"
     ]
    },
    {
     "name": "stdout",
     "output_type": "stream",
     "text": [
      "Step #30700.00 (4ms ~= 250.00*RT, ~20750.00UPS, TraCI: 17ms, vehicles TOT 110 ACT 83 BUF 3\r"
     ]
    },
    {
     "name": "stderr",
     "output_type": "stream",
     "text": [
      "Warning: Person 'person9910' is jammed on edge '16620', time=30703.00.\n",
      "Warning: Person 'person10356' is jammed on edge '16620', time=30706.00.\n",
      "Warning: Person 'person10967' is jammed on edge '16568', time=30708.00.\n",
      "Warning: Person 'person7943' is jammed on edge '16599', time=30749.00.\n",
      "Warning: Person 'person9801' is jammed on edge '16599', time=30763.00.\n",
      "Warning: Person 'person3553' is jammed on edge '2296', time=30789.00.\n"
     ]
    },
    {
     "name": "stdout",
     "output_type": "stream",
     "text": [
      "30800\n",
      "Step #30900.00 (4ms ~= 250.00*RT, ~21000.00UPS, TraCI: 252ms, vehicles TOT 112 ACT 84 BUF \r"
     ]
    },
    {
     "name": "stderr",
     "output_type": "stream",
     "text": [
      "Warning: Person 'person9823' is jammed on edge '16620', time=30903.00.\n",
      "Warning: Person 'person8885' is jammed on edge '16620', time=30906.00.\n",
      "Warning: Person 'person9191' is jammed on edge '16620', time=30935.00.\n",
      "Warning: Person 'person2817' is jammed on edge '2296', time=30987.00.\n"
     ]
    },
    {
     "name": "stdout",
     "output_type": "stream",
     "text": [
      "31000\n",
      "Step #31000.00 (4ms ~= 250.00*RT, ~21000.00UPS, TraCI: 17ms, vehicles TOT 112 ACT 84 BUF 3\r"
     ]
    },
    {
     "name": "stderr",
     "output_type": "stream",
     "text": [
      "Warning: Person 'person8976' is jammed on edge '16620', time=31005.00.\n",
      "Warning: Person 'person9990' is jammed on edge '16620', time=31011.00.\n",
      "Warning: busStop 'busStop_-16517_0_1557' for vehicle 'Route1_trip173801020_08:40:00' on lane '-16517_0' set to end at 31554.00 earlier than previous stop at 33000.00.\n",
      "Warning: busStop 'busStop_-2074_0_1351' for vehicle 'Route1_trip173801020_08:40:00' on lane '-2074_0' set to end at 31200.00 earlier than previous stop at 31763.00.\n",
      "Warning: Person 'person3189' is jammed on edge '2296', time=31063.00.\n",
      "Warning: Person 'person9799' is jammed on edge '16620', time=31118.00.\n"
     ]
    },
    {
     "name": "stdout",
     "output_type": "stream",
     "text": [
      "Step #31100.00 (5ms ~= 200.00*RT, ~16800.00UPS, TraCI: 16ms, vehicles TOT 112 ACT 84 BUF 3\r"
     ]
    },
    {
     "name": "stderr",
     "output_type": "stream",
     "text": [
      "Warning: Person 'person8787' is jammed on edge '16599', time=31143.00.\n",
      "Warning: Person 'person9798' is jammed on edge '16599', time=31146.00.\n",
      "Warning: Person 'person8961' is jammed on edge '16599', time=31168.00.\n",
      "Warning: Person 'person8727' is jammed on edge '16599', time=31188.00.\n"
     ]
    },
    {
     "name": "stdout",
     "output_type": "stream",
     "text": [
      "31200\n",
      "Step #31200.00 (5ms ~= 200.00*RT, ~18000.00UPS, TraCI: 245ms, vehicles TOT 118 ACT 90 BUF \r"
     ]
    },
    {
     "name": "stderr",
     "output_type": "stream",
     "text": [
      "Warning: Person 'person8848' is jammed on edge '16620', time=31205.00.\n",
      "Warning: Person 'person8754' is jammed on edge '16620', time=31209.00.\n",
      "Warning: Person 'person3472' is jammed on edge '2296', time=31222.00.\n",
      "Warning: Person 'person8738' is jammed on edge '16599', time=31285.00.\n",
      "Warning: Person 'person8789' is jammed on edge '16620', time=31312.00.\n",
      "Warning: Person 'person8775' is jammed on edge '16620', time=31314.00.\n"
     ]
    },
    {
     "name": "stdout",
     "output_type": "stream",
     "text": [
      "Step #31300.00 (5ms ~= 200.00*RT, ~18000.00UPS, TraCI: 18ms, vehicles TOT 118 ACT 90 BUF 3\r"
     ]
    },
    {
     "name": "stderr",
     "output_type": "stream",
     "text": [
      "Warning: Person 'person8997' is jammed on edge '16599', time=31355.00.\n"
     ]
    },
    {
     "name": "stdout",
     "output_type": "stream",
     "text": [
      "31400\n",
      "Step #31400.00 (4ms ~= 250.00*RT, ~22500.00UPS, TraCI: 22ms, vehicles TOT 118 ACT 90 BUF 3\r"
     ]
    },
    {
     "name": "stderr",
     "output_type": "stream",
     "text": [
      "Warning: Person 'person10355' is jammed on edge '16599', time=31448.00.\n"
     ]
    },
    {
     "name": "stdout",
     "output_type": "stream",
     "text": [
      "Step #31500.00 (5ms ~= 200.00*RT, ~19400.00UPS, TraCI: 238ms, vehicles TOT 125 ACT 97 BUF \r"
     ]
    },
    {
     "name": "stderr",
     "output_type": "stream",
     "text": [
      "Warning: Person 'person9824' is jammed on edge '16599', time=31529.00.\n",
      "Warning: Person 'person10754' is jammed on edge '16568', time=31537.00.\n",
      "Warning: Person 'person8757' is jammed on edge '16599', time=31587.00.\n",
      "Warning: Person 'person8757' is jammed on edge '16599', time=31589.00.\n"
     ]
    },
    {
     "name": "stdout",
     "output_type": "stream",
     "text": [
      "31600\n"
     ]
    },
    {
     "name": "stderr",
     "output_type": "stream",
     "text": [
      "Warning: Person 'person10855' is jammed on edge '16568', time=31630.00.\n",
      "Warning: Person 'person8959' is jammed on edge '16599', time=31633.00.\n"
     ]
    },
    {
     "name": "stdout",
     "output_type": "stream",
     "text": [
      "Step #31600.00 (5ms ~= 200.00*RT, ~19800.00UPS, TraCI: 20ms, vehicles TOT 127 ACT 99 BUF 5\r"
     ]
    },
    {
     "name": "stderr",
     "output_type": "stream",
     "text": [
      "Warning: busStop 'busStop_-29571_0_161' on lane '-29571_0' is too short for vehicle 'Route1_trip173837020_08:50:00'.\n",
      "Warning: Person 'person13958' is jammed on edge '16568', time=31771.00.\n",
      "Warning: Person 'person9880' is jammed on edge '16599', time=31774.00.\n"
     ]
    },
    {
     "name": "stdout",
     "output_type": "stream",
     "text": [
      "Step #31700.00 (4ms ~= 250.00*RT, ~25000.00UPS, TraCI: 20ms, vehicles TOT 128 ACT 100 BUF \r"
     ]
    },
    {
     "name": "stderr",
     "output_type": "stream",
     "text": [
      "Warning: Person 'person13962' is jammed on edge '16568', time=31796.00.\n"
     ]
    },
    {
     "name": "stdout",
     "output_type": "stream",
     "text": [
      "31800\n"
     ]
    },
    {
     "name": "stderr",
     "output_type": "stream",
     "text": [
      "Warning: Person 'person8845' is jammed on edge '16599', time=31889.00.\n",
      "Warning: Person 'person9245' is jammed on edge '16599', time=31890.00.\n",
      "Warning: Person 'person8850' is jammed on edge '16599', time=31893.00.\n"
     ]
    },
    {
     "name": "stdout",
     "output_type": "stream",
     "text": [
      "Step #31800.00 (5ms ~= 200.00*RT, ~20600.00UPS, TraCI: 248ms, vehicles TOT 131 ACT 103 BUF\r"
     ]
    },
    {
     "name": "stderr",
     "output_type": "stream",
     "text": [
      "Warning: Person 'person13966' is jammed on edge '16568', time=31921.00.\n"
     ]
    },
    {
     "name": "stdout",
     "output_type": "stream",
     "text": [
      "Step #31900.00 (5ms ~= 200.00*RT, ~20600.00UPS, TraCI: 20ms, vehicles TOT 131 ACT 103 BUF \r"
     ]
    },
    {
     "name": "stderr",
     "output_type": "stream",
     "text": [
      "Warning: Person 'person14036' is jammed on edge '16568', time=31932.00.\n",
      "Warning: Person 'person12832' is jammed on edge '-16160', time=31935.00.\n",
      "Warning: Person 'person12999' is jammed on edge '-16160', time=31950.00.\n"
     ]
    },
    {
     "name": "stdout",
     "output_type": "stream",
     "text": [
      "32000\n"
     ]
    },
    {
     "name": "stderr",
     "output_type": "stream",
     "text": [
      "Warning: Person 'person7979' is jammed on edge '-16160', time=32010.00.\n"
     ]
    },
    {
     "name": "stdout",
     "output_type": "stream",
     "text": [
      "Step #32000.00 (5ms ~= 200.00*RT, ~20600.00UPS, TraCI: 21ms, vehicles TOT 131 ACT 103 BUF \r"
     ]
    },
    {
     "name": "stderr",
     "output_type": "stream",
     "text": [
      "Warning: Person 'person5419' is jammed on edge '2296', time=32059.00.\n",
      "Warning: Person 'person8735' is jammed on edge '16599', time=32134.00.\n"
     ]
    },
    {
     "name": "stdout",
     "output_type": "stream",
     "text": [
      "Step #32100.00 (5ms ~= 200.00*RT, ~21200.00UPS, TraCI: 226ms, vehicles TOT 134 ACT 106 BUF\r"
     ]
    },
    {
     "name": "stderr",
     "output_type": "stream",
     "text": [
      "Warning: Person 'person10359' is jammed on edge '16599', time=32173.00.\n",
      "Warning: Person 'person10696' is jammed on edge '16568', time=32191.00.\n",
      "Warning: Person 'person8845' is jammed on edge '16599', time=32191.00.\n"
     ]
    },
    {
     "name": "stdout",
     "output_type": "stream",
     "text": [
      "32200\n"
     ]
    },
    {
     "name": "stderr",
     "output_type": "stream",
     "text": [
      "Warning: Person 'person3170' is jammed on edge '2296', time=32263.00.\n",
      "Warning: Person 'person8734' is jammed on edge '16599', time=32269.00.\n"
     ]
    },
    {
     "name": "stdout",
     "output_type": "stream",
     "text": [
      "Step #32200.00 (4ms ~= 250.00*RT, ~26500.00UPS, TraCI: 22ms, vehicles TOT 134 ACT 106 BUF \r"
     ]
    },
    {
     "name": "stderr",
     "output_type": "stream",
     "text": [
      "Warning: Person 'person9197' is jammed on edge '16599', time=32293.00.\n",
      "Warning: Person 'person10590' is jammed on edge '16568', time=32295.00.\n"
     ]
    }
   ],
   "source": [
    "start_t = time.time()\n",
    "traci.start(sumo_cmd, label=str(random.randint(10000, 50000)))\n",
    "\n",
    "log = {}\n",
    "while traci.simulation.getTime() < 32400:\n",
    "    step = int(traci.simulation.getTime())\n",
    "    if step % 200 == 0:\n",
    "        print(step)\n",
    "\n",
    "    if step % INTERVAL == 0:\n",
    "        if step in edge_data_by_step:\n",
    "            for item in edge_data_by_step[step]:\n",
    "                traci.edge.setMaxSpeed(item['edge_id'], item['speed'])\n",
    "    \n",
    "    veh_ids = traci.vehicle.getIDList()\n",
    "    for veh in veh_ids:\n",
    "        if veh not in log:\n",
    "            log[veh] = []\n",
    "        edge = traci.vehicle.getRoadID(veh)\n",
    "        log[veh].append({'step': step, 'speed': traci.vehicle.getSpeed(veh), 'edge': edge,                \n",
    "            'distance': traci.vehicle.getDistance(veh), 'fuel_consumption': traci.vehicle.getFuelConsumption(veh),\n",
    "            'position': traci.vehicle.getPosition(veh), 'waiting_time': traci.vehicle.getWaitingTime(veh),\n",
    "            'accumulated_waiting_time': traci.vehicle.getAccumulatedWaitingTime(veh)})\n",
    "\n",
    "    traci.simulationStep()\n",
    "\n",
    "traci.close()\n",
    "\n",
    "finish_t = time.time()"
   ]
  },
  {
   "cell_type": "code",
   "execution_count": 36,
   "id": "62389a1e",
   "metadata": {},
   "outputs": [
    {
     "data": {
      "text/plain": [
       "197.0361635684967"
      ]
     },
     "execution_count": 36,
     "metadata": {},
     "output_type": "execute_result"
    }
   ],
   "source": [
    "finish_t - start_t"
   ]
  },
  {
   "cell_type": "code",
   "execution_count": 37,
   "id": "125fc17e",
   "metadata": {},
   "outputs": [],
   "source": [
    "pickle.dump(log, open('output/bus_data_removed_background.pkl', 'wb'))"
   ]
  }
 ],
 "metadata": {
  "kernelspec": {
   "display_name": "Python3 (tf-gpu)",
   "language": "python",
   "name": "tf-gpu"
  },
  "language_info": {
   "codemirror_mode": {
    "name": "ipython",
    "version": 3
   },
   "file_extension": ".py",
   "mimetype": "text/x-python",
   "name": "python",
   "nbconvert_exporter": "python",
   "pygments_lexer": "ipython3",
   "version": "3.9.7"
  }
 },
 "nbformat": 4,
 "nbformat_minor": 5
}
