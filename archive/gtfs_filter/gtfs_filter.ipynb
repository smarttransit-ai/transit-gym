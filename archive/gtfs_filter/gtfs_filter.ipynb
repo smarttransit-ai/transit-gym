{
  "cells": [
    {
      "cell_type": "code",
      "execution_count": 3,
      "metadata": {},
      "outputs": [],
      "source": [
        "import gtfs_functions as gtfs\n",
        "import pandas as pd"
      ]
    },
    {
      "cell_type": "code",
      "execution_count": 4,
      "metadata": {},
      "outputs": [],
      "source": [
        "apc_df =  pd.read_parquet('./carta-apc.parquet/2021_10_24_gtfs_days', engine='pyarrow').sort_values('transit_date').reset_index(drop=True)\n",
        "apc_df = apc_df[apc_df['gtfs_trip_id']>='204888020']\n",
        "routes, stops, stop_times, trips, shapes = gtfs.import_gtfs('./20220111.zip', busiest_date=False)"
      ]
    },
    {
      "cell_type": "code",
      "execution_count": 7,
      "metadata": {
        "colab": {
          "base_uri": "https://localhost:8080/"
        },
        "id": "InKAyifjd1-j",
        "outputId": "48a6f651-a92f-4686-fee6-fc8ebe866681"
      },
      "outputs": [],
      "source": [
        "apc_df = apc_df[apc_df.transit_date=='2022-01-11']"
      ]
    },
    {
      "cell_type": "code",
      "execution_count": 14,
      "metadata": {},
      "outputs": [],
      "source": [
        "unique_trp = apc_df.trip_id.unique()"
      ]
    },
    {
      "cell_type": "code",
      "execution_count": 75,
      "metadata": {
        "id": "bkk0fTaCd1-l"
      },
      "outputs": [],
      "source": [
        "import pandas as pd\n",
        "import json\n",
        "df1 = pd.read_csv(\"./2021-10-24/trips.txt\", sep=\",\")\n",
        "df2 = pd.read_csv(\"./2021-10-24/stop_times.txt\", sep=\",\")\n",
        "df3 = pd.read_csv(\"./2021-10-24/stops.txt\", sep=\",\")\n",
        "df4 = pd.read_csv(\"./2021-10-24/shapes.txt\", sep=\",\")\n",
        "df5 = pd.read_csv(\"./2021-10-24/routes.txt\", sep=\",\")\n",
        "\n",
        "trips = unique_trp\n",
        "trips = list(map(int, trips))\n",
        "\n",
        "df1_fil  = pd.DataFrame(columns = df1.columns)\n",
        "df2_fil  = pd.DataFrame(columns = df2.columns)\n",
        "\n",
        "indices = []\n",
        "for trip in trips:\n",
        "    for index, row in df1.iterrows():       \n",
        "        if trip == int(row['trip_id']/1000):\n",
        "            \n",
        "            indices.append(index)\n",
        "            df1_fil.append(row, ignore_index=True)\n",
        "            break\n",
        "\n",
        "df1_fil = df1.iloc[indices].reset_index(drop=True)\n",
        "\n",
        "#removing route 10C\n",
        "df1_fil = df1_fil[df1_fil.route_id != '10C'].reset_index(drop=True)\n",
        "\n",
        "trips = df1_fil.trip_id.unique()\n"
      ]
    },
    {
      "cell_type": "code",
      "execution_count": 90,
      "metadata": {},
      "outputs": [],
      "source": [
        "df2_fil = df1_fil[['trip_id']].merge(df2, on ='trip_id', how='left', indicator=True)\n",
        "df2_fil = df2_fil[df2_fil._merge == 'both'].drop('_merge', axis=1).sort_values(['arrival_time', 'trip_id']).reset_index(drop=True)"
      ]
    },
    {
      "cell_type": "code",
      "execution_count": 56,
      "metadata": {},
      "outputs": [],
      "source": [
        "df3_fil = df2_fil.drop_duplicates(subset=['stop_id'])[['stop_id']].merge(df3, on ='stop_id', how='left', indicator=True)\n",
        "df3_fil = df3_fil[df3_fil._merge == 'both'].drop('_merge', axis=1).reset_index(drop=True)"
      ]
    },
    {
      "cell_type": "code",
      "execution_count": 68,
      "metadata": {},
      "outputs": [],
      "source": [
        "df4_fil = df1_fil.drop_duplicates(subset=['shape_id'])[['shape_id']].merge(df4, on ='shape_id', how='left', indicator=True)\n",
        "df4_fil = df4_fil[df4_fil._merge == 'both'].drop('_merge', axis=1).reset_index(drop=True)"
      ]
    },
    {
      "cell_type": "code",
      "execution_count": 80,
      "metadata": {},
      "outputs": [],
      "source": [
        "df5_fil = df1_fil.drop_duplicates(subset=['route_id'])[['route_id']].merge(df5, on ='route_id', how='left', indicator=True)\n",
        "df5_fil = df5_fil[df5_fil._merge == 'both'].drop('_merge', axis=1).sort_values('route_id').reset_index(drop=True)"
      ]
    },
    {
      "cell_type": "code",
      "execution_count": 92,
      "metadata": {
        "id": "aoHOmZZVfFoq"
      },
      "outputs": [],
      "source": [
        "#write to txt\n",
        "df1_fil.to_csv(r'./20220111-APCtrips/trips.txt', header=True, index=None, sep=',', mode='a')\n",
        "df2_fil.to_csv(r'./20220111-APCtrips/stop_times.txt', header=True, index=None, sep=',', mode='a')\n",
        "df3_fil.to_csv(r'./20220111-APCtrips/stops.txt', header=True, index=None, sep=',', mode='a')\n",
        "df4_fil.to_csv(r'./20220111-APCtrips/shapes.txt', header=True, index=None, sep=',', mode='a')\n",
        "df5_fil.to_csv(r'./20220111-APCtrips/routes.txt', header=True, index=None, sep=',', mode='a')"
      ]
    }
  ],
  "metadata": {
    "colab": {
      "name": "trips_filtering.ipynb",
      "provenance": []
    },
    "kernelspec": {
      "display_name": "Python 3.7.9 64-bit",
      "language": "python",
      "name": "python3"
    },
    "language_info": {
      "codemirror_mode": {
        "name": "ipython",
        "version": 3
      },
      "file_extension": ".py",
      "mimetype": "text/x-python",
      "name": "python",
      "nbconvert_exporter": "python",
      "pygments_lexer": "ipython3",
      "version": "3.7.9"
    },
    "orig_nbformat": 4,
    "vscode": {
      "interpreter": {
        "hash": "c4d0005f5e14f7c00ac58c488a6489dbdddabe86817daaefe3a462e64eae13df"
      }
    }
  },
  "nbformat": 4,
  "nbformat_minor": 0
}
